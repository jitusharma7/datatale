{
  "nbformat": 4,
  "nbformat_minor": 0,
  "metadata": {
    "colab": {
      "name": "glim.ipynb",
      "provenance": [],
      "collapsed_sections": [],
      "toc_visible": true
    },
    "kernelspec": {
      "name": "python3",
      "display_name": "Python 3"
    }
  },
  "cells": [
    {
      "cell_type": "code",
      "metadata": {
        "id": "Ob1U6G48GVUk"
      },
      "source": [
        "#Importing required libraries\r\n",
        "import pandas as pd\r\n",
        "import numpy as np\r\n",
        "from sklearn.metrics import classification_report,accuracy_score, confusion_matrix,roc_curve, roc_auc_score\r\n",
        "from sklearn.model_selection import train_test_split,GridSearchCV,RandomizedSearchCV\r\n",
        "from sklearn.linear_model import LogisticRegression\r\n",
        "from sklearn.preprocessing import LabelEncoder\r\n",
        "from sklearn.naive_bayes import MultinomialNB\r\n",
        "from sklearn.tree import DecisionTreeClassifier\r\n",
        "from sklearn.ensemble import RandomForestClassifier\r\n",
        "from sklearn import svm\r\n",
        "from sklearn import preprocessing\r\n",
        "import xgboost as xgb\r\n",
        "from sklearn.feature_selection import RFE\r\n",
        "from imblearn.over_sampling import SMOTE\r\n",
        "from xgboost import plot_importance\r\n",
        "from collections import Counter\r\n",
        "import matplotlib.pyplot as plt\r\n",
        "from scipy.stats import uniform,randint\r\n"
      ],
      "execution_count": 6,
      "outputs": []
    },
    {
      "cell_type": "code",
      "metadata": {
        "id": "DwLLD-G0GkN7"
      },
      "source": [
        "#Reading the dataset\r\n",
        "df_train = pd.read_csv(\"Training Data.csv\")\r\n",
        "df_test = pd.read_csv(\"Test Data.csv\")"
      ],
      "execution_count": 7,
      "outputs": []
    },
    {
      "cell_type": "markdown",
      "metadata": {
        "id": "VYhUGoyaG0M_"
      },
      "source": [
        "# Data Profiling"
      ]
    },
    {
      "cell_type": "code",
      "metadata": {
        "colab": {
          "base_uri": "https://localhost:8080/"
        },
        "id": "-BJ4Y2duGq1G",
        "outputId": "2bf0f619-254e-4642-e082-8113117fde6b"
      },
      "source": [
        "print(df_train.shape)\r\n",
        "print(df_test.shape)"
      ],
      "execution_count": 8,
      "outputs": [
        {
          "output_type": "stream",
          "text": [
            "(6296, 18)\n",
            "(1080, 18)\n"
          ],
          "name": "stdout"
        }
      ]
    },
    {
      "cell_type": "code",
      "metadata": {
        "colab": {
          "base_uri": "https://localhost:8080/"
        },
        "id": "D7nKGZ2YG9wi",
        "outputId": "90fedad1-5921-44b5-e1a0-426c75632aef"
      },
      "source": [
        "df_train.isnull().sum()"
      ],
      "execution_count": 9,
      "outputs": [
        {
          "output_type": "execute_result",
          "data": {
            "text/plain": [
              "SLNO                           0\n",
              "Candidate Ref                  0\n",
              "DOJ Extended                   0\n",
              "Duration to accept offer       0\n",
              "Notice period                  0\n",
              "Offered band                   0\n",
              "Pecent hike expected in CTC    0\n",
              "Percent hike offered in CTC    0\n",
              "Percent difference CTC         0\n",
              "Joining Bonus                  0\n",
              "Candidate relocate actual      0\n",
              "Gender                         0\n",
              "Candidate Source               0\n",
              "Rex in Yrs                     0\n",
              "LOB                            0\n",
              "Location                       0\n",
              "Age                            0\n",
              "Status                         0\n",
              "dtype: int64"
            ]
          },
          "metadata": {
            "tags": []
          },
          "execution_count": 9
        }
      ]
    },
    {
      "cell_type": "code",
      "metadata": {
        "colab": {
          "base_uri": "https://localhost:8080/",
          "height": 301
        },
        "id": "ZWHPblebcgfX",
        "outputId": "9168f864-eb43-46cc-d864-93a7e79d1c6b"
      },
      "source": [
        "df_train.drop(['SLNO','Candidate Ref'],axis=1).describe()"
      ],
      "execution_count": 10,
      "outputs": [
        {
          "output_type": "execute_result",
          "data": {
            "text/html": [
              "<div>\n",
              "<style scoped>\n",
              "    .dataframe tbody tr th:only-of-type {\n",
              "        vertical-align: middle;\n",
              "    }\n",
              "\n",
              "    .dataframe tbody tr th {\n",
              "        vertical-align: top;\n",
              "    }\n",
              "\n",
              "    .dataframe thead th {\n",
              "        text-align: right;\n",
              "    }\n",
              "</style>\n",
              "<table border=\"1\" class=\"dataframe\">\n",
              "  <thead>\n",
              "    <tr style=\"text-align: right;\">\n",
              "      <th></th>\n",
              "      <th>Duration to accept offer</th>\n",
              "      <th>Notice period</th>\n",
              "      <th>Pecent hike expected in CTC</th>\n",
              "      <th>Percent hike offered in CTC</th>\n",
              "      <th>Percent difference CTC</th>\n",
              "      <th>Rex in Yrs</th>\n",
              "      <th>Age</th>\n",
              "    </tr>\n",
              "  </thead>\n",
              "  <tbody>\n",
              "    <tr>\n",
              "      <th>count</th>\n",
              "      <td>6296.000000</td>\n",
              "      <td>6296.000000</td>\n",
              "      <td>6296.000000</td>\n",
              "      <td>6296.000000</td>\n",
              "      <td>6296.000000</td>\n",
              "      <td>6296.000000</td>\n",
              "      <td>6296.000000</td>\n",
              "    </tr>\n",
              "    <tr>\n",
              "      <th>mean</th>\n",
              "      <td>21.413119</td>\n",
              "      <td>39.475064</td>\n",
              "      <td>44.043980</td>\n",
              "      <td>40.645801</td>\n",
              "      <td>-1.714808</td>\n",
              "      <td>4.238088</td>\n",
              "      <td>29.941074</td>\n",
              "    </tr>\n",
              "    <tr>\n",
              "      <th>std</th>\n",
              "      <td>25.902967</td>\n",
              "      <td>22.007797</td>\n",
              "      <td>30.545948</td>\n",
              "      <td>36.589521</td>\n",
              "      <td>19.423642</td>\n",
              "      <td>2.546287</td>\n",
              "      <td>4.057943</td>\n",
              "    </tr>\n",
              "    <tr>\n",
              "      <th>min</th>\n",
              "      <td>0.000000</td>\n",
              "      <td>0.000000</td>\n",
              "      <td>-62.500000</td>\n",
              "      <td>-60.530000</td>\n",
              "      <td>-66.670000</td>\n",
              "      <td>0.000000</td>\n",
              "      <td>20.000000</td>\n",
              "    </tr>\n",
              "    <tr>\n",
              "      <th>25%</th>\n",
              "      <td>3.000000</td>\n",
              "      <td>30.000000</td>\n",
              "      <td>27.270000</td>\n",
              "      <td>21.880000</td>\n",
              "      <td>-8.570000</td>\n",
              "      <td>3.000000</td>\n",
              "      <td>27.000000</td>\n",
              "    </tr>\n",
              "    <tr>\n",
              "      <th>50%</th>\n",
              "      <td>9.000000</td>\n",
              "      <td>30.000000</td>\n",
              "      <td>40.000000</td>\n",
              "      <td>35.860000</td>\n",
              "      <td>0.000000</td>\n",
              "      <td>4.000000</td>\n",
              "      <td>30.000000</td>\n",
              "    </tr>\n",
              "    <tr>\n",
              "      <th>75%</th>\n",
              "      <td>33.000000</td>\n",
              "      <td>60.000000</td>\n",
              "      <td>54.037500</td>\n",
              "      <td>50.000000</td>\n",
              "      <td>0.000000</td>\n",
              "      <td>6.000000</td>\n",
              "      <td>34.000000</td>\n",
              "    </tr>\n",
              "    <tr>\n",
              "      <th>max</th>\n",
              "      <td>224.000000</td>\n",
              "      <td>120.000000</td>\n",
              "      <td>359.770000</td>\n",
              "      <td>471.430000</td>\n",
              "      <td>300.000000</td>\n",
              "      <td>24.000000</td>\n",
              "      <td>50.000000</td>\n",
              "    </tr>\n",
              "  </tbody>\n",
              "</table>\n",
              "</div>"
            ],
            "text/plain": [
              "       Duration to accept offer  Notice period  ...   Rex in Yrs          Age\n",
              "count               6296.000000    6296.000000  ...  6296.000000  6296.000000\n",
              "mean                  21.413119      39.475064  ...     4.238088    29.941074\n",
              "std                   25.902967      22.007797  ...     2.546287     4.057943\n",
              "min                    0.000000       0.000000  ...     0.000000    20.000000\n",
              "25%                    3.000000      30.000000  ...     3.000000    27.000000\n",
              "50%                    9.000000      30.000000  ...     4.000000    30.000000\n",
              "75%                   33.000000      60.000000  ...     6.000000    34.000000\n",
              "max                  224.000000     120.000000  ...    24.000000    50.000000\n",
              "\n",
              "[8 rows x 7 columns]"
            ]
          },
          "metadata": {
            "tags": []
          },
          "execution_count": 10
        }
      ]
    },
    {
      "cell_type": "markdown",
      "metadata": {
        "id": "W3KqwyafHPuK"
      },
      "source": [
        "**Observation:**\r\n",
        "* Percent hike expected has a minimum value of -68%.\r\n",
        "* Percent hike offered has a minimum value of -60%.\r\n",
        "* It seems like some people have offered less CTC than previous CTC"
      ]
    },
    {
      "cell_type": "markdown",
      "metadata": {
        "id": "QHSqOyfUenRh"
      },
      "source": [
        "# Data preparation and analysis"
      ]
    },
    {
      "cell_type": "code",
      "metadata": {
        "id": "kAyxr2dAb03t"
      },
      "source": [
        "#Encoding the target variable\r\n",
        "df_train['Status'] = np.where(df_train['Status'] == 'Joined', 1, 0)\r\n",
        "df_test['Status'] = np.where(df_test['Status'] == 'Joined', 1, 0)"
      ],
      "execution_count": 11,
      "outputs": []
    },
    {
      "cell_type": "markdown",
      "metadata": {
        "id": "xceB-NhSfpHb"
      },
      "source": [
        "Observation:\r\n",
        "* Joined = 1\r\n",
        "* Not joined = 0"
      ]
    },
    {
      "cell_type": "code",
      "metadata": {
        "colab": {
          "base_uri": "https://localhost:8080/",
          "height": 249
        },
        "id": "B7FF-EYRclmh",
        "outputId": "c7412737-8080-4bfe-cd15-f4fb4c86cc1a"
      },
      "source": [
        "#Dropping SLNO , Candidate Ref and Location because of high cardinality\r\n",
        "df_train.drop(['SLNO','Candidate Ref','Location'],axis=1,inplace=True)\r\n",
        "df_test.drop(['SLNO','Candidate Ref','Location'],axis=1,inplace=True)\r\n",
        "\r\n",
        "#Correlation map for training data\r\n",
        "df_train.corr().style.background_gradient(cmap='coolwarm')"
      ],
      "execution_count": 12,
      "outputs": [
        {
          "output_type": "execute_result",
          "data": {
            "text/html": [
              "<style  type=\"text/css\" >\n",
              "#T_6cecfc20_75cc_11eb_9505_0242ac1c0002row0_col0,#T_6cecfc20_75cc_11eb_9505_0242ac1c0002row1_col1,#T_6cecfc20_75cc_11eb_9505_0242ac1c0002row2_col2,#T_6cecfc20_75cc_11eb_9505_0242ac1c0002row3_col3,#T_6cecfc20_75cc_11eb_9505_0242ac1c0002row4_col4,#T_6cecfc20_75cc_11eb_9505_0242ac1c0002row5_col5,#T_6cecfc20_75cc_11eb_9505_0242ac1c0002row6_col6,#T_6cecfc20_75cc_11eb_9505_0242ac1c0002row7_col7{\n",
              "            background-color:  #b40426;\n",
              "            color:  #f1f1f1;\n",
              "        }#T_6cecfc20_75cc_11eb_9505_0242ac1c0002row0_col1{\n",
              "            background-color:  #cfdaea;\n",
              "            color:  #000000;\n",
              "        }#T_6cecfc20_75cc_11eb_9505_0242ac1c0002row0_col2{\n",
              "            background-color:  #7a9df8;\n",
              "            color:  #000000;\n",
              "        }#T_6cecfc20_75cc_11eb_9505_0242ac1c0002row0_col3{\n",
              "            background-color:  #5d7ce6;\n",
              "            color:  #000000;\n",
              "        }#T_6cecfc20_75cc_11eb_9505_0242ac1c0002row0_col4,#T_6cecfc20_75cc_11eb_9505_0242ac1c0002row0_col6,#T_6cecfc20_75cc_11eb_9505_0242ac1c0002row6_col1{\n",
              "            background-color:  #6384eb;\n",
              "            color:  #000000;\n",
              "        }#T_6cecfc20_75cc_11eb_9505_0242ac1c0002row0_col5{\n",
              "            background-color:  #93b5fe;\n",
              "            color:  #000000;\n",
              "        }#T_6cecfc20_75cc_11eb_9505_0242ac1c0002row0_col7,#T_6cecfc20_75cc_11eb_9505_0242ac1c0002row1_col3,#T_6cecfc20_75cc_11eb_9505_0242ac1c0002row2_col0,#T_6cecfc20_75cc_11eb_9505_0242ac1c0002row3_col5{\n",
              "            background-color:  #5572df;\n",
              "            color:  #000000;\n",
              "        }#T_6cecfc20_75cc_11eb_9505_0242ac1c0002row1_col0{\n",
              "            background-color:  #c0d4f5;\n",
              "            color:  #000000;\n",
              "        }#T_6cecfc20_75cc_11eb_9505_0242ac1c0002row1_col2,#T_6cecfc20_75cc_11eb_9505_0242ac1c0002row7_col6{\n",
              "            background-color:  #7396f5;\n",
              "            color:  #000000;\n",
              "        }#T_6cecfc20_75cc_11eb_9505_0242ac1c0002row1_col4{\n",
              "            background-color:  #5e7de7;\n",
              "            color:  #000000;\n",
              "        }#T_6cecfc20_75cc_11eb_9505_0242ac1c0002row1_col5{\n",
              "            background-color:  #a7c5fe;\n",
              "            color:  #000000;\n",
              "        }#T_6cecfc20_75cc_11eb_9505_0242ac1c0002row1_col6{\n",
              "            background-color:  #5977e3;\n",
              "            color:  #000000;\n",
              "        }#T_6cecfc20_75cc_11eb_9505_0242ac1c0002row1_col7,#T_6cecfc20_75cc_11eb_9505_0242ac1c0002row2_col4,#T_6cecfc20_75cc_11eb_9505_0242ac1c0002row2_col5,#T_6cecfc20_75cc_11eb_9505_0242ac1c0002row2_col6,#T_6cecfc20_75cc_11eb_9505_0242ac1c0002row5_col2,#T_6cecfc20_75cc_11eb_9505_0242ac1c0002row5_col3,#T_6cecfc20_75cc_11eb_9505_0242ac1c0002row7_col0,#T_6cecfc20_75cc_11eb_9505_0242ac1c0002row7_col1{\n",
              "            background-color:  #3b4cc0;\n",
              "            color:  #f1f1f1;\n",
              "        }#T_6cecfc20_75cc_11eb_9505_0242ac1c0002row2_col1{\n",
              "            background-color:  #6a8bef;\n",
              "            color:  #000000;\n",
              "        }#T_6cecfc20_75cc_11eb_9505_0242ac1c0002row2_col3{\n",
              "            background-color:  #f7a98b;\n",
              "            color:  #000000;\n",
              "        }#T_6cecfc20_75cc_11eb_9505_0242ac1c0002row2_col7{\n",
              "            background-color:  #6788ee;\n",
              "            color:  #000000;\n",
              "        }#T_6cecfc20_75cc_11eb_9505_0242ac1c0002row3_col0,#T_6cecfc20_75cc_11eb_9505_0242ac1c0002row6_col0{\n",
              "            background-color:  #536edd;\n",
              "            color:  #000000;\n",
              "        }#T_6cecfc20_75cc_11eb_9505_0242ac1c0002row3_col1{\n",
              "            background-color:  #6485ec;\n",
              "            color:  #000000;\n",
              "        }#T_6cecfc20_75cc_11eb_9505_0242ac1c0002row3_col2{\n",
              "            background-color:  #f59f80;\n",
              "            color:  #000000;\n",
              "        }#T_6cecfc20_75cc_11eb_9505_0242ac1c0002row3_col4{\n",
              "            background-color:  #f7bca1;\n",
              "            color:  #000000;\n",
              "        }#T_6cecfc20_75cc_11eb_9505_0242ac1c0002row3_col6,#T_6cecfc20_75cc_11eb_9505_0242ac1c0002row4_col2{\n",
              "            background-color:  #4a63d3;\n",
              "            color:  #f1f1f1;\n",
              "        }#T_6cecfc20_75cc_11eb_9505_0242ac1c0002row3_col7,#T_6cecfc20_75cc_11eb_9505_0242ac1c0002row7_col4{\n",
              "            background-color:  #7093f3;\n",
              "            color:  #000000;\n",
              "        }#T_6cecfc20_75cc_11eb_9505_0242ac1c0002row4_col0{\n",
              "            background-color:  #4e68d8;\n",
              "            color:  #000000;\n",
              "        }#T_6cecfc20_75cc_11eb_9505_0242ac1c0002row4_col1,#T_6cecfc20_75cc_11eb_9505_0242ac1c0002row5_col7{\n",
              "            background-color:  #6282ea;\n",
              "            color:  #000000;\n",
              "        }#T_6cecfc20_75cc_11eb_9505_0242ac1c0002row4_col3{\n",
              "            background-color:  #f5c0a7;\n",
              "            color:  #000000;\n",
              "        }#T_6cecfc20_75cc_11eb_9505_0242ac1c0002row4_col5{\n",
              "            background-color:  #8db0fe;\n",
              "            color:  #000000;\n",
              "        }#T_6cecfc20_75cc_11eb_9505_0242ac1c0002row4_col6,#T_6cecfc20_75cc_11eb_9505_0242ac1c0002row7_col5{\n",
              "            background-color:  #6c8ff1;\n",
              "            color:  #000000;\n",
              "        }#T_6cecfc20_75cc_11eb_9505_0242ac1c0002row4_col7{\n",
              "            background-color:  #7699f6;\n",
              "            color:  #000000;\n",
              "        }#T_6cecfc20_75cc_11eb_9505_0242ac1c0002row5_col0{\n",
              "            background-color:  #6f92f3;\n",
              "            color:  #000000;\n",
              "        }#T_6cecfc20_75cc_11eb_9505_0242ac1c0002row5_col1{\n",
              "            background-color:  #9fbfff;\n",
              "            color:  #000000;\n",
              "        }#T_6cecfc20_75cc_11eb_9505_0242ac1c0002row5_col4{\n",
              "            background-color:  #7ea1fa;\n",
              "            color:  #000000;\n",
              "        }#T_6cecfc20_75cc_11eb_9505_0242ac1c0002row5_col6{\n",
              "            background-color:  #f2c9b4;\n",
              "            color:  #000000;\n",
              "        }#T_6cecfc20_75cc_11eb_9505_0242ac1c0002row6_col2{\n",
              "            background-color:  #4f69d9;\n",
              "            color:  #000000;\n",
              "        }#T_6cecfc20_75cc_11eb_9505_0242ac1c0002row6_col3{\n",
              "            background-color:  #445acc;\n",
              "            color:  #f1f1f1;\n",
              "        }#T_6cecfc20_75cc_11eb_9505_0242ac1c0002row6_col4,#T_6cecfc20_75cc_11eb_9505_0242ac1c0002row7_col2{\n",
              "            background-color:  #7295f4;\n",
              "            color:  #000000;\n",
              "        }#T_6cecfc20_75cc_11eb_9505_0242ac1c0002row6_col5{\n",
              "            background-color:  #f5c1a9;\n",
              "            color:  #000000;\n",
              "        }#T_6cecfc20_75cc_11eb_9505_0242ac1c0002row6_col7{\n",
              "            background-color:  #7da0f9;\n",
              "            color:  #000000;\n",
              "        }#T_6cecfc20_75cc_11eb_9505_0242ac1c0002row7_col3{\n",
              "            background-color:  #6180e9;\n",
              "            color:  #000000;\n",
              "        }</style><table id=\"T_6cecfc20_75cc_11eb_9505_0242ac1c0002\" ><thead>    <tr>        <th class=\"blank level0\" ></th>        <th class=\"col_heading level0 col0\" >Duration to accept offer</th>        <th class=\"col_heading level0 col1\" >Notice period</th>        <th class=\"col_heading level0 col2\" >Pecent hike expected in CTC</th>        <th class=\"col_heading level0 col3\" >Percent hike offered in CTC</th>        <th class=\"col_heading level0 col4\" >Percent difference CTC</th>        <th class=\"col_heading level0 col5\" >Rex in Yrs</th>        <th class=\"col_heading level0 col6\" >Age</th>        <th class=\"col_heading level0 col7\" >Status</th>    </tr></thead><tbody>\n",
              "                <tr>\n",
              "                        <th id=\"T_6cecfc20_75cc_11eb_9505_0242ac1c0002level0_row0\" class=\"row_heading level0 row0\" >Duration to accept offer</th>\n",
              "                        <td id=\"T_6cecfc20_75cc_11eb_9505_0242ac1c0002row0_col0\" class=\"data row0 col0\" >1.000000</td>\n",
              "                        <td id=\"T_6cecfc20_75cc_11eb_9505_0242ac1c0002row0_col1\" class=\"data row0 col1\" >0.354864</td>\n",
              "                        <td id=\"T_6cecfc20_75cc_11eb_9505_0242ac1c0002row0_col2\" class=\"data row0 col2\" >0.021113</td>\n",
              "                        <td id=\"T_6cecfc20_75cc_11eb_9505_0242ac1c0002row0_col3\" class=\"data row0 col3\" >0.012202</td>\n",
              "                        <td id=\"T_6cecfc20_75cc_11eb_9505_0242ac1c0002row0_col4\" class=\"data row0 col4\" >-0.004422</td>\n",
              "                        <td id=\"T_6cecfc20_75cc_11eb_9505_0242ac1c0002row0_col5\" class=\"data row0 col5\" >0.105648</td>\n",
              "                        <td id=\"T_6cecfc20_75cc_11eb_9505_0242ac1c0002row0_col6\" class=\"data row0 col6\" >0.011136</td>\n",
              "                        <td id=\"T_6cecfc20_75cc_11eb_9505_0242ac1c0002row0_col7\" class=\"data row0 col7\" >-0.072932</td>\n",
              "            </tr>\n",
              "            <tr>\n",
              "                        <th id=\"T_6cecfc20_75cc_11eb_9505_0242ac1c0002level0_row1\" class=\"row_heading level0 row1\" >Notice period</th>\n",
              "                        <td id=\"T_6cecfc20_75cc_11eb_9505_0242ac1c0002row1_col0\" class=\"data row1 col0\" >0.354864</td>\n",
              "                        <td id=\"T_6cecfc20_75cc_11eb_9505_0242ac1c0002row1_col1\" class=\"data row1 col1\" >1.000000</td>\n",
              "                        <td id=\"T_6cecfc20_75cc_11eb_9505_0242ac1c0002row1_col2\" class=\"data row1 col2\" >-0.000581</td>\n",
              "                        <td id=\"T_6cecfc20_75cc_11eb_9505_0242ac1c0002row1_col3\" class=\"data row1 col3\" >-0.015999</td>\n",
              "                        <td id=\"T_6cecfc20_75cc_11eb_9505_0242ac1c0002row1_col4\" class=\"data row1 col4\" >-0.024190</td>\n",
              "                        <td id=\"T_6cecfc20_75cc_11eb_9505_0242ac1c0002row1_col5\" class=\"data row1 col5\" >0.178257</td>\n",
              "                        <td id=\"T_6cecfc20_75cc_11eb_9505_0242ac1c0002row1_col6\" class=\"data row1 col6\" >-0.020829</td>\n",
              "                        <td id=\"T_6cecfc20_75cc_11eb_9505_0242ac1c0002row1_col7\" class=\"data row1 col7\" >-0.175371</td>\n",
              "            </tr>\n",
              "            <tr>\n",
              "                        <th id=\"T_6cecfc20_75cc_11eb_9505_0242ac1c0002level0_row2\" class=\"row_heading level0 row2\" >Pecent hike expected in CTC</th>\n",
              "                        <td id=\"T_6cecfc20_75cc_11eb_9505_0242ac1c0002row2_col0\" class=\"data row2 col0\" >0.021113</td>\n",
              "                        <td id=\"T_6cecfc20_75cc_11eb_9505_0242ac1c0002row2_col1\" class=\"data row2 col1\" >-0.000581</td>\n",
              "                        <td id=\"T_6cecfc20_75cc_11eb_9505_0242ac1c0002row2_col2\" class=\"data row2 col2\" >1.000000</td>\n",
              "                        <td id=\"T_6cecfc20_75cc_11eb_9505_0242ac1c0002row2_col3\" class=\"data row2 col3\" >0.676502</td>\n",
              "                        <td id=\"T_6cecfc20_75cc_11eb_9505_0242ac1c0002row2_col4\" class=\"data row2 col4\" >-0.156460</td>\n",
              "                        <td id=\"T_6cecfc20_75cc_11eb_9505_0242ac1c0002row2_col5\" class=\"data row2 col5\" >-0.219504</td>\n",
              "                        <td id=\"T_6cecfc20_75cc_11eb_9505_0242ac1c0002row2_col6\" class=\"data row2 col6\" >-0.136061</td>\n",
              "                        <td id=\"T_6cecfc20_75cc_11eb_9505_0242ac1c0002row2_col7\" class=\"data row2 col7\" >-0.009722</td>\n",
              "            </tr>\n",
              "            <tr>\n",
              "                        <th id=\"T_6cecfc20_75cc_11eb_9505_0242ac1c0002level0_row3\" class=\"row_heading level0 row3\" >Percent hike offered in CTC</th>\n",
              "                        <td id=\"T_6cecfc20_75cc_11eb_9505_0242ac1c0002row3_col0\" class=\"data row3 col0\" >0.012202</td>\n",
              "                        <td id=\"T_6cecfc20_75cc_11eb_9505_0242ac1c0002row3_col1\" class=\"data row3 col1\" >-0.015999</td>\n",
              "                        <td id=\"T_6cecfc20_75cc_11eb_9505_0242ac1c0002row3_col2\" class=\"data row3 col2\" >0.676502</td>\n",
              "                        <td id=\"T_6cecfc20_75cc_11eb_9505_0242ac1c0002row3_col3\" class=\"data row3 col3\" >1.000000</td>\n",
              "                        <td id=\"T_6cecfc20_75cc_11eb_9505_0242ac1c0002row3_col4\" class=\"data row3 col4\" >0.600194</td>\n",
              "                        <td id=\"T_6cecfc20_75cc_11eb_9505_0242ac1c0002row3_col5\" class=\"data row3 col5\" >-0.111991</td>\n",
              "                        <td id=\"T_6cecfc20_75cc_11eb_9505_0242ac1c0002row3_col6\" class=\"data row3 col6\" >-0.076174</td>\n",
              "                        <td id=\"T_6cecfc20_75cc_11eb_9505_0242ac1c0002row3_col7\" class=\"data row3 col7\" >0.024593</td>\n",
              "            </tr>\n",
              "            <tr>\n",
              "                        <th id=\"T_6cecfc20_75cc_11eb_9505_0242ac1c0002level0_row4\" class=\"row_heading level0 row4\" >Percent difference CTC</th>\n",
              "                        <td id=\"T_6cecfc20_75cc_11eb_9505_0242ac1c0002row4_col0\" class=\"data row4 col0\" >-0.004422</td>\n",
              "                        <td id=\"T_6cecfc20_75cc_11eb_9505_0242ac1c0002row4_col1\" class=\"data row4 col1\" >-0.024190</td>\n",
              "                        <td id=\"T_6cecfc20_75cc_11eb_9505_0242ac1c0002row4_col2\" class=\"data row4 col2\" >-0.156460</td>\n",
              "                        <td id=\"T_6cecfc20_75cc_11eb_9505_0242ac1c0002row4_col3\" class=\"data row4 col3\" >0.600194</td>\n",
              "                        <td id=\"T_6cecfc20_75cc_11eb_9505_0242ac1c0002row4_col4\" class=\"data row4 col4\" >1.000000</td>\n",
              "                        <td id=\"T_6cecfc20_75cc_11eb_9505_0242ac1c0002row4_col5\" class=\"data row4 col5\" >0.086750</td>\n",
              "                        <td id=\"T_6cecfc20_75cc_11eb_9505_0242ac1c0002row4_col6\" class=\"data row4 col6\" >0.045246</td>\n",
              "                        <td id=\"T_6cecfc20_75cc_11eb_9505_0242ac1c0002row4_col7\" class=\"data row4 col7\" >0.041948</td>\n",
              "            </tr>\n",
              "            <tr>\n",
              "                        <th id=\"T_6cecfc20_75cc_11eb_9505_0242ac1c0002level0_row5\" class=\"row_heading level0 row5\" >Rex in Yrs</th>\n",
              "                        <td id=\"T_6cecfc20_75cc_11eb_9505_0242ac1c0002row5_col0\" class=\"data row5 col0\" >0.105648</td>\n",
              "                        <td id=\"T_6cecfc20_75cc_11eb_9505_0242ac1c0002row5_col1\" class=\"data row5 col1\" >0.178257</td>\n",
              "                        <td id=\"T_6cecfc20_75cc_11eb_9505_0242ac1c0002row5_col2\" class=\"data row5 col2\" >-0.219504</td>\n",
              "                        <td id=\"T_6cecfc20_75cc_11eb_9505_0242ac1c0002row5_col3\" class=\"data row5 col3\" >-0.111991</td>\n",
              "                        <td id=\"T_6cecfc20_75cc_11eb_9505_0242ac1c0002row5_col4\" class=\"data row5 col4\" >0.086750</td>\n",
              "                        <td id=\"T_6cecfc20_75cc_11eb_9505_0242ac1c0002row5_col5\" class=\"data row5 col5\" >1.000000</td>\n",
              "                        <td id=\"T_6cecfc20_75cc_11eb_9505_0242ac1c0002row5_col6\" class=\"data row5 col6\" >0.555119</td>\n",
              "                        <td id=\"T_6cecfc20_75cc_11eb_9505_0242ac1c0002row5_col7\" class=\"data row5 col7\" >-0.026525</td>\n",
              "            </tr>\n",
              "            <tr>\n",
              "                        <th id=\"T_6cecfc20_75cc_11eb_9505_0242ac1c0002level0_row6\" class=\"row_heading level0 row6\" >Age</th>\n",
              "                        <td id=\"T_6cecfc20_75cc_11eb_9505_0242ac1c0002row6_col0\" class=\"data row6 col0\" >0.011136</td>\n",
              "                        <td id=\"T_6cecfc20_75cc_11eb_9505_0242ac1c0002row6_col1\" class=\"data row6 col1\" >-0.020829</td>\n",
              "                        <td id=\"T_6cecfc20_75cc_11eb_9505_0242ac1c0002row6_col2\" class=\"data row6 col2\" >-0.136061</td>\n",
              "                        <td id=\"T_6cecfc20_75cc_11eb_9505_0242ac1c0002row6_col3\" class=\"data row6 col3\" >-0.076174</td>\n",
              "                        <td id=\"T_6cecfc20_75cc_11eb_9505_0242ac1c0002row6_col4\" class=\"data row6 col4\" >0.045246</td>\n",
              "                        <td id=\"T_6cecfc20_75cc_11eb_9505_0242ac1c0002row6_col5\" class=\"data row6 col5\" >0.555119</td>\n",
              "                        <td id=\"T_6cecfc20_75cc_11eb_9505_0242ac1c0002row6_col6\" class=\"data row6 col6\" >1.000000</td>\n",
              "                        <td id=\"T_6cecfc20_75cc_11eb_9505_0242ac1c0002row6_col7\" class=\"data row6 col7\" >0.063921</td>\n",
              "            </tr>\n",
              "            <tr>\n",
              "                        <th id=\"T_6cecfc20_75cc_11eb_9505_0242ac1c0002level0_row7\" class=\"row_heading level0 row7\" >Status</th>\n",
              "                        <td id=\"T_6cecfc20_75cc_11eb_9505_0242ac1c0002row7_col0\" class=\"data row7 col0\" >-0.072932</td>\n",
              "                        <td id=\"T_6cecfc20_75cc_11eb_9505_0242ac1c0002row7_col1\" class=\"data row7 col1\" >-0.175371</td>\n",
              "                        <td id=\"T_6cecfc20_75cc_11eb_9505_0242ac1c0002row7_col2\" class=\"data row7 col2\" >-0.009722</td>\n",
              "                        <td id=\"T_6cecfc20_75cc_11eb_9505_0242ac1c0002row7_col3\" class=\"data row7 col3\" >0.024593</td>\n",
              "                        <td id=\"T_6cecfc20_75cc_11eb_9505_0242ac1c0002row7_col4\" class=\"data row7 col4\" >0.041948</td>\n",
              "                        <td id=\"T_6cecfc20_75cc_11eb_9505_0242ac1c0002row7_col5\" class=\"data row7 col5\" >-0.026525</td>\n",
              "                        <td id=\"T_6cecfc20_75cc_11eb_9505_0242ac1c0002row7_col6\" class=\"data row7 col6\" >0.063921</td>\n",
              "                        <td id=\"T_6cecfc20_75cc_11eb_9505_0242ac1c0002row7_col7\" class=\"data row7 col7\" >1.000000</td>\n",
              "            </tr>\n",
              "    </tbody></table>"
            ],
            "text/plain": [
              "<pandas.io.formats.style.Styler at 0x7ff64f78f828>"
            ]
          },
          "metadata": {
            "tags": []
          },
          "execution_count": 12
        }
      ]
    },
    {
      "cell_type": "markdown",
      "metadata": {
        "id": "qZzh6SZrdciy"
      },
      "source": [
        "**Observation**\r\n",
        "* Percent hike offered in CTC and Pecent hike expected in CTC are positively correlated\r\n",
        "* Percent hike offered in CTC and Percent difference CTC are also positively correlated\r\n",
        "* Also, Notice period and Duration to accept offer are slightly positive correlated.  So, more the duration of notice period, more the time candiate take to accept the offer\r\n",
        "* Notice period and Status are slightly negatively correlated. It means more the duration of notice period, there are high chances that the candidate may not join \r\n"
      ]
    },
    {
      "cell_type": "code",
      "metadata": {
        "id": "r2OW1PagWg7o",
        "colab": {
          "base_uri": "https://localhost:8080/"
        },
        "outputId": "3d03cb1d-b0a9-46ee-846b-b00bc4c8c19b"
      },
      "source": [
        "#Checking uniques values in each columns\r\n",
        "for col in df_train.columns:\r\n",
        "  print(col,\" - \",df_train[col].unique())"
      ],
      "execution_count": 13,
      "outputs": [
        {
          "output_type": "stream",
          "text": [
            "DOJ Extended  -  ['Yes' 'No']\n",
            "Duration to accept offer  -  [ 14   3  26   1  17  16   6 120   7  98   0  83  32   4  38  24  10  53\n",
            "   5  46   2  31  54  33 105  19  84  90  21  34  13   8  42  12  69  37\n",
            "  60  23  67  15  45  36  11  48  74  30  40  20  58  29  50  39  57  55\n",
            "  71  18  66  62  25  28  64  27  78  22  49   9  61  77  82  80  97  59\n",
            "  41  88  70  63  51  86 111  87  43  52  96  91  35 101  79  68  65  93\n",
            "  76  99  73 123  44 104 126 117 109  47 127  81  85  75 118 114  56 103\n",
            "  92 110 124  72 116 129 121  94 119 102  95 107 125 131 100 130  89 113\n",
            " 224 108 106 163]\n",
            "Notice period  -  [ 30  45 120   0  60  75  90]\n",
            "Offered band  -  ['E2' 'E1' 'E3' 'E0']\n",
            "Pecent hike expected in CTC  -  [-20.79  42.84  42.59 ...  45.52   6.15  96.85]\n",
            "Percent hike offered in CTC  -  [13.16 42.84 42.59 ... 63.89 35.2  45.52]\n",
            "Percent difference CTC  -  [ 4.2860e+01  0.0000e+00 -5.8800e+00 -6.2500e+01  1.5833e+02 -2.5000e+00\n",
            "  7.6910e+01  6.5000e+01 -1.7780e+01 -2.9170e+01  4.0000e+00 -6.2500e+00\n",
            "  2.8800e+00  3.3300e+00 -4.5500e+00 -1.2520e+01  1.9455e+02 -5.9020e+01\n",
            " -2.9600e+00 -3.0770e+01 -2.5000e+01 -3.0000e+01 -3.3300e+00 -3.6400e+00\n",
            " -1.7860e+01 -3.6360e+01 -1.3000e+01 -1.1760e+01 -5.7140e+01 -3.3330e+01\n",
            " -5.9300e+00  2.2470e+01 -3.0460e+01 -4.0600e+01 -4.2800e+00  5.2600e+00\n",
            "  4.0000e+01  3.2810e+01 -1.0340e+01 -5.8890e+01 -5.0000e+00 -8.7000e+00\n",
            " -1.5380e+01  2.3080e+01 -1.0000e+01 -2.0000e+01 -7.3000e+00  6.1400e+00\n",
            " -1.8920e+01  1.0000e+01 -2.0200e+00 -5.8330e+01 -3.5000e+01  4.5500e+00\n",
            "  3.8460e+01 -2.9730e+01  9.2310e+01 -2.6900e+00  1.0000e+02  6.8000e+01\n",
            " -1.5790e+01 -2.7500e+01 -1.2500e+01  4.0700e+00  1.7500e+02  3.8400e+00\n",
            "  6.2500e+00 -4.0000e+00 -1.8200e+00 -7.1400e+00  2.9400e+00  3.6360e+01\n",
            " -9.0900e+00  1.5250e+02 -1.1110e+01 -1.6670e+01 -6.6700e+00  7.4100e+00\n",
            " -1.1360e+01 -1.3640e+01 -2.1250e+01 -5.9380e+01 -8.3300e+00 -3.1820e+01\n",
            " -3.1300e+00 -4.2600e+00 -6.0900e+00  2.7950e+01  1.7200e+00 -6.1500e+00\n",
            " -3.2220e+01 -6.5800e+00  5.0000e+01  2.5000e+01  2.1820e+01 -8.5000e-01\n",
            "  1.3667e+02 -1.3000e+00 -4.9230e+01 -1.4290e+01  1.0726e+02 -2.7270e+01\n",
            " -2.6470e+01 -3.1540e+01 -4.4620e+01 -1.1100e+00  1.4290e+01  2.1837e+02\n",
            "  6.0000e+01 -4.2900e+00 -6.6670e+01  1.4495e+02 -7.8600e+00  3.3330e+01\n",
            " -1.3850e+01  2.2000e+01 -1.8750e+01 -1.1540e+01 -5.7100e+00  5.8800e+00\n",
            " -1.0630e+01 -8.8900e+00 -1.2310e+01  8.4400e+00 -2.1820e+01  1.2500e+01\n",
            " -3.0800e+00  7.3700e+00 -1.0530e+01 -3.7900e+00 -6.4500e+00 -3.0910e+01\n",
            "  1.0833e+02  6.6700e+00 -5.1000e-01  2.3100e+00 -7.6900e+00  9.3800e+00\n",
            " -1.6000e+01 -1.6110e+01 -1.8180e+01 -1.5400e+00 -3.8540e+01  1.0570e+01\n",
            "  5.4500e+00  4.1700e+00 -2.8000e+01  1.6670e+01 -2.2000e+01 -2.6150e+01\n",
            "  1.9050e+01  1.8180e+01  4.7200e+00 -2.1000e-01  6.6670e+01 -3.7700e+00\n",
            "  1.2000e+01 -1.3600e+01 -3.7270e+01 -1.1000e+01  1.3380e+01  1.1540e+01\n",
            " -1.7240e+01  9.0900e+00  3.7500e+01  1.5050e+01 -1.3890e+01 -2.2860e+01\n",
            "  3.1670e+01  8.3300e+00 -2.8600e+00 -2.9400e+00 -2.6670e+01  2.0000e+01\n",
            " -1.3790e+01 -1.3330e+01  1.1340e+01  8.9700e+00  1.4170e+01 -1.1290e+01\n",
            " -1.3040e+01 -1.0770e+01  6.2500e+01  7.2730e+01 -6.9600e+00  7.7900e+00\n",
            "  9.5200e+00  1.1110e+01 -1.6700e+00 -1.1670e+01 -4.1700e+00 -1.2500e+00\n",
            "  5.5560e+01 -5.5600e+00  1.8600e+01 -4.7600e+00 -1.0710e+01 -1.1820e+01\n",
            " -1.1430e+01  6.0000e+00 -1.1250e+01  1.2220e+01  6.3300e+00 -3.0300e+00\n",
            " -1.4270e+01 -2.1100e+00 -1.2730e+01 -2.1880e+01  2.3640e+01 -1.3300e+00\n",
            " -1.7500e+01 -1.2200e+01  1.3640e+01  5.3850e+01 -3.8500e+00 -1.5000e+01\n",
            "  1.2120e+01  1.8200e+00 -9.3800e+00  3.5700e+00 -7.2700e+00  4.9230e+01\n",
            "  1.4300e+00 -2.0000e+00 -3.8290e+01  2.2220e+01 -2.8890e+01  2.6780e+01\n",
            "  4.7600e+00 -1.3750e+01 -1.8070e+01 -3.7000e+00  6.5710e+01 -2.3080e+01\n",
            "  1.5380e+01  7.1400e+00  8.0000e+00  1.2270e+01 -4.0400e+00  3.9200e+00\n",
            " -5.4500e+00 -1.7650e+01  3.0000e+01 -8.2400e+00  1.3750e+01 -3.9580e+01\n",
            " -1.5670e+01  3.4500e+00  3.8500e+00 -1.4590e+01 -5.8300e+00 -5.5500e+00\n",
            "  3.2000e+01 -1.7570e+01 -4.6750e+01 -1.9330e+01 -2.2000e-01 -2.4400e+00\n",
            " -4.1670e+01 -7.5200e+00 -2.8570e+01 -1.3250e+01  3.6700e+00  6.9090e+01\n",
            " -6.7900e+00  7.2700e+00  2.2230e+01 -1.5290e+01 -1.6920e+01 -3.7670e+01\n",
            " -2.5930e+01 -2.5520e+01  1.1760e+01 -9.5200e+00 -6.0000e+01 -1.8500e+00\n",
            "  1.9600e+02 -1.3440e+01 -3.0560e+01 -3.4000e+01 -2.0920e+01 -5.4800e+00\n",
            " -2.4570e+01 -6.0000e+00 -1.4620e+01 -1.1970e+01  4.4000e-01 -3.5300e+00\n",
            " -2.0800e+00  4.0500e+01 -7.8300e+00 -2.1430e+01  1.1670e+01 -9.4100e+00\n",
            " -4.6700e+00 -1.4000e+01 -2.1110e+01 -3.0070e+01  2.8330e+01  4.2900e+00\n",
            " -3.8910e+01  4.6150e+01 -2.2350e+01 -2.7780e+01  5.7470e+01  6.9230e+01\n",
            " -1.2860e+01  1.1100e+00  1.3730e+01 -7.0800e+00 -3.1670e+01  3.4720e+01\n",
            "  1.5600e+00  5.7140e+01 -3.7500e+00  1.2670e+01 -6.3400e+00  2.6800e+00\n",
            " -1.8440e+01 -4.8820e+01 -8.8200e+00 -2.1500e+00 -3.6000e+01 -1.8330e+01\n",
            "  2.8600e+00 -1.5630e+01 -1.8460e+01  2.7800e+00 -2.0770e+01 -7.5000e+00\n",
            " -1.8000e+01  2.0000e+00  4.9000e-01 -1.5910e+01 -3.1430e+01 -3.2140e+01\n",
            " -9.6400e+00  7.8900e+00 -1.2000e+01  1.3000e+01  2.2200e+00 -1.0940e+01\n",
            " -5.3300e+00 -9.0000e+00 -9.2500e+00 -2.3800e+00 -1.9440e+01 -1.2000e+00\n",
            " -1.4060e+01 -1.6830e+01  4.3800e+00 -2.5330e+01  5.0000e+00  1.0420e+01\n",
            "  6.4800e+00 -2.7800e+00 -7.0000e+00  1.8000e+02 -3.2640e+01 -2.3810e+01\n",
            "  3.2860e+01 -1.2790e+01 -6.6100e+00 -4.4400e+00 -9.4500e+00 -7.2000e+00\n",
            " -1.5880e+01 -1.6170e+01 -1.7120e+01  1.5400e+00  1.1000e+02 -8.1600e+00\n",
            " -5.0000e+01 -5.1400e+00  2.0370e+01  1.3330e+01 -5.5200e+00 -1.0330e+01\n",
            "  1.6000e+00 -8.0000e-01  5.5600e+00 -1.9230e+01  1.2730e+01  1.1620e+01\n",
            " -4.6000e+00 -1.9830e+01 -1.6100e+00  2.7690e+01 -5.6670e+01 -2.6500e+00\n",
            " -2.5560e+01 -5.1350e+01 -1.4440e+01 -4.0480e+01 -4.5000e+01 -3.7140e+01\n",
            " -2.3330e+01 -1.0640e+01  8.9000e-01 -4.3500e+00  2.0290e+01  5.2500e+00\n",
            " -3.8460e+01 -1.6400e+00 -6.4700e+00 -2.5710e+01 -8.0000e+00  2.5700e+00\n",
            " -2.3160e+01 -2.2200e+00 -1.9350e+01 -3.2430e+01  9.8900e+00 -6.3500e+00\n",
            "  7.5000e+01  1.8750e+01 -2.5370e+01  2.7780e+01  1.3300e+00  6.2100e+00\n",
            " -3.6670e+01 -5.1600e+00  2.8570e+01 -3.7400e+00 -1.2080e+01 -7.1100e+00\n",
            " -8.7500e+00 -1.9200e+00 -1.3570e+01  6.7100e+00  8.0000e+01 -1.5800e+01\n",
            "  7.7800e+00 -4.1400e+00  5.4000e-01 -1.1800e+00 -5.2600e+00  3.8890e+01\n",
            " -2.0910e+01  1.1430e+01 -1.9290e+01 -9.2900e+00 -3.2300e+00 -4.4100e+00\n",
            " -4.6200e+00  1.6550e+01  1.7370e+01  2.0400e+00 -6.8200e+00 -2.1050e+01\n",
            "  1.6000e+01 -2.7080e+01 -3.9290e+01 -4.7700e+00 -1.7140e+01 -1.5220e+01\n",
            "  1.3040e+01 -2.2730e+01  1.5455e+02 -4.4000e-01  9.6000e-01 -2.1900e+01\n",
            "  2.0810e+01 -7.4000e-01 -1.7900e+00 -1.9000e+01 -5.8180e+01  2.7270e+01\n",
            " -9.4700e+00 -1.1330e+01 -6.3100e+00  6.9100e+00  1.1667e+02 -1.9660e+01\n",
            " -3.1250e+01 -1.9640e+01  1.3790e+01 -1.3460e+01  4.1320e+01 -1.0830e+01\n",
            "  8.0200e+00  8.1820e+01 -2.7690e+01  2.4550e+01 -2.1540e+01 -1.6660e+01\n",
            "  7.5000e+00 -4.8330e+01 -1.0910e+01 -2.6700e+00  1.1500e+02  1.5000e+01\n",
            " -1.5560e+01  1.9150e+01 -3.2500e+01  3.7000e+01 -6.4300e+00 -2.2220e+01\n",
            "  1.0230e+01 -2.9090e+01  5.9090e+01  5.6800e+00 -3.0000e+00  3.0800e+00\n",
            " -1.9000e+00  9.9000e-01 -2.3610e+01 -3.9200e+00  3.0300e+00 -1.5450e+01\n",
            " -1.1600e+01  2.1000e-01  3.2000e-01  7.6900e+00 -4.7100e+00 -1.4630e+01\n",
            " -5.3900e+00  2.2500e+01  2.4300e+00 -1.4170e+01 -5.6600e+00  1.7390e+01\n",
            "  5.8200e+00 -9.7200e+00  2.1000e+01 -2.1670e+01  9.6600e+00  1.5560e+01\n",
            " -2.9410e+01  1.0500e+00  3.6400e+00 -2.9800e+00  1.4400e+00  1.3333e+02\n",
            " -9.5000e-01  4.8500e+01 -2.3360e+01 -4.9000e-01 -7.0500e+00 -1.0100e+00\n",
            "  3.0000e+02 -6.8800e+00 -5.0000e-01 -1.5060e+01  2.1520e+01 -3.4550e+01\n",
            " -8.0900e+00  1.6360e+01 -2.0190e+01 -7.4100e+00  8.8000e-01 -1.3160e+01\n",
            "  3.4620e+01  2.7234e+02  1.4710e+01 -3.1600e+00 -3.5710e+01  3.4380e+01\n",
            "  5.5000e+01 -1.6550e+01 -4.1000e+00  1.4000e+02  2.3460e+01 -6.5900e+00\n",
            "  1.1538e+02  5.3900e+00  3.7000e+00 -1.5710e+01 -1.2780e+01 -4.6000e+01\n",
            " -3.2730e+01  1.7273e+02  7.4000e+01 -3.7780e+01 -4.2220e+01 -4.0000e+01\n",
            "  1.3580e+01  8.9500e+01  4.1110e+01  7.9600e+00  2.5600e+00 -2.9900e+00\n",
            " -2.4670e+01  5.6400e+00 -2.0690e+01 -7.2500e+00 -3.5380e+01  1.6700e+00\n",
            " -7.7800e+00 -3.1000e+01 -5.5000e+00 -2.4900e+00  2.9630e+01  9.3900e+00\n",
            " -1.7470e+01 -3.2000e+00  5.1800e+01  1.3510e+01  1.2727e+02  1.2100e+00\n",
            "  4.0800e+00 -6.3000e-01  1.4580e+01  7.2500e+01 -5.5000e+01 -5.6000e+01\n",
            " -5.3600e+00 -5.2000e+00 -3.9300e+00  1.7000e+01 -1.3690e+01 -1.1900e+01\n",
            " -2.5600e+00 -9.6800e+00 -5.7700e+00 -2.0200e+01  1.0670e+01  3.6300e+00\n",
            " -1.9090e+01  4.9090e+01 -5.2900e+00  4.7690e+01  1.4130e+01  2.6700e+00\n",
            " -5.3850e+01 -1.2220e+01  1.6070e+01  4.4440e+01  1.1250e+01 -7.9000e-01\n",
            " -8.5700e+00  8.3330e+01  2.1210e+01 -1.1580e+01  2.1400e+00  3.3000e-01\n",
            " -1.0290e+01 -2.3500e+00 -1.4550e+01  6.3800e+00  2.5740e+01  2.8000e+01\n",
            " -1.8700e+00  1.7232e+02 -7.8400e+00  7.0600e+00 -3.7800e+00 -7.4600e+00\n",
            " -4.3640e+01  3.4400e+01  1.6000e+02  4.3330e+01 -2.0730e+01 -9.3300e+00\n",
            "  4.3500e+00  5.7100e+00  2.1430e+01 -1.0260e+01 -1.0190e+01  3.1820e+01\n",
            "  1.7650e+01  1.2917e+02 -2.4000e+01  1.8670e+01 -3.0360e+01 -8.7300e+00\n",
            " -2.4200e+00 -1.9850e+01 -1.5950e+01 -1.0000e+00  3.1600e+00  2.5000e+00\n",
            " -1.6250e+01  4.7500e+00 -8.8000e+00 -7.8900e+00  4.8400e+00 -2.5830e+01\n",
            " -1.1940e+01 -1.2380e+01 -3.8890e+01 -4.2860e+01 -8.9400e+00 -8.1800e+00\n",
            " -2.3040e+01  3.5000e+01 -3.4290e+01 -5.3000e-01  1.1580e+01 -9.2300e+00\n",
            " -4.8570e+01  3.8000e+01  6.1500e+00 -1.8830e+01  1.4310e+01 -8.7000e-01\n",
            " -3.5700e+00  2.7310e+01  8.5700e+00  2.6300e+00 -4.8400e+00 -3.5290e+01\n",
            " -5.9800e+00  1.2070e+01  2.0690e+01  7.8330e+01 -2.3890e+01 -1.3900e+00\n",
            " -1.2160e+01  2.4000e+00 -2.6300e+00 -5.5090e+01 -3.5100e+00  5.6600e+00\n",
            "  8.1100e+00 -5.3200e+00  7.0400e+00 -4.5800e+00  5.6000e-01  4.3820e+01\n",
            " -6.5400e+00  2.0600e+00 -2.5380e+01  1.1250e+02  8.0250e+01 -1.7310e+01\n",
            " -7.3700e+00  1.7280e+01 -1.3200e+00 -5.6800e+00 -4.2100e+00  4.5450e+01\n",
            " -3.6920e+01 -4.3330e+01 -1.7460e+01 -2.1400e+00 -1.1600e+00 -2.1700e+00\n",
            "  1.6880e+01  9.1000e-01 -1.1180e+01  1.8460e+01 -1.7000e+01 -2.9300e+00\n",
            "  5.9500e+00  4.5000e-01 -5.6000e+00 -1.5190e+01  2.0000e-02 -1.4300e+00\n",
            " -1.0600e+00  1.5790e+01 -2.0390e+01 -2.8800e+00 -3.9000e+00 -4.9090e+01\n",
            " -1.0450e+01  3.0770e+01  1.5333e+02 -3.1030e+01 -3.4500e+00  5.9000e-01\n",
            "  4.8330e+01  7.3000e-01 -7.2900e+00 -5.6200e+00  1.0530e+01  5.2000e+01\n",
            " -1.5800e+00  1.5920e+01 -4.3750e+01 -6.9000e+00 -3.7500e+01  2.6000e+01\n",
            "  1.7350e+01 -1.8900e+00 -3.3080e+01 -1.1800e+01 -7.8200e+00  5.3600e+00\n",
            "  1.0333e+02  4.6430e+01 -2.9550e+01 -1.4380e+01 -1.4420e+01 -7.3200e+00\n",
            " -8.1100e+00 -8.4200e+00  1.2360e+01  2.4091e+02 -1.8270e+01 -9.3000e+00\n",
            " -3.5000e+00 -1.4470e+01 -1.7890e+01  4.9250e+01 -5.2000e+01  1.6400e+00\n",
            "  3.4090e+01 -8.0200e+00 -5.4170e+01  1.7500e+00  6.3320e+01 -1.4700e+00\n",
            "  7.4400e+00  1.8900e+00  1.2333e+02 -5.1700e+00 -2.0630e+01 -2.1210e+01\n",
            "  1.0320e+01 -1.5310e+01 -3.7000e-01 -2.2500e+01  3.2800e+00  5.3700e+00\n",
            "  5.2700e+01  3.7500e+00 -1.5830e+01  4.0500e+00  3.1250e+01 -1.3680e+01\n",
            " -1.0400e+00  3.1590e+01 -2.0830e+01 -2.1590e+01  6.5600e+00  1.6300e+00\n",
            "  4.6200e+00 -3.5690e+01 -1.2700e+01  9.4100e+00 -4.6600e+00 -1.6360e+01\n",
            " -1.0420e+01 -1.4710e+01  2.3530e+01 -1.0670e+01  4.0630e+01 -9.6200e+00\n",
            "  1.8330e+01  3.2500e+01  1.8800e+00 -1.8520e+01 -5.5900e+00 -1.3080e+01\n",
            " -2.4580e+01 -6.6900e+00 -1.1000e+00  6.9800e+00  2.7120e+01 -6.2700e+00\n",
            " -9.0000e-01  2.1050e+01  9.3300e+00  3.1540e+01  1.1890e+01  3.0000e+00\n",
            " -2.2310e+01  3.8100e+01  6.1110e+01 -1.6130e+01 -7.8100e+00 -7.3300e+00\n",
            "  3.5710e+01 -6.8400e+00 -2.4620e+01 -3.5450e+01 -3.4480e+01  1.8945e+02\n",
            " -3.4600e+00  1.2500e+00 -6.6000e+01  1.1818e+02  1.0000e+00 -1.2900e+00\n",
            "  1.4000e+00 -2.2700e+00  4.4400e+00  2.1100e+00  1.8500e+00  4.2000e+01\n",
            " -3.0670e+01 -3.9000e-01  3.2300e+00 -1.9120e+01  2.3800e+00 -1.1550e+01\n",
            " -4.8720e+01  2.8890e+01 -6.4000e-01  1.2840e+01 -6.9800e+00  2.0250e+01\n",
            "  5.4800e+00 -3.1580e+01 -2.6000e+01 -1.4500e+01  1.4000e+01 -6.1540e+01\n",
            " -4.3080e+01  1.7860e+01 -1.1860e+01 -1.8040e+01 -3.5940e+01  4.6500e+00\n",
            " -3.2350e+01  1.6154e+02 -2.4140e+01 -4.6670e+01  1.3130e+01  3.9710e+01\n",
            "  7.5200e+00  2.9030e+01 -4.7370e+01 -1.8820e+01 -2.5730e+01  1.0770e+01\n",
            " -1.6190e+01  9.6800e+00 -1.8420e+01  8.7500e+01 -5.0010e+01 -1.4330e+01\n",
            " -1.1460e+01 -1.6070e+01 -1.4980e+01  3.1580e+01 -3.1500e+01 -1.4530e+01\n",
            "  3.1300e+00 -2.3830e+01  6.0600e+00 -3.2800e+01  1.7692e+02 -1.8890e+01\n",
            "  1.2667e+02 -3.1760e+01  1.3060e+01  4.3750e+01  1.8000e+01]\n",
            "Joining Bonus  -  ['No' 'Yes']\n",
            "Candidate relocate actual  -  ['No' 'Yes']\n",
            "Gender  -  ['Female' 'Male']\n",
            "Candidate Source  -  ['Agency' 'Employee Referral' 'Direct']\n",
            "Rex in Yrs  -  [ 7  4  6  2  8  3  5 18  1 13 15 20 10  9  0 11 12 14 16 24 22 17]\n",
            "LOB  -  ['ERS' 'INFRA' 'Healthcare' 'BFSI' 'CSMP' 'ETS' 'AXON' 'EAS' 'MMS']\n",
            "Age  -  [34 27 26 29 36 30 31 40 33 25 44 32 41 28 20 37 23 24 50 35 42 38 39 45\n",
            " 43 22 46 47 48 49 21]\n",
            "Status  -  [1 0]\n"
          ],
          "name": "stdout"
        }
      ]
    },
    {
      "cell_type": "markdown",
      "metadata": {
        "id": "dCMztu-ilbiz"
      },
      "source": [
        "# Data Encoding"
      ]
    },
    {
      "cell_type": "code",
      "metadata": {
        "id": "_vdQqPgdJT-e"
      },
      "source": [
        "#Encoding offered bands feature\r\n",
        "offered_bands = {\"Offered band\":{\"E0\":1,\"E1\":2,\"E2\":3,\"E3\":4}}\r\n",
        "df_train.replace(offered_bands,inplace=True)"
      ],
      "execution_count": 14,
      "outputs": []
    },
    {
      "cell_type": "code",
      "metadata": {
        "id": "J1lmXnXILS3N"
      },
      "source": [
        "df_test.replace(offered_bands,inplace=True)"
      ],
      "execution_count": 15,
      "outputs": []
    },
    {
      "cell_type": "code",
      "metadata": {
        "id": "FSAcmANVlmRh"
      },
      "source": [
        "#Encoding categorical columns\r\n",
        "df_train_encoded = pd.get_dummies(df_train,drop_first=True)\r\n",
        "df_test_encoded = pd.get_dummies(df_test,drop_first=True)\r\n"
      ],
      "execution_count": 16,
      "outputs": []
    },
    {
      "cell_type": "code",
      "metadata": {
        "id": "fDbdCJ5PcZws"
      },
      "source": [
        "# df_train_encoded['offered_greater_expected'] = np.where(df_train_encoded['Percent hike offered in CTC'] > df_train_encoded['Pecent hike expected in CTC'], 1, 0)\r\n",
        "# df_test_encoded['offered_greater_expected'] = np.where(df_test_encoded['Percent hike offered in CTC'] > df_test_encoded['Pecent hike expected in CTC'], 1, 0)"
      ],
      "execution_count": 17,
      "outputs": []
    },
    {
      "cell_type": "code",
      "metadata": {
        "colab": {
          "base_uri": "https://localhost:8080/",
          "height": 754
        },
        "id": "vTdyPuXInGQt",
        "outputId": "6e453d6e-63cc-49b7-8e67-8cbc17128a02"
      },
      "source": [
        "df_train_encoded.corr().style.background_gradient(cmap='coolwarm')\r\n"
      ],
      "execution_count": 18,
      "outputs": [
        {
          "output_type": "execute_result",
          "data": {
            "text/html": [
              "<style  type=\"text/css\" >\n",
              "#T_6d0b1584_75cc_11eb_9505_0242ac1c0002row0_col0,#T_6d0b1584_75cc_11eb_9505_0242ac1c0002row1_col1,#T_6d0b1584_75cc_11eb_9505_0242ac1c0002row2_col2,#T_6d0b1584_75cc_11eb_9505_0242ac1c0002row3_col3,#T_6d0b1584_75cc_11eb_9505_0242ac1c0002row4_col4,#T_6d0b1584_75cc_11eb_9505_0242ac1c0002row5_col5,#T_6d0b1584_75cc_11eb_9505_0242ac1c0002row6_col6,#T_6d0b1584_75cc_11eb_9505_0242ac1c0002row7_col7,#T_6d0b1584_75cc_11eb_9505_0242ac1c0002row8_col8,#T_6d0b1584_75cc_11eb_9505_0242ac1c0002row9_col9,#T_6d0b1584_75cc_11eb_9505_0242ac1c0002row10_col10,#T_6d0b1584_75cc_11eb_9505_0242ac1c0002row11_col11,#T_6d0b1584_75cc_11eb_9505_0242ac1c0002row12_col12,#T_6d0b1584_75cc_11eb_9505_0242ac1c0002row13_col13,#T_6d0b1584_75cc_11eb_9505_0242ac1c0002row14_col14,#T_6d0b1584_75cc_11eb_9505_0242ac1c0002row15_col15,#T_6d0b1584_75cc_11eb_9505_0242ac1c0002row16_col16,#T_6d0b1584_75cc_11eb_9505_0242ac1c0002row17_col17,#T_6d0b1584_75cc_11eb_9505_0242ac1c0002row18_col18,#T_6d0b1584_75cc_11eb_9505_0242ac1c0002row19_col19,#T_6d0b1584_75cc_11eb_9505_0242ac1c0002row20_col20,#T_6d0b1584_75cc_11eb_9505_0242ac1c0002row21_col21,#T_6d0b1584_75cc_11eb_9505_0242ac1c0002row22_col22{\n",
              "            background-color:  #b40426;\n",
              "            color:  #f1f1f1;\n",
              "        }#T_6d0b1584_75cc_11eb_9505_0242ac1c0002row0_col1{\n",
              "            background-color:  #cfdaea;\n",
              "            color:  #000000;\n",
              "        }#T_6d0b1584_75cc_11eb_9505_0242ac1c0002row0_col2,#T_6d0b1584_75cc_11eb_9505_0242ac1c0002row2_col10,#T_6d0b1584_75cc_11eb_9505_0242ac1c0002row4_col8,#T_6d0b1584_75cc_11eb_9505_0242ac1c0002row6_col12,#T_6d0b1584_75cc_11eb_9505_0242ac1c0002row8_col2,#T_6d0b1584_75cc_11eb_9505_0242ac1c0002row8_col5,#T_6d0b1584_75cc_11eb_9505_0242ac1c0002row8_col19,#T_6d0b1584_75cc_11eb_9505_0242ac1c0002row9_col7,#T_6d0b1584_75cc_11eb_9505_0242ac1c0002row11_col0,#T_6d0b1584_75cc_11eb_9505_0242ac1c0002row19_col18,#T_6d0b1584_75cc_11eb_9505_0242ac1c0002row22_col0,#T_6d0b1584_75cc_11eb_9505_0242ac1c0002row22_col1,#T_6d0b1584_75cc_11eb_9505_0242ac1c0002row22_col6,#T_6d0b1584_75cc_11eb_9505_0242ac1c0002row22_col8{\n",
              "            background-color:  #7093f3;\n",
              "            color:  #000000;\n",
              "        }#T_6d0b1584_75cc_11eb_9505_0242ac1c0002row0_col3,#T_6d0b1584_75cc_11eb_9505_0242ac1c0002row5_col15,#T_6d0b1584_75cc_11eb_9505_0242ac1c0002row12_col15,#T_6d0b1584_75cc_11eb_9505_0242ac1c0002row15_col6,#T_6d0b1584_75cc_11eb_9505_0242ac1c0002row17_col21,#T_6d0b1584_75cc_11eb_9505_0242ac1c0002row18_col11{\n",
              "            background-color:  #7a9df8;\n",
              "            color:  #000000;\n",
              "        }#T_6d0b1584_75cc_11eb_9505_0242ac1c0002row0_col4,#T_6d0b1584_75cc_11eb_9505_0242ac1c0002row4_col2,#T_6d0b1584_75cc_11eb_9505_0242ac1c0002row8_col10,#T_6d0b1584_75cc_11eb_9505_0242ac1c0002row16_col5,#T_6d0b1584_75cc_11eb_9505_0242ac1c0002row17_col19,#T_6d0b1584_75cc_11eb_9505_0242ac1c0002row18_col8,#T_6d0b1584_75cc_11eb_9505_0242ac1c0002row21_col4{\n",
              "            background-color:  #5d7ce6;\n",
              "            color:  #000000;\n",
              "        }#T_6d0b1584_75cc_11eb_9505_0242ac1c0002row0_col5,#T_6d0b1584_75cc_11eb_9505_0242ac1c0002row0_col7,#T_6d0b1584_75cc_11eb_9505_0242ac1c0002row5_col16,#T_6d0b1584_75cc_11eb_9505_0242ac1c0002row7_col1,#T_6d0b1584_75cc_11eb_9505_0242ac1c0002row9_col11,#T_6d0b1584_75cc_11eb_9505_0242ac1c0002row10_col5,#T_6d0b1584_75cc_11eb_9505_0242ac1c0002row10_col17,#T_6d0b1584_75cc_11eb_9505_0242ac1c0002row12_col9,#T_6d0b1584_75cc_11eb_9505_0242ac1c0002row12_col17,#T_6d0b1584_75cc_11eb_9505_0242ac1c0002row13_col9,#T_6d0b1584_75cc_11eb_9505_0242ac1c0002row14_col11,#T_6d0b1584_75cc_11eb_9505_0242ac1c0002row15_col7,#T_6d0b1584_75cc_11eb_9505_0242ac1c0002row19_col15,#T_6d0b1584_75cc_11eb_9505_0242ac1c0002row20_col9,#T_6d0b1584_75cc_11eb_9505_0242ac1c0002row20_col19{\n",
              "            background-color:  #6384eb;\n",
              "            color:  #000000;\n",
              "        }#T_6d0b1584_75cc_11eb_9505_0242ac1c0002row0_col6,#T_6d0b1584_75cc_11eb_9505_0242ac1c0002row22_col21{\n",
              "            background-color:  #93b5fe;\n",
              "            color:  #000000;\n",
              "        }#T_6d0b1584_75cc_11eb_9505_0242ac1c0002row0_col8,#T_6d0b1584_75cc_11eb_9505_0242ac1c0002row0_col20,#T_6d0b1584_75cc_11eb_9505_0242ac1c0002row1_col4,#T_6d0b1584_75cc_11eb_9505_0242ac1c0002row4_col6,#T_6d0b1584_75cc_11eb_9505_0242ac1c0002row4_col17,#T_6d0b1584_75cc_11eb_9505_0242ac1c0002row10_col20,#T_6d0b1584_75cc_11eb_9505_0242ac1c0002row15_col21,#T_6d0b1584_75cc_11eb_9505_0242ac1c0002row19_col16,#T_6d0b1584_75cc_11eb_9505_0242ac1c0002row20_col4,#T_6d0b1584_75cc_11eb_9505_0242ac1c0002row22_col7{\n",
              "            background-color:  #5572df;\n",
              "            color:  #000000;\n",
              "        }#T_6d0b1584_75cc_11eb_9505_0242ac1c0002row0_col9{\n",
              "            background-color:  #c5d6f2;\n",
              "            color:  #000000;\n",
              "        }#T_6d0b1584_75cc_11eb_9505_0242ac1c0002row0_col10,#T_6d0b1584_75cc_11eb_9505_0242ac1c0002row2_col15,#T_6d0b1584_75cc_11eb_9505_0242ac1c0002row4_col1,#T_6d0b1584_75cc_11eb_9505_0242ac1c0002row8_col9,#T_6d0b1584_75cc_11eb_9505_0242ac1c0002row9_col5,#T_6d0b1584_75cc_11eb_9505_0242ac1c0002row11_col9,#T_6d0b1584_75cc_11eb_9505_0242ac1c0002row12_col16,#T_6d0b1584_75cc_11eb_9505_0242ac1c0002row15_col3,#T_6d0b1584_75cc_11eb_9505_0242ac1c0002row16_col9,#T_6d0b1584_75cc_11eb_9505_0242ac1c0002row16_col15,#T_6d0b1584_75cc_11eb_9505_0242ac1c0002row17_col5{\n",
              "            background-color:  #6485ec;\n",
              "            color:  #000000;\n",
              "        }#T_6d0b1584_75cc_11eb_9505_0242ac1c0002row0_col11,#T_6d0b1584_75cc_11eb_9505_0242ac1c0002row5_col1,#T_6d0b1584_75cc_11eb_9505_0242ac1c0002row6_col8,#T_6d0b1584_75cc_11eb_9505_0242ac1c0002row6_col11,#T_6d0b1584_75cc_11eb_9505_0242ac1c0002row14_col0,#T_6d0b1584_75cc_11eb_9505_0242ac1c0002row14_col9,#T_6d0b1584_75cc_11eb_9505_0242ac1c0002row17_col11,#T_6d0b1584_75cc_11eb_9505_0242ac1c0002row20_col16,#T_6d0b1584_75cc_11eb_9505_0242ac1c0002row22_col9{\n",
              "            background-color:  #6282ea;\n",
              "            color:  #000000;\n",
              "        }#T_6d0b1584_75cc_11eb_9505_0242ac1c0002row0_col12,#T_6d0b1584_75cc_11eb_9505_0242ac1c0002row2_col20,#T_6d0b1584_75cc_11eb_9505_0242ac1c0002row4_col22,#T_6d0b1584_75cc_11eb_9505_0242ac1c0002row10_col12,#T_6d0b1584_75cc_11eb_9505_0242ac1c0002row11_col20,#T_6d0b1584_75cc_11eb_9505_0242ac1c0002row15_col2,#T_6d0b1584_75cc_11eb_9505_0242ac1c0002row17_col12{\n",
              "            background-color:  #4961d2;\n",
              "            color:  #f1f1f1;\n",
              "        }#T_6d0b1584_75cc_11eb_9505_0242ac1c0002row0_col13,#T_6d0b1584_75cc_11eb_9505_0242ac1c0002row1_col13,#T_6d0b1584_75cc_11eb_9505_0242ac1c0002row10_col13,#T_6d0b1584_75cc_11eb_9505_0242ac1c0002row10_col18,#T_6d0b1584_75cc_11eb_9505_0242ac1c0002row16_col14{\n",
              "            background-color:  #a9c6fd;\n",
              "            color:  #000000;\n",
              "        }#T_6d0b1584_75cc_11eb_9505_0242ac1c0002row0_col14,#T_6d0b1584_75cc_11eb_9505_0242ac1c0002row1_col18,#T_6d0b1584_75cc_11eb_9505_0242ac1c0002row6_col1{\n",
              "            background-color:  #9fbfff;\n",
              "            color:  #000000;\n",
              "        }#T_6d0b1584_75cc_11eb_9505_0242ac1c0002row0_col15,#T_6d0b1584_75cc_11eb_9505_0242ac1c0002row4_col13{\n",
              "            background-color:  #a5c3fe;\n",
              "            color:  #000000;\n",
              "        }#T_6d0b1584_75cc_11eb_9505_0242ac1c0002row0_col16,#T_6d0b1584_75cc_11eb_9505_0242ac1c0002row1_col16,#T_6d0b1584_75cc_11eb_9505_0242ac1c0002row5_col0,#T_6d0b1584_75cc_11eb_9505_0242ac1c0002row5_col7,#T_6d0b1584_75cc_11eb_9505_0242ac1c0002row8_col6,#T_6d0b1584_75cc_11eb_9505_0242ac1c0002row11_col5,#T_6d0b1584_75cc_11eb_9505_0242ac1c0002row12_col11,#T_6d0b1584_75cc_11eb_9505_0242ac1c0002row17_col15,#T_6d0b1584_75cc_11eb_9505_0242ac1c0002row19_col8,#T_6d0b1584_75cc_11eb_9505_0242ac1c0002row19_col21{\n",
              "            background-color:  #6c8ff1;\n",
              "            color:  #000000;\n",
              "        }#T_6d0b1584_75cc_11eb_9505_0242ac1c0002row0_col17,#T_6d0b1584_75cc_11eb_9505_0242ac1c0002row5_col11,#T_6d0b1584_75cc_11eb_9505_0242ac1c0002row12_col5,#T_6d0b1584_75cc_11eb_9505_0242ac1c0002row13_col5,#T_6d0b1584_75cc_11eb_9505_0242ac1c0002row14_col5,#T_6d0b1584_75cc_11eb_9505_0242ac1c0002row16_col6,#T_6d0b1584_75cc_11eb_9505_0242ac1c0002row16_col8,#T_6d0b1584_75cc_11eb_9505_0242ac1c0002row17_col3,#T_6d0b1584_75cc_11eb_9505_0242ac1c0002row20_col8,#T_6d0b1584_75cc_11eb_9505_0242ac1c0002row22_col19{\n",
              "            background-color:  #688aef;\n",
              "            color:  #000000;\n",
              "        }#T_6d0b1584_75cc_11eb_9505_0242ac1c0002row0_col18,#T_6d0b1584_75cc_11eb_9505_0242ac1c0002row2_col13,#T_6d0b1584_75cc_11eb_9505_0242ac1c0002row11_col8,#T_6d0b1584_75cc_11eb_9505_0242ac1c0002row13_col21,#T_6d0b1584_75cc_11eb_9505_0242ac1c0002row15_col13,#T_6d0b1584_75cc_11eb_9505_0242ac1c0002row18_col3,#T_6d0b1584_75cc_11eb_9505_0242ac1c0002row20_col14{\n",
              "            background-color:  #a3c2fe;\n",
              "            color:  #000000;\n",
              "        }#T_6d0b1584_75cc_11eb_9505_0242ac1c0002row0_col19,#T_6d0b1584_75cc_11eb_9505_0242ac1c0002row2_col9,#T_6d0b1584_75cc_11eb_9505_0242ac1c0002row3_col0,#T_6d0b1584_75cc_11eb_9505_0242ac1c0002row3_col15,#T_6d0b1584_75cc_11eb_9505_0242ac1c0002row7_col11,#T_6d0b1584_75cc_11eb_9505_0242ac1c0002row11_col7,#T_6d0b1584_75cc_11eb_9505_0242ac1c0002row13_col16{\n",
              "            background-color:  #7597f6;\n",
              "            color:  #000000;\n",
              "        }#T_6d0b1584_75cc_11eb_9505_0242ac1c0002row0_col21,#T_6d0b1584_75cc_11eb_9505_0242ac1c0002row2_col19,#T_6d0b1584_75cc_11eb_9505_0242ac1c0002row7_col12,#T_6d0b1584_75cc_11eb_9505_0242ac1c0002row10_col8,#T_6d0b1584_75cc_11eb_9505_0242ac1c0002row16_col1,#T_6d0b1584_75cc_11eb_9505_0242ac1c0002row18_col10,#T_6d0b1584_75cc_11eb_9505_0242ac1c0002row19_col5,#T_6d0b1584_75cc_11eb_9505_0242ac1c0002row20_col1{\n",
              "            background-color:  #6b8df0;\n",
              "            color:  #000000;\n",
              "        }#T_6d0b1584_75cc_11eb_9505_0242ac1c0002row0_col22,#T_6d0b1584_75cc_11eb_9505_0242ac1c0002row3_col22,#T_6d0b1584_75cc_11eb_9505_0242ac1c0002row5_col12,#T_6d0b1584_75cc_11eb_9505_0242ac1c0002row16_col20,#T_6d0b1584_75cc_11eb_9505_0242ac1c0002row19_col20,#T_6d0b1584_75cc_11eb_9505_0242ac1c0002row20_col12{\n",
              "            background-color:  #485fd1;\n",
              "            color:  #f1f1f1;\n",
              "        }#T_6d0b1584_75cc_11eb_9505_0242ac1c0002row1_col0{\n",
              "            background-color:  #d2dbe8;\n",
              "            color:  #000000;\n",
              "        }#T_6d0b1584_75cc_11eb_9505_0242ac1c0002row1_col2,#T_6d0b1584_75cc_11eb_9505_0242ac1c0002row10_col6,#T_6d0b1584_75cc_11eb_9505_0242ac1c0002row17_col6{\n",
              "            background-color:  #97b8ff;\n",
              "            color:  #000000;\n",
              "        }#T_6d0b1584_75cc_11eb_9505_0242ac1c0002row1_col3,#T_6d0b1584_75cc_11eb_9505_0242ac1c0002row5_col19,#T_6d0b1584_75cc_11eb_9505_0242ac1c0002row8_col7,#T_6d0b1584_75cc_11eb_9505_0242ac1c0002row8_col15,#T_6d0b1584_75cc_11eb_9505_0242ac1c0002row10_col9,#T_6d0b1584_75cc_11eb_9505_0242ac1c0002row11_col3,#T_6d0b1584_75cc_11eb_9505_0242ac1c0002row12_col0,#T_6d0b1584_75cc_11eb_9505_0242ac1c0002row12_col3,#T_6d0b1584_75cc_11eb_9505_0242ac1c0002row13_col17,#T_6d0b1584_75cc_11eb_9505_0242ac1c0002row17_col1{\n",
              "            background-color:  #7396f5;\n",
              "            color:  #000000;\n",
              "        }#T_6d0b1584_75cc_11eb_9505_0242ac1c0002row1_col5,#T_6d0b1584_75cc_11eb_9505_0242ac1c0002row3_col9,#T_6d0b1584_75cc_11eb_9505_0242ac1c0002row3_col11,#T_6d0b1584_75cc_11eb_9505_0242ac1c0002row4_col9,#T_6d0b1584_75cc_11eb_9505_0242ac1c0002row5_col17,#T_6d0b1584_75cc_11eb_9505_0242ac1c0002row14_col10,#T_6d0b1584_75cc_11eb_9505_0242ac1c0002row17_col8,#T_6d0b1584_75cc_11eb_9505_0242ac1c0002row21_col11,#T_6d0b1584_75cc_11eb_9505_0242ac1c0002row22_col4{\n",
              "            background-color:  #5e7de7;\n",
              "            color:  #000000;\n",
              "        }#T_6d0b1584_75cc_11eb_9505_0242ac1c0002row1_col6,#T_6d0b1584_75cc_11eb_9505_0242ac1c0002row3_col14,#T_6d0b1584_75cc_11eb_9505_0242ac1c0002row19_col14{\n",
              "            background-color:  #a7c5fe;\n",
              "            color:  #000000;\n",
              "        }#T_6d0b1584_75cc_11eb_9505_0242ac1c0002row1_col7,#T_6d0b1584_75cc_11eb_9505_0242ac1c0002row5_col10,#T_6d0b1584_75cc_11eb_9505_0242ac1c0002row8_col0,#T_6d0b1584_75cc_11eb_9505_0242ac1c0002row15_col8,#T_6d0b1584_75cc_11eb_9505_0242ac1c0002row16_col4,#T_6d0b1584_75cc_11eb_9505_0242ac1c0002row18_col5{\n",
              "            background-color:  #5977e3;\n",
              "            color:  #000000;\n",
              "        }#T_6d0b1584_75cc_11eb_9505_0242ac1c0002row1_col8,#T_6d0b1584_75cc_11eb_9505_0242ac1c0002row3_col2,#T_6d0b1584_75cc_11eb_9505_0242ac1c0002row3_col5,#T_6d0b1584_75cc_11eb_9505_0242ac1c0002row3_col6,#T_6d0b1584_75cc_11eb_9505_0242ac1c0002row3_col7,#T_6d0b1584_75cc_11eb_9505_0242ac1c0002row6_col3,#T_6d0b1584_75cc_11eb_9505_0242ac1c0002row6_col4,#T_6d0b1584_75cc_11eb_9505_0242ac1c0002row7_col22,#T_6d0b1584_75cc_11eb_9505_0242ac1c0002row8_col1,#T_6d0b1584_75cc_11eb_9505_0242ac1c0002row13_col14,#T_6d0b1584_75cc_11eb_9505_0242ac1c0002row14_col12,#T_6d0b1584_75cc_11eb_9505_0242ac1c0002row14_col13,#T_6d0b1584_75cc_11eb_9505_0242ac1c0002row15_col11,#T_6d0b1584_75cc_11eb_9505_0242ac1c0002row15_col12,#T_6d0b1584_75cc_11eb_9505_0242ac1c0002row18_col21,#T_6d0b1584_75cc_11eb_9505_0242ac1c0002row21_col0,#T_6d0b1584_75cc_11eb_9505_0242ac1c0002row21_col9,#T_6d0b1584_75cc_11eb_9505_0242ac1c0002row21_col10,#T_6d0b1584_75cc_11eb_9505_0242ac1c0002row21_col15,#T_6d0b1584_75cc_11eb_9505_0242ac1c0002row21_col16,#T_6d0b1584_75cc_11eb_9505_0242ac1c0002row21_col17,#T_6d0b1584_75cc_11eb_9505_0242ac1c0002row21_col18,#T_6d0b1584_75cc_11eb_9505_0242ac1c0002row21_col19,#T_6d0b1584_75cc_11eb_9505_0242ac1c0002row21_col20{\n",
              "            background-color:  #3b4cc0;\n",
              "            color:  #f1f1f1;\n",
              "        }#T_6d0b1584_75cc_11eb_9505_0242ac1c0002row1_col9,#T_6d0b1584_75cc_11eb_9505_0242ac1c0002row5_col6,#T_6d0b1584_75cc_11eb_9505_0242ac1c0002row6_col0,#T_6d0b1584_75cc_11eb_9505_0242ac1c0002row7_col21{\n",
              "            background-color:  #8db0fe;\n",
              "            color:  #000000;\n",
              "        }#T_6d0b1584_75cc_11eb_9505_0242ac1c0002row1_col10,#T_6d0b1584_75cc_11eb_9505_0242ac1c0002row5_col9,#T_6d0b1584_75cc_11eb_9505_0242ac1c0002row8_col4,#T_6d0b1584_75cc_11eb_9505_0242ac1c0002row11_col17,#T_6d0b1584_75cc_11eb_9505_0242ac1c0002row12_col10,#T_6d0b1584_75cc_11eb_9505_0242ac1c0002row13_col11,#T_6d0b1584_75cc_11eb_9505_0242ac1c0002row14_col1,#T_6d0b1584_75cc_11eb_9505_0242ac1c0002row17_col10,#T_6d0b1584_75cc_11eb_9505_0242ac1c0002row19_col11{\n",
              "            background-color:  #6180e9;\n",
              "            color:  #000000;\n",
              "        }#T_6d0b1584_75cc_11eb_9505_0242ac1c0002row1_col11,#T_6d0b1584_75cc_11eb_9505_0242ac1c0002row2_col16,#T_6d0b1584_75cc_11eb_9505_0242ac1c0002row4_col20,#T_6d0b1584_75cc_11eb_9505_0242ac1c0002row13_col22{\n",
              "            background-color:  #4e68d8;\n",
              "            color:  #000000;\n",
              "        }#T_6d0b1584_75cc_11eb_9505_0242ac1c0002row1_col12,#T_6d0b1584_75cc_11eb_9505_0242ac1c0002row4_col10,#T_6d0b1584_75cc_11eb_9505_0242ac1c0002row5_col20,#T_6d0b1584_75cc_11eb_9505_0242ac1c0002row7_col20,#T_6d0b1584_75cc_11eb_9505_0242ac1c0002row11_col12{\n",
              "            background-color:  #516ddb;\n",
              "            color:  #000000;\n",
              "        }#T_6d0b1584_75cc_11eb_9505_0242ac1c0002row1_col14,#T_6d0b1584_75cc_11eb_9505_0242ac1c0002row12_col14,#T_6d0b1584_75cc_11eb_9505_0242ac1c0002row12_col21{\n",
              "            background-color:  #a2c1ff;\n",
              "            color:  #000000;\n",
              "        }#T_6d0b1584_75cc_11eb_9505_0242ac1c0002row1_col15,#T_6d0b1584_75cc_11eb_9505_0242ac1c0002row11_col21,#T_6d0b1584_75cc_11eb_9505_0242ac1c0002row15_col14{\n",
              "            background-color:  #9abbff;\n",
              "            color:  #000000;\n",
              "        }#T_6d0b1584_75cc_11eb_9505_0242ac1c0002row1_col17,#T_6d0b1584_75cc_11eb_9505_0242ac1c0002row2_col11,#T_6d0b1584_75cc_11eb_9505_0242ac1c0002row3_col8,#T_6d0b1584_75cc_11eb_9505_0242ac1c0002row3_col19,#T_6d0b1584_75cc_11eb_9505_0242ac1c0002row7_col16,#T_6d0b1584_75cc_11eb_9505_0242ac1c0002row12_col8,#T_6d0b1584_75cc_11eb_9505_0242ac1c0002row18_col6,#T_6d0b1584_75cc_11eb_9505_0242ac1c0002row22_col16{\n",
              "            background-color:  #6788ee;\n",
              "            color:  #000000;\n",
              "        }#T_6d0b1584_75cc_11eb_9505_0242ac1c0002row1_col19,#T_6d0b1584_75cc_11eb_9505_0242ac1c0002row2_col0,#T_6d0b1584_75cc_11eb_9505_0242ac1c0002row2_col18,#T_6d0b1584_75cc_11eb_9505_0242ac1c0002row5_col8,#T_6d0b1584_75cc_11eb_9505_0242ac1c0002row11_col6,#T_6d0b1584_75cc_11eb_9505_0242ac1c0002row12_col1,#T_6d0b1584_75cc_11eb_9505_0242ac1c0002row18_col0,#T_6d0b1584_75cc_11eb_9505_0242ac1c0002row18_col4,#T_6d0b1584_75cc_11eb_9505_0242ac1c0002row19_col0,#T_6d0b1584_75cc_11eb_9505_0242ac1c0002row20_col6,#T_6d0b1584_75cc_11eb_9505_0242ac1c0002row20_col15{\n",
              "            background-color:  #7699f6;\n",
              "            color:  #000000;\n",
              "        }#T_6d0b1584_75cc_11eb_9505_0242ac1c0002row1_col20,#T_6d0b1584_75cc_11eb_9505_0242ac1c0002row3_col17,#T_6d0b1584_75cc_11eb_9505_0242ac1c0002row6_col20,#T_6d0b1584_75cc_11eb_9505_0242ac1c0002row8_col17,#T_6d0b1584_75cc_11eb_9505_0242ac1c0002row9_col20{\n",
              "            background-color:  #536edd;\n",
              "            color:  #000000;\n",
              "        }#T_6d0b1584_75cc_11eb_9505_0242ac1c0002row1_col21,#T_6d0b1584_75cc_11eb_9505_0242ac1c0002row9_col21,#T_6d0b1584_75cc_11eb_9505_0242ac1c0002row11_col10,#T_6d0b1584_75cc_11eb_9505_0242ac1c0002row17_col2,#T_6d0b1584_75cc_11eb_9505_0242ac1c0002row19_col9{\n",
              "            background-color:  #799cf8;\n",
              "            color:  #000000;\n",
              "        }#T_6d0b1584_75cc_11eb_9505_0242ac1c0002row1_col22,#T_6d0b1584_75cc_11eb_9505_0242ac1c0002row8_col22,#T_6d0b1584_75cc_11eb_9505_0242ac1c0002row15_col16,#T_6d0b1584_75cc_11eb_9505_0242ac1c0002row15_col19,#T_6d0b1584_75cc_11eb_9505_0242ac1c0002row18_col7,#T_6d0b1584_75cc_11eb_9505_0242ac1c0002row21_col12{\n",
              "            background-color:  #4b64d5;\n",
              "            color:  #f1f1f1;\n",
              "        }#T_6d0b1584_75cc_11eb_9505_0242ac1c0002row2_col1{\n",
              "            background-color:  #98b9ff;\n",
              "            color:  #000000;\n",
              "        }#T_6d0b1584_75cc_11eb_9505_0242ac1c0002row2_col3,#T_6d0b1584_75cc_11eb_9505_0242ac1c0002row4_col12,#T_6d0b1584_75cc_11eb_9505_0242ac1c0002row13_col12,#T_6d0b1584_75cc_11eb_9505_0242ac1c0002row15_col9,#T_6d0b1584_75cc_11eb_9505_0242ac1c0002row15_col17{\n",
              "            background-color:  #465ecf;\n",
              "            color:  #f1f1f1;\n",
              "        }#T_6d0b1584_75cc_11eb_9505_0242ac1c0002row2_col4,#T_6d0b1584_75cc_11eb_9505_0242ac1c0002row7_col3,#T_6d0b1584_75cc_11eb_9505_0242ac1c0002row16_col17,#T_6d0b1584_75cc_11eb_9505_0242ac1c0002row19_col17,#T_6d0b1584_75cc_11eb_9505_0242ac1c0002row22_col20{\n",
              "            background-color:  #4f69d9;\n",
              "            color:  #000000;\n",
              "        }#T_6d0b1584_75cc_11eb_9505_0242ac1c0002row2_col5,#T_6d0b1584_75cc_11eb_9505_0242ac1c0002row14_col18{\n",
              "            background-color:  #8caffe;\n",
              "            color:  #000000;\n",
              "        }#T_6d0b1584_75cc_11eb_9505_0242ac1c0002row2_col6{\n",
              "            background-color:  #f39475;\n",
              "            color:  #000000;\n",
              "        }#T_6d0b1584_75cc_11eb_9505_0242ac1c0002row2_col7{\n",
              "            background-color:  #dedcdb;\n",
              "            color:  #000000;\n",
              "        }#T_6d0b1584_75cc_11eb_9505_0242ac1c0002row2_col8,#T_6d0b1584_75cc_11eb_9505_0242ac1c0002row3_col16,#T_6d0b1584_75cc_11eb_9505_0242ac1c0002row4_col0,#T_6d0b1584_75cc_11eb_9505_0242ac1c0002row7_col0,#T_6d0b1584_75cc_11eb_9505_0242ac1c0002row7_col5,#T_6d0b1584_75cc_11eb_9505_0242ac1c0002row7_col9,#T_6d0b1584_75cc_11eb_9505_0242ac1c0002row8_col3,#T_6d0b1584_75cc_11eb_9505_0242ac1c0002row9_col3,#T_6d0b1584_75cc_11eb_9505_0242ac1c0002row14_col3,#T_6d0b1584_75cc_11eb_9505_0242ac1c0002row14_col7,#T_6d0b1584_75cc_11eb_9505_0242ac1c0002row14_col15,#T_6d0b1584_75cc_11eb_9505_0242ac1c0002row16_col18,#T_6d0b1584_75cc_11eb_9505_0242ac1c0002row19_col1,#T_6d0b1584_75cc_11eb_9505_0242ac1c0002row19_col7,#T_6d0b1584_75cc_11eb_9505_0242ac1c0002row20_col0{\n",
              "            background-color:  #7295f4;\n",
              "            color:  #000000;\n",
              "        }#T_6d0b1584_75cc_11eb_9505_0242ac1c0002row2_col12,#T_6d0b1584_75cc_11eb_9505_0242ac1c0002row9_col2,#T_6d0b1584_75cc_11eb_9505_0242ac1c0002row16_col3{\n",
              "            background-color:  #7b9ff9;\n",
              "            color:  #000000;\n",
              "        }#T_6d0b1584_75cc_11eb_9505_0242ac1c0002row2_col14{\n",
              "            background-color:  #c7d7f0;\n",
              "            color:  #000000;\n",
              "        }#T_6d0b1584_75cc_11eb_9505_0242ac1c0002row2_col17,#T_6d0b1584_75cc_11eb_9505_0242ac1c0002row4_col15,#T_6d0b1584_75cc_11eb_9505_0242ac1c0002row9_col16,#T_6d0b1584_75cc_11eb_9505_0242ac1c0002row10_col1,#T_6d0b1584_75cc_11eb_9505_0242ac1c0002row11_col2,#T_6d0b1584_75cc_11eb_9505_0242ac1c0002row11_col19,#T_6d0b1584_75cc_11eb_9505_0242ac1c0002row13_col6,#T_6d0b1584_75cc_11eb_9505_0242ac1c0002row13_col18,#T_6d0b1584_75cc_11eb_9505_0242ac1c0002row16_col0{\n",
              "            background-color:  #6f92f3;\n",
              "            color:  #000000;\n",
              "        }#T_6d0b1584_75cc_11eb_9505_0242ac1c0002row2_col21{\n",
              "            background-color:  #d9dce1;\n",
              "            color:  #000000;\n",
              "        }#T_6d0b1584_75cc_11eb_9505_0242ac1c0002row2_col22,#T_6d0b1584_75cc_11eb_9505_0242ac1c0002row18_col20,#T_6d0b1584_75cc_11eb_9505_0242ac1c0002row18_col22,#T_6d0b1584_75cc_11eb_9505_0242ac1c0002row21_col22{\n",
              "            background-color:  #3c4ec2;\n",
              "            color:  #f1f1f1;\n",
              "        }#T_6d0b1584_75cc_11eb_9505_0242ac1c0002row3_col1,#T_6d0b1584_75cc_11eb_9505_0242ac1c0002row4_col16,#T_6d0b1584_75cc_11eb_9505_0242ac1c0002row8_col16,#T_6d0b1584_75cc_11eb_9505_0242ac1c0002row9_col15,#T_6d0b1584_75cc_11eb_9505_0242ac1c0002row10_col3,#T_6d0b1584_75cc_11eb_9505_0242ac1c0002row12_col19,#T_6d0b1584_75cc_11eb_9505_0242ac1c0002row13_col1,#T_6d0b1584_75cc_11eb_9505_0242ac1c0002row13_col3,#T_6d0b1584_75cc_11eb_9505_0242ac1c0002row14_col16,#T_6d0b1584_75cc_11eb_9505_0242ac1c0002row14_col19{\n",
              "            background-color:  #6a8bef;\n",
              "            color:  #000000;\n",
              "        }#T_6d0b1584_75cc_11eb_9505_0242ac1c0002row3_col4{\n",
              "            background-color:  #f7a98b;\n",
              "            color:  #000000;\n",
              "        }#T_6d0b1584_75cc_11eb_9505_0242ac1c0002row3_col10,#T_6d0b1584_75cc_11eb_9505_0242ac1c0002row8_col20,#T_6d0b1584_75cc_11eb_9505_0242ac1c0002row10_col4,#T_6d0b1584_75cc_11eb_9505_0242ac1c0002row17_col4,#T_6d0b1584_75cc_11eb_9505_0242ac1c0002row21_col7{\n",
              "            background-color:  #506bda;\n",
              "            color:  #000000;\n",
              "        }#T_6d0b1584_75cc_11eb_9505_0242ac1c0002row3_col12,#T_6d0b1584_75cc_11eb_9505_0242ac1c0002row20_col22,#T_6d0b1584_75cc_11eb_9505_0242ac1c0002row21_col1{\n",
              "            background-color:  #4358cb;\n",
              "            color:  #f1f1f1;\n",
              "        }#T_6d0b1584_75cc_11eb_9505_0242ac1c0002row3_col13{\n",
              "            background-color:  #a1c0ff;\n",
              "            color:  #000000;\n",
              "        }#T_6d0b1584_75cc_11eb_9505_0242ac1c0002row3_col18{\n",
              "            background-color:  #c3d5f4;\n",
              "            color:  #000000;\n",
              "        }#T_6d0b1584_75cc_11eb_9505_0242ac1c0002row3_col20,#T_6d0b1584_75cc_11eb_9505_0242ac1c0002row4_col7,#T_6d0b1584_75cc_11eb_9505_0242ac1c0002row5_col3,#T_6d0b1584_75cc_11eb_9505_0242ac1c0002row14_col20,#T_6d0b1584_75cc_11eb_9505_0242ac1c0002row16_col2,#T_6d0b1584_75cc_11eb_9505_0242ac1c0002row17_col20{\n",
              "            background-color:  #4a63d3;\n",
              "            color:  #f1f1f1;\n",
              "        }#T_6d0b1584_75cc_11eb_9505_0242ac1c0002row3_col21,#T_6d0b1584_75cc_11eb_9505_0242ac1c0002row6_col15,#T_6d0b1584_75cc_11eb_9505_0242ac1c0002row7_col18,#T_6d0b1584_75cc_11eb_9505_0242ac1c0002row19_col6,#T_6d0b1584_75cc_11eb_9505_0242ac1c0002row20_col18{\n",
              "            background-color:  #89acfd;\n",
              "            color:  #000000;\n",
              "        }#T_6d0b1584_75cc_11eb_9505_0242ac1c0002row4_col3{\n",
              "            background-color:  #f59f80;\n",
              "            color:  #000000;\n",
              "        }#T_6d0b1584_75cc_11eb_9505_0242ac1c0002row4_col5{\n",
              "            background-color:  #f7bca1;\n",
              "            color:  #000000;\n",
              "        }#T_6d0b1584_75cc_11eb_9505_0242ac1c0002row4_col11,#T_6d0b1584_75cc_11eb_9505_0242ac1c0002row10_col16,#T_6d0b1584_75cc_11eb_9505_0242ac1c0002row11_col16,#T_6d0b1584_75cc_11eb_9505_0242ac1c0002row19_col2,#T_6d0b1584_75cc_11eb_9505_0242ac1c0002row20_col5,#T_6d0b1584_75cc_11eb_9505_0242ac1c0002row22_col5{\n",
              "            background-color:  #6687ed;\n",
              "            color:  #000000;\n",
              "        }#T_6d0b1584_75cc_11eb_9505_0242ac1c0002row4_col14,#T_6d0b1584_75cc_11eb_9505_0242ac1c0002row9_col14,#T_6d0b1584_75cc_11eb_9505_0242ac1c0002row11_col13,#T_6d0b1584_75cc_11eb_9505_0242ac1c0002row17_col14{\n",
              "            background-color:  #aac7fd;\n",
              "            color:  #000000;\n",
              "        }#T_6d0b1584_75cc_11eb_9505_0242ac1c0002row4_col18{\n",
              "            background-color:  #b2ccfb;\n",
              "            color:  #000000;\n",
              "        }#T_6d0b1584_75cc_11eb_9505_0242ac1c0002row4_col19,#T_6d0b1584_75cc_11eb_9505_0242ac1c0002row9_col8,#T_6d0b1584_75cc_11eb_9505_0242ac1c0002row9_col10,#T_6d0b1584_75cc_11eb_9505_0242ac1c0002row10_col15,#T_6d0b1584_75cc_11eb_9505_0242ac1c0002row13_col0,#T_6d0b1584_75cc_11eb_9505_0242ac1c0002row13_col8,#T_6d0b1584_75cc_11eb_9505_0242ac1c0002row16_col21,#T_6d0b1584_75cc_11eb_9505_0242ac1c0002row18_col1,#T_6d0b1584_75cc_11eb_9505_0242ac1c0002row19_col3,#T_6d0b1584_75cc_11eb_9505_0242ac1c0002row19_col10,#T_6d0b1584_75cc_11eb_9505_0242ac1c0002row20_col3{\n",
              "            background-color:  #6e90f2;\n",
              "            color:  #000000;\n",
              "        }#T_6d0b1584_75cc_11eb_9505_0242ac1c0002row4_col21,#T_6d0b1584_75cc_11eb_9505_0242ac1c0002row12_col6{\n",
              "            background-color:  #9ebeff;\n",
              "            color:  #000000;\n",
              "        }#T_6d0b1584_75cc_11eb_9505_0242ac1c0002row5_col2,#T_6d0b1584_75cc_11eb_9505_0242ac1c0002row6_col18{\n",
              "            background-color:  #90b2fe;\n",
              "            color:  #000000;\n",
              "        }#T_6d0b1584_75cc_11eb_9505_0242ac1c0002row5_col4{\n",
              "            background-color:  #f5c0a7;\n",
              "            color:  #000000;\n",
              "        }#T_6d0b1584_75cc_11eb_9505_0242ac1c0002row5_col13,#T_6d0b1584_75cc_11eb_9505_0242ac1c0002row5_col14,#T_6d0b1584_75cc_11eb_9505_0242ac1c0002row9_col13,#T_6d0b1584_75cc_11eb_9505_0242ac1c0002row10_col14,#T_6d0b1584_75cc_11eb_9505_0242ac1c0002row12_col13{\n",
              "            background-color:  #abc8fd;\n",
              "            color:  #000000;\n",
              "        }#T_6d0b1584_75cc_11eb_9505_0242ac1c0002row5_col18,#T_6d0b1584_75cc_11eb_9505_0242ac1c0002row8_col18,#T_6d0b1584_75cc_11eb_9505_0242ac1c0002row14_col2,#T_6d0b1584_75cc_11eb_9505_0242ac1c0002row15_col0,#T_6d0b1584_75cc_11eb_9505_0242ac1c0002row17_col9{\n",
              "            background-color:  #92b4fe;\n",
              "            color:  #000000;\n",
              "        }#T_6d0b1584_75cc_11eb_9505_0242ac1c0002row5_col21,#T_6d0b1584_75cc_11eb_9505_0242ac1c0002row11_col18,#T_6d0b1584_75cc_11eb_9505_0242ac1c0002row16_col13,#T_6d0b1584_75cc_11eb_9505_0242ac1c0002row21_col13,#T_6d0b1584_75cc_11eb_9505_0242ac1c0002row22_col13{\n",
              "            background-color:  #b1cbfc;\n",
              "            color:  #000000;\n",
              "        }#T_6d0b1584_75cc_11eb_9505_0242ac1c0002row5_col22,#T_6d0b1584_75cc_11eb_9505_0242ac1c0002row9_col12,#T_6d0b1584_75cc_11eb_9505_0242ac1c0002row9_col22,#T_6d0b1584_75cc_11eb_9505_0242ac1c0002row15_col4,#T_6d0b1584_75cc_11eb_9505_0242ac1c0002row15_col10{\n",
              "            background-color:  #455cce;\n",
              "            color:  #f1f1f1;\n",
              "        }#T_6d0b1584_75cc_11eb_9505_0242ac1c0002row6_col2{\n",
              "            background-color:  #f4987a;\n",
              "            color:  #000000;\n",
              "        }#T_6d0b1584_75cc_11eb_9505_0242ac1c0002row6_col5,#T_6d0b1584_75cc_11eb_9505_0242ac1c0002row10_col21,#T_6d0b1584_75cc_11eb_9505_0242ac1c0002row17_col7,#T_6d0b1584_75cc_11eb_9505_0242ac1c0002row22_col15{\n",
              "            background-color:  #7ea1fa;\n",
              "            color:  #000000;\n",
              "        }#T_6d0b1584_75cc_11eb_9505_0242ac1c0002row6_col7{\n",
              "            background-color:  #f2c9b4;\n",
              "            color:  #000000;\n",
              "        }#T_6d0b1584_75cc_11eb_9505_0242ac1c0002row6_col9,#T_6d0b1584_75cc_11eb_9505_0242ac1c0002row7_col8,#T_6d0b1584_75cc_11eb_9505_0242ac1c0002row7_col10,#T_6d0b1584_75cc_11eb_9505_0242ac1c0002row7_col17,#T_6d0b1584_75cc_11eb_9505_0242ac1c0002row10_col2,#T_6d0b1584_75cc_11eb_9505_0242ac1c0002row10_col11,#T_6d0b1584_75cc_11eb_9505_0242ac1c0002row13_col15,#T_6d0b1584_75cc_11eb_9505_0242ac1c0002row17_col18{\n",
              "            background-color:  #7da0f9;\n",
              "            color:  #000000;\n",
              "        }#T_6d0b1584_75cc_11eb_9505_0242ac1c0002row6_col10,#T_6d0b1584_75cc_11eb_9505_0242ac1c0002row7_col19,#T_6d0b1584_75cc_11eb_9505_0242ac1c0002row10_col19,#T_6d0b1584_75cc_11eb_9505_0242ac1c0002row14_col8,#T_6d0b1584_75cc_11eb_9505_0242ac1c0002row18_col13,#T_6d0b1584_75cc_11eb_9505_0242ac1c0002row21_col5{\n",
              "            background-color:  #80a3fa;\n",
              "            color:  #000000;\n",
              "        }#T_6d0b1584_75cc_11eb_9505_0242ac1c0002row6_col13,#T_6d0b1584_75cc_11eb_9505_0242ac1c0002row7_col13,#T_6d0b1584_75cc_11eb_9505_0242ac1c0002row22_col14{\n",
              "            background-color:  #a6c4fe;\n",
              "            color:  #000000;\n",
              "        }#T_6d0b1584_75cc_11eb_9505_0242ac1c0002row6_col14{\n",
              "            background-color:  #bbd1f8;\n",
              "            color:  #000000;\n",
              "        }#T_6d0b1584_75cc_11eb_9505_0242ac1c0002row6_col16,#T_6d0b1584_75cc_11eb_9505_0242ac1c0002row11_col4,#T_6d0b1584_75cc_11eb_9505_0242ac1c0002row11_col15,#T_6d0b1584_75cc_11eb_9505_0242ac1c0002row13_col2,#T_6d0b1584_75cc_11eb_9505_0242ac1c0002row13_col20,#T_6d0b1584_75cc_11eb_9505_0242ac1c0002row14_col17,#T_6d0b1584_75cc_11eb_9505_0242ac1c0002row20_col2,#T_6d0b1584_75cc_11eb_9505_0242ac1c0002row20_col7,#T_6d0b1584_75cc_11eb_9505_0242ac1c0002row20_col10,#T_6d0b1584_75cc_11eb_9505_0242ac1c0002row21_col3,#T_6d0b1584_75cc_11eb_9505_0242ac1c0002row22_col2{\n",
              "            background-color:  #5f7fe8;\n",
              "            color:  #000000;\n",
              "        }#T_6d0b1584_75cc_11eb_9505_0242ac1c0002row6_col17,#T_6d0b1584_75cc_11eb_9505_0242ac1c0002row6_col19,#T_6d0b1584_75cc_11eb_9505_0242ac1c0002row9_col19{\n",
              "            background-color:  #84a7fc;\n",
              "            color:  #000000;\n",
              "        }#T_6d0b1584_75cc_11eb_9505_0242ac1c0002row6_col21,#T_6d0b1584_75cc_11eb_9505_0242ac1c0002row10_col7{\n",
              "            background-color:  #81a4fb;\n",
              "            color:  #000000;\n",
              "        }#T_6d0b1584_75cc_11eb_9505_0242ac1c0002row6_col22,#T_6d0b1584_75cc_11eb_9505_0242ac1c0002row12_col22,#T_6d0b1584_75cc_11eb_9505_0242ac1c0002row14_col22,#T_6d0b1584_75cc_11eb_9505_0242ac1c0002row16_col22,#T_6d0b1584_75cc_11eb_9505_0242ac1c0002row19_col12,#T_6d0b1584_75cc_11eb_9505_0242ac1c0002row19_col22{\n",
              "            background-color:  #4055c8;\n",
              "            color:  #f1f1f1;\n",
              "        }#T_6d0b1584_75cc_11eb_9505_0242ac1c0002row7_col2{\n",
              "            background-color:  #e2dad5;\n",
              "            color:  #000000;\n",
              "        }#T_6d0b1584_75cc_11eb_9505_0242ac1c0002row7_col4,#T_6d0b1584_75cc_11eb_9505_0242ac1c0002row18_col12{\n",
              "            background-color:  #445acc;\n",
              "            color:  #f1f1f1;\n",
              "        }#T_6d0b1584_75cc_11eb_9505_0242ac1c0002row7_col6{\n",
              "            background-color:  #f5c1a9;\n",
              "            color:  #000000;\n",
              "        }#T_6d0b1584_75cc_11eb_9505_0242ac1c0002row7_col14,#T_6d0b1584_75cc_11eb_9505_0242ac1c0002row8_col21{\n",
              "            background-color:  #b7cff9;\n",
              "            color:  #000000;\n",
              "        }#T_6d0b1584_75cc_11eb_9505_0242ac1c0002row7_col15{\n",
              "            background-color:  #86a9fc;\n",
              "            color:  #000000;\n",
              "        }#T_6d0b1584_75cc_11eb_9505_0242ac1c0002row8_col11,#T_6d0b1584_75cc_11eb_9505_0242ac1c0002row18_col14{\n",
              "            background-color:  #9bbcff;\n",
              "            color:  #000000;\n",
              "        }#T_6d0b1584_75cc_11eb_9505_0242ac1c0002row8_col12,#T_6d0b1584_75cc_11eb_9505_0242ac1c0002row10_col22,#T_6d0b1584_75cc_11eb_9505_0242ac1c0002row15_col20,#T_6d0b1584_75cc_11eb_9505_0242ac1c0002row17_col22{\n",
              "            background-color:  #4257c9;\n",
              "            color:  #f1f1f1;\n",
              "        }#T_6d0b1584_75cc_11eb_9505_0242ac1c0002row8_col13,#T_6d0b1584_75cc_11eb_9505_0242ac1c0002row11_col14{\n",
              "            background-color:  #adc9fd;\n",
              "            color:  #000000;\n",
              "        }#T_6d0b1584_75cc_11eb_9505_0242ac1c0002row8_col14,#T_6d0b1584_75cc_11eb_9505_0242ac1c0002row19_col13,#T_6d0b1584_75cc_11eb_9505_0242ac1c0002row21_col2{\n",
              "            background-color:  #bad0f8;\n",
              "            color:  #000000;\n",
              "        }#T_6d0b1584_75cc_11eb_9505_0242ac1c0002row9_col0{\n",
              "            background-color:  #cdd9ec;\n",
              "            color:  #000000;\n",
              "        }#T_6d0b1584_75cc_11eb_9505_0242ac1c0002row9_col1{\n",
              "            background-color:  #96b7ff;\n",
              "            color:  #000000;\n",
              "        }#T_6d0b1584_75cc_11eb_9505_0242ac1c0002row9_col4,#T_6d0b1584_75cc_11eb_9505_0242ac1c0002row16_col10{\n",
              "            background-color:  #5673e0;\n",
              "            color:  #000000;\n",
              "        }#T_6d0b1584_75cc_11eb_9505_0242ac1c0002row9_col6,#T_6d0b1584_75cc_11eb_9505_0242ac1c0002row9_col17{\n",
              "            background-color:  #8fb1fe;\n",
              "            color:  #000000;\n",
              "        }#T_6d0b1584_75cc_11eb_9505_0242ac1c0002row9_col18{\n",
              "            background-color:  #aec9fc;\n",
              "            color:  #000000;\n",
              "        }#T_6d0b1584_75cc_11eb_9505_0242ac1c0002row10_col0,#T_6d0b1584_75cc_11eb_9505_0242ac1c0002row17_col0,#T_6d0b1584_75cc_11eb_9505_0242ac1c0002row18_col9,#T_6d0b1584_75cc_11eb_9505_0242ac1c0002row22_col3{\n",
              "            background-color:  #779af7;\n",
              "            color:  #000000;\n",
              "        }#T_6d0b1584_75cc_11eb_9505_0242ac1c0002row11_col1,#T_6d0b1584_75cc_11eb_9505_0242ac1c0002row16_col19,#T_6d0b1584_75cc_11eb_9505_0242ac1c0002row20_col11,#T_6d0b1584_75cc_11eb_9505_0242ac1c0002row20_col17,#T_6d0b1584_75cc_11eb_9505_0242ac1c0002row21_col6,#T_6d0b1584_75cc_11eb_9505_0242ac1c0002row22_col10{\n",
              "            background-color:  #5875e1;\n",
              "            color:  #000000;\n",
              "        }#T_6d0b1584_75cc_11eb_9505_0242ac1c0002row11_col22,#T_6d0b1584_75cc_11eb_9505_0242ac1c0002row18_col2,#T_6d0b1584_75cc_11eb_9505_0242ac1c0002row18_col15,#T_6d0b1584_75cc_11eb_9505_0242ac1c0002row22_col12{\n",
              "            background-color:  #3f53c6;\n",
              "            color:  #f1f1f1;\n",
              "        }#T_6d0b1584_75cc_11eb_9505_0242ac1c0002row12_col2,#T_6d0b1584_75cc_11eb_9505_0242ac1c0002row12_col18{\n",
              "            background-color:  #9dbdff;\n",
              "            color:  #000000;\n",
              "        }#T_6d0b1584_75cc_11eb_9505_0242ac1c0002row12_col4,#T_6d0b1584_75cc_11eb_9505_0242ac1c0002row13_col7,#T_6d0b1584_75cc_11eb_9505_0242ac1c0002row16_col7,#T_6d0b1584_75cc_11eb_9505_0242ac1c0002row17_col16,#T_6d0b1584_75cc_11eb_9505_0242ac1c0002row22_col17{\n",
              "            background-color:  #5b7ae5;\n",
              "            color:  #000000;\n",
              "        }#T_6d0b1584_75cc_11eb_9505_0242ac1c0002row12_col7{\n",
              "            background-color:  #85a8fc;\n",
              "            color:  #000000;\n",
              "        }#T_6d0b1584_75cc_11eb_9505_0242ac1c0002row12_col20,#T_6d0b1584_75cc_11eb_9505_0242ac1c0002row13_col4{\n",
              "            background-color:  #5470de;\n",
              "            color:  #000000;\n",
              "        }#T_6d0b1584_75cc_11eb_9505_0242ac1c0002row13_col10,#T_6d0b1584_75cc_11eb_9505_0242ac1c0002row14_col4,#T_6d0b1584_75cc_11eb_9505_0242ac1c0002row15_col5,#T_6d0b1584_75cc_11eb_9505_0242ac1c0002row15_col18,#T_6d0b1584_75cc_11eb_9505_0242ac1c0002row16_col11,#T_6d0b1584_75cc_11eb_9505_0242ac1c0002row19_col4,#T_6d0b1584_75cc_11eb_9505_0242ac1c0002row22_col11{\n",
              "            background-color:  #5a78e4;\n",
              "            color:  #000000;\n",
              "        }#T_6d0b1584_75cc_11eb_9505_0242ac1c0002row13_col19,#T_6d0b1584_75cc_11eb_9505_0242ac1c0002row15_col1{\n",
              "            background-color:  #82a6fb;\n",
              "            color:  #000000;\n",
              "        }#T_6d0b1584_75cc_11eb_9505_0242ac1c0002row14_col6,#T_6d0b1584_75cc_11eb_9505_0242ac1c0002row21_col8{\n",
              "            background-color:  #8badfd;\n",
              "            color:  #000000;\n",
              "        }#T_6d0b1584_75cc_11eb_9505_0242ac1c0002row14_col21{\n",
              "            background-color:  #bed2f6;\n",
              "            color:  #000000;\n",
              "        }#T_6d0b1584_75cc_11eb_9505_0242ac1c0002row15_col22,#T_6d0b1584_75cc_11eb_9505_0242ac1c0002row16_col12,#T_6d0b1584_75cc_11eb_9505_0242ac1c0002row18_col16,#T_6d0b1584_75cc_11eb_9505_0242ac1c0002row18_col19{\n",
              "            background-color:  #3e51c5;\n",
              "            color:  #f1f1f1;\n",
              "        }#T_6d0b1584_75cc_11eb_9505_0242ac1c0002row17_col13{\n",
              "            background-color:  #b9d0f9;\n",
              "            color:  #000000;\n",
              "        }#T_6d0b1584_75cc_11eb_9505_0242ac1c0002row18_col17{\n",
              "            background-color:  #3d50c3;\n",
              "            color:  #f1f1f1;\n",
              "        }#T_6d0b1584_75cc_11eb_9505_0242ac1c0002row20_col13{\n",
              "            background-color:  #b3cdfb;\n",
              "            color:  #000000;\n",
              "        }#T_6d0b1584_75cc_11eb_9505_0242ac1c0002row20_col21{\n",
              "            background-color:  #88abfd;\n",
              "            color:  #000000;\n",
              "        }#T_6d0b1584_75cc_11eb_9505_0242ac1c0002row21_col14{\n",
              "            background-color:  #c9d7f0;\n",
              "            color:  #000000;\n",
              "        }#T_6d0b1584_75cc_11eb_9505_0242ac1c0002row22_col18{\n",
              "            background-color:  #94b6ff;\n",
              "            color:  #000000;\n",
              "        }</style><table id=\"T_6d0b1584_75cc_11eb_9505_0242ac1c0002\" ><thead>    <tr>        <th class=\"blank level0\" ></th>        <th class=\"col_heading level0 col0\" >Duration to accept offer</th>        <th class=\"col_heading level0 col1\" >Notice period</th>        <th class=\"col_heading level0 col2\" >Offered band</th>        <th class=\"col_heading level0 col3\" >Pecent hike expected in CTC</th>        <th class=\"col_heading level0 col4\" >Percent hike offered in CTC</th>        <th class=\"col_heading level0 col5\" >Percent difference CTC</th>        <th class=\"col_heading level0 col6\" >Rex in Yrs</th>        <th class=\"col_heading level0 col7\" >Age</th>        <th class=\"col_heading level0 col8\" >Status</th>        <th class=\"col_heading level0 col9\" >DOJ Extended_Yes</th>        <th class=\"col_heading level0 col10\" >Joining Bonus_Yes</th>        <th class=\"col_heading level0 col11\" >Candidate relocate actual_Yes</th>        <th class=\"col_heading level0 col12\" >Gender_Male</th>        <th class=\"col_heading level0 col13\" >Candidate Source_Direct</th>        <th class=\"col_heading level0 col14\" >Candidate Source_Employee Referral</th>        <th class=\"col_heading level0 col15\" >LOB_BFSI</th>        <th class=\"col_heading level0 col16\" >LOB_CSMP</th>        <th class=\"col_heading level0 col17\" >LOB_EAS</th>        <th class=\"col_heading level0 col18\" >LOB_ERS</th>        <th class=\"col_heading level0 col19\" >LOB_ETS</th>        <th class=\"col_heading level0 col20\" >LOB_Healthcare</th>        <th class=\"col_heading level0 col21\" >LOB_INFRA</th>        <th class=\"col_heading level0 col22\" >LOB_MMS</th>    </tr></thead><tbody>\n",
              "                <tr>\n",
              "                        <th id=\"T_6d0b1584_75cc_11eb_9505_0242ac1c0002level0_row0\" class=\"row_heading level0 row0\" >Duration to accept offer</th>\n",
              "                        <td id=\"T_6d0b1584_75cc_11eb_9505_0242ac1c0002row0_col0\" class=\"data row0 col0\" >1.000000</td>\n",
              "                        <td id=\"T_6d0b1584_75cc_11eb_9505_0242ac1c0002row0_col1\" class=\"data row0 col1\" >0.354864</td>\n",
              "                        <td id=\"T_6d0b1584_75cc_11eb_9505_0242ac1c0002row0_col2\" class=\"data row0 col2\" >0.029516</td>\n",
              "                        <td id=\"T_6d0b1584_75cc_11eb_9505_0242ac1c0002row0_col3\" class=\"data row0 col3\" >0.021113</td>\n",
              "                        <td id=\"T_6d0b1584_75cc_11eb_9505_0242ac1c0002row0_col4\" class=\"data row0 col4\" >0.012202</td>\n",
              "                        <td id=\"T_6d0b1584_75cc_11eb_9505_0242ac1c0002row0_col5\" class=\"data row0 col5\" >-0.004422</td>\n",
              "                        <td id=\"T_6d0b1584_75cc_11eb_9505_0242ac1c0002row0_col6\" class=\"data row0 col6\" >0.105648</td>\n",
              "                        <td id=\"T_6d0b1584_75cc_11eb_9505_0242ac1c0002row0_col7\" class=\"data row0 col7\" >0.011136</td>\n",
              "                        <td id=\"T_6d0b1584_75cc_11eb_9505_0242ac1c0002row0_col8\" class=\"data row0 col8\" >-0.072932</td>\n",
              "                        <td id=\"T_6d0b1584_75cc_11eb_9505_0242ac1c0002row0_col9\" class=\"data row0 col9\" >0.334515</td>\n",
              "                        <td id=\"T_6d0b1584_75cc_11eb_9505_0242ac1c0002row0_col10\" class=\"data row0 col10\" >0.032914</td>\n",
              "                        <td id=\"T_6d0b1584_75cc_11eb_9505_0242ac1c0002row0_col11\" class=\"data row0 col11\" >0.008436</td>\n",
              "                        <td id=\"T_6d0b1584_75cc_11eb_9505_0242ac1c0002row0_col12\" class=\"data row0 col12\" >0.018579</td>\n",
              "                        <td id=\"T_6d0b1584_75cc_11eb_9505_0242ac1c0002row0_col13\" class=\"data row0 col13\" >0.000034</td>\n",
              "                        <td id=\"T_6d0b1584_75cc_11eb_9505_0242ac1c0002row0_col14\" class=\"data row0 col14\" >-0.044605</td>\n",
              "                        <td id=\"T_6d0b1584_75cc_11eb_9505_0242ac1c0002row0_col15\" class=\"data row0 col15\" >0.122515</td>\n",
              "                        <td id=\"T_6d0b1584_75cc_11eb_9505_0242ac1c0002row0_col16\" class=\"data row0 col16\" >0.003961</td>\n",
              "                        <td id=\"T_6d0b1584_75cc_11eb_9505_0242ac1c0002row0_col17\" class=\"data row0 col17\" >0.033757</td>\n",
              "                        <td id=\"T_6d0b1584_75cc_11eb_9505_0242ac1c0002row0_col18\" class=\"data row0 col18\" >0.029223</td>\n",
              "                        <td id=\"T_6d0b1584_75cc_11eb_9505_0242ac1c0002row0_col19\" class=\"data row0 col19\" >0.026913</td>\n",
              "                        <td id=\"T_6d0b1584_75cc_11eb_9505_0242ac1c0002row0_col20\" class=\"data row0 col20\" >0.013310</td>\n",
              "                        <td id=\"T_6d0b1584_75cc_11eb_9505_0242ac1c0002row0_col21\" class=\"data row0 col21\" >-0.194166</td>\n",
              "                        <td id=\"T_6d0b1584_75cc_11eb_9505_0242ac1c0002row0_col22\" class=\"data row0 col22\" >0.010313</td>\n",
              "            </tr>\n",
              "            <tr>\n",
              "                        <th id=\"T_6d0b1584_75cc_11eb_9505_0242ac1c0002level0_row1\" class=\"row_heading level0 row1\" >Notice period</th>\n",
              "                        <td id=\"T_6d0b1584_75cc_11eb_9505_0242ac1c0002row1_col0\" class=\"data row1 col0\" >0.354864</td>\n",
              "                        <td id=\"T_6d0b1584_75cc_11eb_9505_0242ac1c0002row1_col1\" class=\"data row1 col1\" >1.000000</td>\n",
              "                        <td id=\"T_6d0b1584_75cc_11eb_9505_0242ac1c0002row1_col2\" class=\"data row1 col2\" >0.155257</td>\n",
              "                        <td id=\"T_6d0b1584_75cc_11eb_9505_0242ac1c0002row1_col3\" class=\"data row1 col3\" >-0.000581</td>\n",
              "                        <td id=\"T_6d0b1584_75cc_11eb_9505_0242ac1c0002row1_col4\" class=\"data row1 col4\" >-0.015999</td>\n",
              "                        <td id=\"T_6d0b1584_75cc_11eb_9505_0242ac1c0002row1_col5\" class=\"data row1 col5\" >-0.024190</td>\n",
              "                        <td id=\"T_6d0b1584_75cc_11eb_9505_0242ac1c0002row1_col6\" class=\"data row1 col6\" >0.178257</td>\n",
              "                        <td id=\"T_6d0b1584_75cc_11eb_9505_0242ac1c0002row1_col7\" class=\"data row1 col7\" >-0.020829</td>\n",
              "                        <td id=\"T_6d0b1584_75cc_11eb_9505_0242ac1c0002row1_col8\" class=\"data row1 col8\" >-0.175371</td>\n",
              "                        <td id=\"T_6d0b1584_75cc_11eb_9505_0242ac1c0002row1_col9\" class=\"data row1 col9\" >0.146987</td>\n",
              "                        <td id=\"T_6d0b1584_75cc_11eb_9505_0242ac1c0002row1_col10\" class=\"data row1 col10\" >0.017890</td>\n",
              "                        <td id=\"T_6d0b1584_75cc_11eb_9505_0242ac1c0002row1_col11\" class=\"data row1 col11\" >-0.064549</td>\n",
              "                        <td id=\"T_6d0b1584_75cc_11eb_9505_0242ac1c0002row1_col12\" class=\"data row1 col12\" >0.043478</td>\n",
              "                        <td id=\"T_6d0b1584_75cc_11eb_9505_0242ac1c0002row1_col13\" class=\"data row1 col13\" >-0.000467</td>\n",
              "                        <td id=\"T_6d0b1584_75cc_11eb_9505_0242ac1c0002row1_col14\" class=\"data row1 col14\" >-0.031516</td>\n",
              "                        <td id=\"T_6d0b1584_75cc_11eb_9505_0242ac1c0002row1_col15\" class=\"data row1 col15\" >0.081745</td>\n",
              "                        <td id=\"T_6d0b1584_75cc_11eb_9505_0242ac1c0002row1_col16\" class=\"data row1 col16\" >0.007739</td>\n",
              "                        <td id=\"T_6d0b1584_75cc_11eb_9505_0242ac1c0002row1_col17\" class=\"data row1 col17\" >0.031585</td>\n",
              "                        <td id=\"T_6d0b1584_75cc_11eb_9505_0242ac1c0002row1_col18\" class=\"data row1 col18\" >0.015139</td>\n",
              "                        <td id=\"T_6d0b1584_75cc_11eb_9505_0242ac1c0002row1_col19\" class=\"data row1 col19\" >0.030576</td>\n",
              "                        <td id=\"T_6d0b1584_75cc_11eb_9505_0242ac1c0002row1_col20\" class=\"data row1 col20\" >0.004385</td>\n",
              "                        <td id=\"T_6d0b1584_75cc_11eb_9505_0242ac1c0002row1_col21\" class=\"data row1 col21\" >-0.139901</td>\n",
              "                        <td id=\"T_6d0b1584_75cc_11eb_9505_0242ac1c0002row1_col22\" class=\"data row1 col22\" >0.023345</td>\n",
              "            </tr>\n",
              "            <tr>\n",
              "                        <th id=\"T_6d0b1584_75cc_11eb_9505_0242ac1c0002level0_row2\" class=\"row_heading level0 row2\" >Offered band</th>\n",
              "                        <td id=\"T_6d0b1584_75cc_11eb_9505_0242ac1c0002row2_col0\" class=\"data row2 col0\" >0.029516</td>\n",
              "                        <td id=\"T_6d0b1584_75cc_11eb_9505_0242ac1c0002row2_col1\" class=\"data row2 col1\" >0.155257</td>\n",
              "                        <td id=\"T_6d0b1584_75cc_11eb_9505_0242ac1c0002row2_col2\" class=\"data row2 col2\" >1.000000</td>\n",
              "                        <td id=\"T_6d0b1584_75cc_11eb_9505_0242ac1c0002row2_col3\" class=\"data row2 col3\" >-0.169219</td>\n",
              "                        <td id=\"T_6d0b1584_75cc_11eb_9505_0242ac1c0002row2_col4\" class=\"data row2 col4\" >-0.037223</td>\n",
              "                        <td id=\"T_6d0b1584_75cc_11eb_9505_0242ac1c0002row2_col5\" class=\"data row2 col5\" >0.132464</td>\n",
              "                        <td id=\"T_6d0b1584_75cc_11eb_9505_0242ac1c0002row2_col6\" class=\"data row2 col6\" >0.710718</td>\n",
              "                        <td id=\"T_6d0b1584_75cc_11eb_9505_0242ac1c0002row2_col7\" class=\"data row2 col7\" >0.438655</td>\n",
              "                        <td id=\"T_6d0b1584_75cc_11eb_9505_0242ac1c0002row2_col8\" class=\"data row2 col8\" >0.029500</td>\n",
              "                        <td id=\"T_6d0b1584_75cc_11eb_9505_0242ac1c0002row2_col9\" class=\"data row2 col9\" >0.064130</td>\n",
              "                        <td id=\"T_6d0b1584_75cc_11eb_9505_0242ac1c0002row2_col10\" class=\"data row2 col10\" >0.072399</td>\n",
              "                        <td id=\"T_6d0b1584_75cc_11eb_9505_0242ac1c0002row2_col11\" class=\"data row2 col11\" >0.024385</td>\n",
              "                        <td id=\"T_6d0b1584_75cc_11eb_9505_0242ac1c0002row2_col12\" class=\"data row2 col12\" >0.175478</td>\n",
              "                        <td id=\"T_6d0b1584_75cc_11eb_9505_0242ac1c0002row2_col13\" class=\"data row2 col13\" >-0.028043</td>\n",
              "                        <td id=\"T_6d0b1584_75cc_11eb_9505_0242ac1c0002row2_col14\" class=\"data row2 col14\" >0.138561</td>\n",
              "                        <td id=\"T_6d0b1584_75cc_11eb_9505_0242ac1c0002row2_col15\" class=\"data row2 col15\" >-0.112593</td>\n",
              "                        <td id=\"T_6d0b1584_75cc_11eb_9505_0242ac1c0002row2_col16\" class=\"data row2 col16\" >-0.105589</td>\n",
              "                        <td id=\"T_6d0b1584_75cc_11eb_9505_0242ac1c0002row2_col17\" class=\"data row2 col17\" >0.056905</td>\n",
              "                        <td id=\"T_6d0b1584_75cc_11eb_9505_0242ac1c0002row2_col18\" class=\"data row2 col18\" >-0.148801</td>\n",
              "                        <td id=\"T_6d0b1584_75cc_11eb_9505_0242ac1c0002row2_col19\" class=\"data row2 col19\" >-0.007958</td>\n",
              "                        <td id=\"T_6d0b1584_75cc_11eb_9505_0242ac1c0002row2_col20\" class=\"data row2 col20\" >-0.028675</td>\n",
              "                        <td id=\"T_6d0b1584_75cc_11eb_9505_0242ac1c0002row2_col21\" class=\"data row2 col21\" >0.277155</td>\n",
              "                        <td id=\"T_6d0b1584_75cc_11eb_9505_0242ac1c0002row2_col22\" class=\"data row2 col22\" >-0.028809</td>\n",
              "            </tr>\n",
              "            <tr>\n",
              "                        <th id=\"T_6d0b1584_75cc_11eb_9505_0242ac1c0002level0_row3\" class=\"row_heading level0 row3\" >Pecent hike expected in CTC</th>\n",
              "                        <td id=\"T_6d0b1584_75cc_11eb_9505_0242ac1c0002row3_col0\" class=\"data row3 col0\" >0.021113</td>\n",
              "                        <td id=\"T_6d0b1584_75cc_11eb_9505_0242ac1c0002row3_col1\" class=\"data row3 col1\" >-0.000581</td>\n",
              "                        <td id=\"T_6d0b1584_75cc_11eb_9505_0242ac1c0002row3_col2\" class=\"data row3 col2\" >-0.169219</td>\n",
              "                        <td id=\"T_6d0b1584_75cc_11eb_9505_0242ac1c0002row3_col3\" class=\"data row3 col3\" >1.000000</td>\n",
              "                        <td id=\"T_6d0b1584_75cc_11eb_9505_0242ac1c0002row3_col4\" class=\"data row3 col4\" >0.676502</td>\n",
              "                        <td id=\"T_6d0b1584_75cc_11eb_9505_0242ac1c0002row3_col5\" class=\"data row3 col5\" >-0.156460</td>\n",
              "                        <td id=\"T_6d0b1584_75cc_11eb_9505_0242ac1c0002row3_col6\" class=\"data row3 col6\" >-0.219504</td>\n",
              "                        <td id=\"T_6d0b1584_75cc_11eb_9505_0242ac1c0002row3_col7\" class=\"data row3 col7\" >-0.136061</td>\n",
              "                        <td id=\"T_6d0b1584_75cc_11eb_9505_0242ac1c0002row3_col8\" class=\"data row3 col8\" >-0.009722</td>\n",
              "                        <td id=\"T_6d0b1584_75cc_11eb_9505_0242ac1c0002row3_col9\" class=\"data row3 col9\" >-0.009026</td>\n",
              "                        <td id=\"T_6d0b1584_75cc_11eb_9505_0242ac1c0002row3_col10\" class=\"data row3 col10\" >-0.038456</td>\n",
              "                        <td id=\"T_6d0b1584_75cc_11eb_9505_0242ac1c0002row3_col11\" class=\"data row3 col11\" >-0.003176</td>\n",
              "                        <td id=\"T_6d0b1584_75cc_11eb_9505_0242ac1c0002row3_col12\" class=\"data row3 col12\" >-0.003561</td>\n",
              "                        <td id=\"T_6d0b1584_75cc_11eb_9505_0242ac1c0002row3_col13\" class=\"data row3 col13\" >-0.037178</td>\n",
              "                        <td id=\"T_6d0b1584_75cc_11eb_9505_0242ac1c0002row3_col14\" class=\"data row3 col14\" >-0.009734</td>\n",
              "                        <td id=\"T_6d0b1584_75cc_11eb_9505_0242ac1c0002row3_col15\" class=\"data row3 col15\" >-0.056912</td>\n",
              "                        <td id=\"T_6d0b1584_75cc_11eb_9505_0242ac1c0002row3_col16\" class=\"data row3 col16\" >0.026112</td>\n",
              "                        <td id=\"T_6d0b1584_75cc_11eb_9505_0242ac1c0002row3_col17\" class=\"data row3 col17\" >-0.039486</td>\n",
              "                        <td id=\"T_6d0b1584_75cc_11eb_9505_0242ac1c0002row3_col18\" class=\"data row3 col18\" >0.163206</td>\n",
              "                        <td id=\"T_6d0b1584_75cc_11eb_9505_0242ac1c0002row3_col19\" class=\"data row3 col19\" >-0.022021</td>\n",
              "                        <td id=\"T_6d0b1584_75cc_11eb_9505_0242ac1c0002row3_col20\" class=\"data row3 col20\" >-0.021568</td>\n",
              "                        <td id=\"T_6d0b1584_75cc_11eb_9505_0242ac1c0002row3_col21\" class=\"data row3 col21\" >-0.073313</td>\n",
              "                        <td id=\"T_6d0b1584_75cc_11eb_9505_0242ac1c0002row3_col22\" class=\"data row3 col22\" >0.011898</td>\n",
              "            </tr>\n",
              "            <tr>\n",
              "                        <th id=\"T_6d0b1584_75cc_11eb_9505_0242ac1c0002level0_row4\" class=\"row_heading level0 row4\" >Percent hike offered in CTC</th>\n",
              "                        <td id=\"T_6d0b1584_75cc_11eb_9505_0242ac1c0002row4_col0\" class=\"data row4 col0\" >0.012202</td>\n",
              "                        <td id=\"T_6d0b1584_75cc_11eb_9505_0242ac1c0002row4_col1\" class=\"data row4 col1\" >-0.015999</td>\n",
              "                        <td id=\"T_6d0b1584_75cc_11eb_9505_0242ac1c0002row4_col2\" class=\"data row4 col2\" >-0.037223</td>\n",
              "                        <td id=\"T_6d0b1584_75cc_11eb_9505_0242ac1c0002row4_col3\" class=\"data row4 col3\" >0.676502</td>\n",
              "                        <td id=\"T_6d0b1584_75cc_11eb_9505_0242ac1c0002row4_col4\" class=\"data row4 col4\" >1.000000</td>\n",
              "                        <td id=\"T_6d0b1584_75cc_11eb_9505_0242ac1c0002row4_col5\" class=\"data row4 col5\" >0.600194</td>\n",
              "                        <td id=\"T_6d0b1584_75cc_11eb_9505_0242ac1c0002row4_col6\" class=\"data row4 col6\" >-0.111991</td>\n",
              "                        <td id=\"T_6d0b1584_75cc_11eb_9505_0242ac1c0002row4_col7\" class=\"data row4 col7\" >-0.076174</td>\n",
              "                        <td id=\"T_6d0b1584_75cc_11eb_9505_0242ac1c0002row4_col8\" class=\"data row4 col8\" >0.024593</td>\n",
              "                        <td id=\"T_6d0b1584_75cc_11eb_9505_0242ac1c0002row4_col9\" class=\"data row4 col9\" >-0.011090</td>\n",
              "                        <td id=\"T_6d0b1584_75cc_11eb_9505_0242ac1c0002row4_col10\" class=\"data row4 col10\" >-0.031956</td>\n",
              "                        <td id=\"T_6d0b1584_75cc_11eb_9505_0242ac1c0002row4_col11\" class=\"data row4 col11\" >0.020532</td>\n",
              "                        <td id=\"T_6d0b1584_75cc_11eb_9505_0242ac1c0002row4_col12\" class=\"data row4 col12\" >0.009301</td>\n",
              "                        <td id=\"T_6d0b1584_75cc_11eb_9505_0242ac1c0002row4_col13\" class=\"data row4 col13\" >-0.019668</td>\n",
              "                        <td id=\"T_6d0b1584_75cc_11eb_9505_0242ac1c0002row4_col14\" class=\"data row4 col14\" >0.001604</td>\n",
              "                        <td id=\"T_6d0b1584_75cc_11eb_9505_0242ac1c0002row4_col15\" class=\"data row4 col15\" >-0.072486</td>\n",
              "                        <td id=\"T_6d0b1584_75cc_11eb_9505_0242ac1c0002row4_col16\" class=\"data row4 col16\" >-0.001627</td>\n",
              "                        <td id=\"T_6d0b1584_75cc_11eb_9505_0242ac1c0002row4_col17\" class=\"data row4 col17\" >-0.030704</td>\n",
              "                        <td id=\"T_6d0b1584_75cc_11eb_9505_0242ac1c0002row4_col18\" class=\"data row4 col18\" >0.092712</td>\n",
              "                        <td id=\"T_6d0b1584_75cc_11eb_9505_0242ac1c0002row4_col19\" class=\"data row4 col19\" >0.004992</td>\n",
              "                        <td id=\"T_6d0b1584_75cc_11eb_9505_0242ac1c0002row4_col20\" class=\"data row4 col20\" >-0.012238</td>\n",
              "                        <td id=\"T_6d0b1584_75cc_11eb_9505_0242ac1c0002row4_col21\" class=\"data row4 col21\" >0.009728</td>\n",
              "                        <td id=\"T_6d0b1584_75cc_11eb_9505_0242ac1c0002row4_col22\" class=\"data row4 col22\" >0.014318</td>\n",
              "            </tr>\n",
              "            <tr>\n",
              "                        <th id=\"T_6d0b1584_75cc_11eb_9505_0242ac1c0002level0_row5\" class=\"row_heading level0 row5\" >Percent difference CTC</th>\n",
              "                        <td id=\"T_6d0b1584_75cc_11eb_9505_0242ac1c0002row5_col0\" class=\"data row5 col0\" >-0.004422</td>\n",
              "                        <td id=\"T_6d0b1584_75cc_11eb_9505_0242ac1c0002row5_col1\" class=\"data row5 col1\" >-0.024190</td>\n",
              "                        <td id=\"T_6d0b1584_75cc_11eb_9505_0242ac1c0002row5_col2\" class=\"data row5 col2\" >0.132464</td>\n",
              "                        <td id=\"T_6d0b1584_75cc_11eb_9505_0242ac1c0002row5_col3\" class=\"data row5 col3\" >-0.156460</td>\n",
              "                        <td id=\"T_6d0b1584_75cc_11eb_9505_0242ac1c0002row5_col4\" class=\"data row5 col4\" >0.600194</td>\n",
              "                        <td id=\"T_6d0b1584_75cc_11eb_9505_0242ac1c0002row5_col5\" class=\"data row5 col5\" >1.000000</td>\n",
              "                        <td id=\"T_6d0b1584_75cc_11eb_9505_0242ac1c0002row5_col6\" class=\"data row5 col6\" >0.086750</td>\n",
              "                        <td id=\"T_6d0b1584_75cc_11eb_9505_0242ac1c0002row5_col7\" class=\"data row5 col7\" >0.045246</td>\n",
              "                        <td id=\"T_6d0b1584_75cc_11eb_9505_0242ac1c0002row5_col8\" class=\"data row5 col8\" >0.041948</td>\n",
              "                        <td id=\"T_6d0b1584_75cc_11eb_9505_0242ac1c0002row5_col9\" class=\"data row5 col9\" >-0.002080</td>\n",
              "                        <td id=\"T_6d0b1584_75cc_11eb_9505_0242ac1c0002row5_col10\" class=\"data row5 col10\" >-0.005781</td>\n",
              "                        <td id=\"T_6d0b1584_75cc_11eb_9505_0242ac1c0002row5_col11\" class=\"data row5 col11\" >0.028243</td>\n",
              "                        <td id=\"T_6d0b1584_75cc_11eb_9505_0242ac1c0002row5_col12\" class=\"data row5 col12\" >0.014516</td>\n",
              "                        <td id=\"T_6d0b1584_75cc_11eb_9505_0242ac1c0002row5_col13\" class=\"data row5 col13\" >0.011760</td>\n",
              "                        <td id=\"T_6d0b1584_75cc_11eb_9505_0242ac1c0002row5_col14\" class=\"data row5 col14\" >0.011123</td>\n",
              "                        <td id=\"T_6d0b1584_75cc_11eb_9505_0242ac1c0002row5_col15\" class=\"data row5 col15\" >-0.036707</td>\n",
              "                        <td id=\"T_6d0b1584_75cc_11eb_9505_0242ac1c0002row5_col16\" class=\"data row5 col16\" >-0.027138</td>\n",
              "                        <td id=\"T_6d0b1584_75cc_11eb_9505_0242ac1c0002row5_col17\" class=\"data row5 col17\" >-0.000740</td>\n",
              "                        <td id=\"T_6d0b1584_75cc_11eb_9505_0242ac1c0002row5_col18\" class=\"data row5 col18\" >-0.040912</td>\n",
              "                        <td id=\"T_6d0b1584_75cc_11eb_9505_0242ac1c0002row5_col19\" class=\"data row5 col19\" >0.022447</td>\n",
              "                        <td id=\"T_6d0b1584_75cc_11eb_9505_0242ac1c0002row5_col20\" class=\"data row5 col20\" >0.003078</td>\n",
              "                        <td id=\"T_6d0b1584_75cc_11eb_9505_0242ac1c0002row5_col21\" class=\"data row5 col21\" >0.088434</td>\n",
              "                        <td id=\"T_6d0b1584_75cc_11eb_9505_0242ac1c0002row5_col22\" class=\"data row5 col22\" >0.004168</td>\n",
              "            </tr>\n",
              "            <tr>\n",
              "                        <th id=\"T_6d0b1584_75cc_11eb_9505_0242ac1c0002level0_row6\" class=\"row_heading level0 row6\" >Rex in Yrs</th>\n",
              "                        <td id=\"T_6d0b1584_75cc_11eb_9505_0242ac1c0002row6_col0\" class=\"data row6 col0\" >0.105648</td>\n",
              "                        <td id=\"T_6d0b1584_75cc_11eb_9505_0242ac1c0002row6_col1\" class=\"data row6 col1\" >0.178257</td>\n",
              "                        <td id=\"T_6d0b1584_75cc_11eb_9505_0242ac1c0002row6_col2\" class=\"data row6 col2\" >0.710718</td>\n",
              "                        <td id=\"T_6d0b1584_75cc_11eb_9505_0242ac1c0002row6_col3\" class=\"data row6 col3\" >-0.219504</td>\n",
              "                        <td id=\"T_6d0b1584_75cc_11eb_9505_0242ac1c0002row6_col4\" class=\"data row6 col4\" >-0.111991</td>\n",
              "                        <td id=\"T_6d0b1584_75cc_11eb_9505_0242ac1c0002row6_col5\" class=\"data row6 col5\" >0.086750</td>\n",
              "                        <td id=\"T_6d0b1584_75cc_11eb_9505_0242ac1c0002row6_col6\" class=\"data row6 col6\" >1.000000</td>\n",
              "                        <td id=\"T_6d0b1584_75cc_11eb_9505_0242ac1c0002row6_col7\" class=\"data row6 col7\" >0.555119</td>\n",
              "                        <td id=\"T_6d0b1584_75cc_11eb_9505_0242ac1c0002row6_col8\" class=\"data row6 col8\" >-0.026525</td>\n",
              "                        <td id=\"T_6d0b1584_75cc_11eb_9505_0242ac1c0002row6_col9\" class=\"data row6 col9\" >0.094475</td>\n",
              "                        <td id=\"T_6d0b1584_75cc_11eb_9505_0242ac1c0002row6_col10\" class=\"data row6 col10\" >0.118814</td>\n",
              "                        <td id=\"T_6d0b1584_75cc_11eb_9505_0242ac1c0002row6_col11\" class=\"data row6 col11\" >0.006748</td>\n",
              "                        <td id=\"T_6d0b1584_75cc_11eb_9505_0242ac1c0002row6_col12\" class=\"data row6 col12\" >0.143541</td>\n",
              "                        <td id=\"T_6d0b1584_75cc_11eb_9505_0242ac1c0002row6_col13\" class=\"data row6 col13\" >-0.016318</td>\n",
              "                        <td id=\"T_6d0b1584_75cc_11eb_9505_0242ac1c0002row6_col14\" class=\"data row6 col14\" >0.077513</td>\n",
              "                        <td id=\"T_6d0b1584_75cc_11eb_9505_0242ac1c0002row6_col15\" class=\"data row6 col15\" >0.022679</td>\n",
              "                        <td id=\"T_6d0b1584_75cc_11eb_9505_0242ac1c0002row6_col16\" class=\"data row6 col16\" >-0.038902</td>\n",
              "                        <td id=\"T_6d0b1584_75cc_11eb_9505_0242ac1c0002row6_col17\" class=\"data row6 col17\" >0.120461</td>\n",
              "                        <td id=\"T_6d0b1584_75cc_11eb_9505_0242ac1c0002row6_col18\" class=\"data row6 col18\" >-0.044577</td>\n",
              "                        <td id=\"T_6d0b1584_75cc_11eb_9505_0242ac1c0002row6_col19\" class=\"data row6 col19\" >0.075418</td>\n",
              "                        <td id=\"T_6d0b1584_75cc_11eb_9505_0242ac1c0002row6_col20\" class=\"data row6 col20\" >0.005184</td>\n",
              "                        <td id=\"T_6d0b1584_75cc_11eb_9505_0242ac1c0002row6_col21\" class=\"data row6 col21\" >-0.103740</td>\n",
              "                        <td id=\"T_6d0b1584_75cc_11eb_9505_0242ac1c0002row6_col22\" class=\"data row6 col22\" >-0.013685</td>\n",
              "            </tr>\n",
              "            <tr>\n",
              "                        <th id=\"T_6d0b1584_75cc_11eb_9505_0242ac1c0002level0_row7\" class=\"row_heading level0 row7\" >Age</th>\n",
              "                        <td id=\"T_6d0b1584_75cc_11eb_9505_0242ac1c0002row7_col0\" class=\"data row7 col0\" >0.011136</td>\n",
              "                        <td id=\"T_6d0b1584_75cc_11eb_9505_0242ac1c0002row7_col1\" class=\"data row7 col1\" >-0.020829</td>\n",
              "                        <td id=\"T_6d0b1584_75cc_11eb_9505_0242ac1c0002row7_col2\" class=\"data row7 col2\" >0.438655</td>\n",
              "                        <td id=\"T_6d0b1584_75cc_11eb_9505_0242ac1c0002row7_col3\" class=\"data row7 col3\" >-0.136061</td>\n",
              "                        <td id=\"T_6d0b1584_75cc_11eb_9505_0242ac1c0002row7_col4\" class=\"data row7 col4\" >-0.076174</td>\n",
              "                        <td id=\"T_6d0b1584_75cc_11eb_9505_0242ac1c0002row7_col5\" class=\"data row7 col5\" >0.045246</td>\n",
              "                        <td id=\"T_6d0b1584_75cc_11eb_9505_0242ac1c0002row7_col6\" class=\"data row7 col6\" >0.555119</td>\n",
              "                        <td id=\"T_6d0b1584_75cc_11eb_9505_0242ac1c0002row7_col7\" class=\"data row7 col7\" >1.000000</td>\n",
              "                        <td id=\"T_6d0b1584_75cc_11eb_9505_0242ac1c0002row7_col8\" class=\"data row7 col8\" >0.063921</td>\n",
              "                        <td id=\"T_6d0b1584_75cc_11eb_9505_0242ac1c0002row7_col9\" class=\"data row7 col9\" >0.055534</td>\n",
              "                        <td id=\"T_6d0b1584_75cc_11eb_9505_0242ac1c0002row7_col10\" class=\"data row7 col10\" >0.109893</td>\n",
              "                        <td id=\"T_6d0b1584_75cc_11eb_9505_0242ac1c0002row7_col11\" class=\"data row7 col11\" >0.070194</td>\n",
              "                        <td id=\"T_6d0b1584_75cc_11eb_9505_0242ac1c0002row7_col12\" class=\"data row7 col12\" >0.124798</td>\n",
              "                        <td id=\"T_6d0b1584_75cc_11eb_9505_0242ac1c0002row7_col13\" class=\"data row7 col13\" >-0.014368</td>\n",
              "                        <td id=\"T_6d0b1584_75cc_11eb_9505_0242ac1c0002row7_col14\" class=\"data row7 col14\" >0.062139</td>\n",
              "                        <td id=\"T_6d0b1584_75cc_11eb_9505_0242ac1c0002row7_col15\" class=\"data row7 col15\" >0.010992</td>\n",
              "                        <td id=\"T_6d0b1584_75cc_11eb_9505_0242ac1c0002row7_col16\" class=\"data row7 col16\" >-0.013161</td>\n",
              "                        <td id=\"T_6d0b1584_75cc_11eb_9505_0242ac1c0002row7_col17\" class=\"data row7 col17\" >0.099280</td>\n",
              "                        <td id=\"T_6d0b1584_75cc_11eb_9505_0242ac1c0002row7_col18\" class=\"data row7 col18\" >-0.073842</td>\n",
              "                        <td id=\"T_6d0b1584_75cc_11eb_9505_0242ac1c0002row7_col19\" class=\"data row7 col19\" >0.061918</td>\n",
              "                        <td id=\"T_6d0b1584_75cc_11eb_9505_0242ac1c0002row7_col20\" class=\"data row7 col20\" >0.000081</td>\n",
              "                        <td id=\"T_6d0b1584_75cc_11eb_9505_0242ac1c0002row7_col21\" class=\"data row7 col21\" >-0.054380</td>\n",
              "                        <td id=\"T_6d0b1584_75cc_11eb_9505_0242ac1c0002row7_col22\" class=\"data row7 col22\" >-0.035880</td>\n",
              "            </tr>\n",
              "            <tr>\n",
              "                        <th id=\"T_6d0b1584_75cc_11eb_9505_0242ac1c0002level0_row8\" class=\"row_heading level0 row8\" >Status</th>\n",
              "                        <td id=\"T_6d0b1584_75cc_11eb_9505_0242ac1c0002row8_col0\" class=\"data row8 col0\" >-0.072932</td>\n",
              "                        <td id=\"T_6d0b1584_75cc_11eb_9505_0242ac1c0002row8_col1\" class=\"data row8 col1\" >-0.175371</td>\n",
              "                        <td id=\"T_6d0b1584_75cc_11eb_9505_0242ac1c0002row8_col2\" class=\"data row8 col2\" >0.029500</td>\n",
              "                        <td id=\"T_6d0b1584_75cc_11eb_9505_0242ac1c0002row8_col3\" class=\"data row8 col3\" >-0.009722</td>\n",
              "                        <td id=\"T_6d0b1584_75cc_11eb_9505_0242ac1c0002row8_col4\" class=\"data row8 col4\" >0.024593</td>\n",
              "                        <td id=\"T_6d0b1584_75cc_11eb_9505_0242ac1c0002row8_col5\" class=\"data row8 col5\" >0.041948</td>\n",
              "                        <td id=\"T_6d0b1584_75cc_11eb_9505_0242ac1c0002row8_col6\" class=\"data row8 col6\" >-0.026525</td>\n",
              "                        <td id=\"T_6d0b1584_75cc_11eb_9505_0242ac1c0002row8_col7\" class=\"data row8 col7\" >0.063921</td>\n",
              "                        <td id=\"T_6d0b1584_75cc_11eb_9505_0242ac1c0002row8_col8\" class=\"data row8 col8\" >1.000000</td>\n",
              "                        <td id=\"T_6d0b1584_75cc_11eb_9505_0242ac1c0002row8_col9\" class=\"data row8 col9\" >0.013678</td>\n",
              "                        <td id=\"T_6d0b1584_75cc_11eb_9505_0242ac1c0002row8_col10\" class=\"data row8 col10\" >0.003746</td>\n",
              "                        <td id=\"T_6d0b1584_75cc_11eb_9505_0242ac1c0002row8_col11\" class=\"data row8 col11\" >0.192774</td>\n",
              "                        <td id=\"T_6d0b1584_75cc_11eb_9505_0242ac1c0002row8_col12\" class=\"data row8 col12\" >-0.007090</td>\n",
              "                        <td id=\"T_6d0b1584_75cc_11eb_9505_0242ac1c0002row8_col13\" class=\"data row8 col13\" >0.015318</td>\n",
              "                        <td id=\"T_6d0b1584_75cc_11eb_9505_0242ac1c0002row8_col14\" class=\"data row8 col14\" >0.072693</td>\n",
              "                        <td id=\"T_6d0b1584_75cc_11eb_9505_0242ac1c0002row8_col15\" class=\"data row8 col15\" >-0.057504</td>\n",
              "                        <td id=\"T_6d0b1584_75cc_11eb_9505_0242ac1c0002row8_col16\" class=\"data row8 col16\" >-0.002912</td>\n",
              "                        <td id=\"T_6d0b1584_75cc_11eb_9505_0242ac1c0002row8_col17\" class=\"data row8 col17\" >-0.039314</td>\n",
              "                        <td id=\"T_6d0b1584_75cc_11eb_9505_0242ac1c0002row8_col18\" class=\"data row8 col18\" >-0.042495</td>\n",
              "                        <td id=\"T_6d0b1584_75cc_11eb_9505_0242ac1c0002row8_col19\" class=\"data row8 col19\" >0.011353</td>\n",
              "                        <td id=\"T_6d0b1584_75cc_11eb_9505_0242ac1c0002row8_col20\" class=\"data row8 col20\" >-0.001249</td>\n",
              "                        <td id=\"T_6d0b1584_75cc_11eb_9505_0242ac1c0002row8_col21\" class=\"data row8 col21\" >0.112239</td>\n",
              "                        <td id=\"T_6d0b1584_75cc_11eb_9505_0242ac1c0002row8_col22\" class=\"data row8 col22\" >0.022637</td>\n",
              "            </tr>\n",
              "            <tr>\n",
              "                        <th id=\"T_6d0b1584_75cc_11eb_9505_0242ac1c0002level0_row9\" class=\"row_heading level0 row9\" >DOJ Extended_Yes</th>\n",
              "                        <td id=\"T_6d0b1584_75cc_11eb_9505_0242ac1c0002row9_col0\" class=\"data row9 col0\" >0.334515</td>\n",
              "                        <td id=\"T_6d0b1584_75cc_11eb_9505_0242ac1c0002row9_col1\" class=\"data row9 col1\" >0.146987</td>\n",
              "                        <td id=\"T_6d0b1584_75cc_11eb_9505_0242ac1c0002row9_col2\" class=\"data row9 col2\" >0.064130</td>\n",
              "                        <td id=\"T_6d0b1584_75cc_11eb_9505_0242ac1c0002row9_col3\" class=\"data row9 col3\" >-0.009026</td>\n",
              "                        <td id=\"T_6d0b1584_75cc_11eb_9505_0242ac1c0002row9_col4\" class=\"data row9 col4\" >-0.011090</td>\n",
              "                        <td id=\"T_6d0b1584_75cc_11eb_9505_0242ac1c0002row9_col5\" class=\"data row9 col5\" >-0.002080</td>\n",
              "                        <td id=\"T_6d0b1584_75cc_11eb_9505_0242ac1c0002row9_col6\" class=\"data row9 col6\" >0.094475</td>\n",
              "                        <td id=\"T_6d0b1584_75cc_11eb_9505_0242ac1c0002row9_col7\" class=\"data row9 col7\" >0.055534</td>\n",
              "                        <td id=\"T_6d0b1584_75cc_11eb_9505_0242ac1c0002row9_col8\" class=\"data row9 col8\" >0.013678</td>\n",
              "                        <td id=\"T_6d0b1584_75cc_11eb_9505_0242ac1c0002row9_col9\" class=\"data row9 col9\" >1.000000</td>\n",
              "                        <td id=\"T_6d0b1584_75cc_11eb_9505_0242ac1c0002row9_col10\" class=\"data row9 col10\" >0.061934</td>\n",
              "                        <td id=\"T_6d0b1584_75cc_11eb_9505_0242ac1c0002row9_col11\" class=\"data row9 col11\" >0.012266</td>\n",
              "                        <td id=\"T_6d0b1584_75cc_11eb_9505_0242ac1c0002row9_col12\" class=\"data row9 col12\" >0.006561</td>\n",
              "                        <td id=\"T_6d0b1584_75cc_11eb_9505_0242ac1c0002row9_col13\" class=\"data row9 col13\" >0.007194</td>\n",
              "                        <td id=\"T_6d0b1584_75cc_11eb_9505_0242ac1c0002row9_col14\" class=\"data row9 col14\" >0.002536</td>\n",
              "                        <td id=\"T_6d0b1584_75cc_11eb_9505_0242ac1c0002row9_col15\" class=\"data row9 col15\" >-0.096905</td>\n",
              "                        <td id=\"T_6d0b1584_75cc_11eb_9505_0242ac1c0002row9_col16\" class=\"data row9 col16\" >0.014348</td>\n",
              "                        <td id=\"T_6d0b1584_75cc_11eb_9505_0242ac1c0002row9_col17\" class=\"data row9 col17\" >0.158401</td>\n",
              "                        <td id=\"T_6d0b1584_75cc_11eb_9505_0242ac1c0002row9_col18\" class=\"data row9 col18\" >0.073701</td>\n",
              "                        <td id=\"T_6d0b1584_75cc_11eb_9505_0242ac1c0002row9_col19\" class=\"data row9 col19\" >0.077366</td>\n",
              "                        <td id=\"T_6d0b1584_75cc_11eb_9505_0242ac1c0002row9_col20\" class=\"data row9 col20\" >0.006964</td>\n",
              "                        <td id=\"T_6d0b1584_75cc_11eb_9505_0242ac1c0002row9_col21\" class=\"data row9 col21\" >-0.141634</td>\n",
              "                        <td id=\"T_6d0b1584_75cc_11eb_9505_0242ac1c0002row9_col22\" class=\"data row9 col22\" >0.003277</td>\n",
              "            </tr>\n",
              "            <tr>\n",
              "                        <th id=\"T_6d0b1584_75cc_11eb_9505_0242ac1c0002level0_row10\" class=\"row_heading level0 row10\" >Joining Bonus_Yes</th>\n",
              "                        <td id=\"T_6d0b1584_75cc_11eb_9505_0242ac1c0002row10_col0\" class=\"data row10 col0\" >0.032914</td>\n",
              "                        <td id=\"T_6d0b1584_75cc_11eb_9505_0242ac1c0002row10_col1\" class=\"data row10 col1\" >0.017890</td>\n",
              "                        <td id=\"T_6d0b1584_75cc_11eb_9505_0242ac1c0002row10_col2\" class=\"data row10 col2\" >0.072399</td>\n",
              "                        <td id=\"T_6d0b1584_75cc_11eb_9505_0242ac1c0002row10_col3\" class=\"data row10 col3\" >-0.038456</td>\n",
              "                        <td id=\"T_6d0b1584_75cc_11eb_9505_0242ac1c0002row10_col4\" class=\"data row10 col4\" >-0.031956</td>\n",
              "                        <td id=\"T_6d0b1584_75cc_11eb_9505_0242ac1c0002row10_col5\" class=\"data row10 col5\" >-0.005781</td>\n",
              "                        <td id=\"T_6d0b1584_75cc_11eb_9505_0242ac1c0002row10_col6\" class=\"data row10 col6\" >0.118814</td>\n",
              "                        <td id=\"T_6d0b1584_75cc_11eb_9505_0242ac1c0002row10_col7\" class=\"data row10 col7\" >0.109893</td>\n",
              "                        <td id=\"T_6d0b1584_75cc_11eb_9505_0242ac1c0002row10_col8\" class=\"data row10 col8\" >0.003746</td>\n",
              "                        <td id=\"T_6d0b1584_75cc_11eb_9505_0242ac1c0002row10_col9\" class=\"data row10 col9\" >0.061934</td>\n",
              "                        <td id=\"T_6d0b1584_75cc_11eb_9505_0242ac1c0002row10_col10\" class=\"data row10 col10\" >1.000000</td>\n",
              "                        <td id=\"T_6d0b1584_75cc_11eb_9505_0242ac1c0002row10_col11\" class=\"data row10 col11\" >0.098843</td>\n",
              "                        <td id=\"T_6d0b1584_75cc_11eb_9505_0242ac1c0002row10_col12\" class=\"data row10 col12\" >0.018139</td>\n",
              "                        <td id=\"T_6d0b1584_75cc_11eb_9505_0242ac1c0002row10_col13\" class=\"data row10 col13\" >-0.001443</td>\n",
              "                        <td id=\"T_6d0b1584_75cc_11eb_9505_0242ac1c0002row10_col14\" class=\"data row10 col14\" >0.007981</td>\n",
              "                        <td id=\"T_6d0b1584_75cc_11eb_9505_0242ac1c0002row10_col15\" class=\"data row10 col15\" >-0.078532</td>\n",
              "                        <td id=\"T_6d0b1584_75cc_11eb_9505_0242ac1c0002row10_col16\" class=\"data row10 col16\" >-0.016073</td>\n",
              "                        <td id=\"T_6d0b1584_75cc_11eb_9505_0242ac1c0002row10_col17\" class=\"data row10 col17\" >0.018162</td>\n",
              "                        <td id=\"T_6d0b1584_75cc_11eb_9505_0242ac1c0002row10_col18\" class=\"data row10 col18\" >0.054078</td>\n",
              "                        <td id=\"T_6d0b1584_75cc_11eb_9505_0242ac1c0002row10_col19\" class=\"data row10 col19\" >0.061457</td>\n",
              "                        <td id=\"T_6d0b1584_75cc_11eb_9505_0242ac1c0002row10_col20\" class=\"data row10 col20\" >0.012984</td>\n",
              "                        <td id=\"T_6d0b1584_75cc_11eb_9505_0242ac1c0002row10_col21\" class=\"data row10 col21\" >-0.119080</td>\n",
              "                        <td id=\"T_6d0b1584_75cc_11eb_9505_0242ac1c0002row10_col22\" class=\"data row10 col22\" >-0.010241</td>\n",
              "            </tr>\n",
              "            <tr>\n",
              "                        <th id=\"T_6d0b1584_75cc_11eb_9505_0242ac1c0002level0_row11\" class=\"row_heading level0 row11\" >Candidate relocate actual_Yes</th>\n",
              "                        <td id=\"T_6d0b1584_75cc_11eb_9505_0242ac1c0002row11_col0\" class=\"data row11 col0\" >0.008436</td>\n",
              "                        <td id=\"T_6d0b1584_75cc_11eb_9505_0242ac1c0002row11_col1\" class=\"data row11 col1\" >-0.064549</td>\n",
              "                        <td id=\"T_6d0b1584_75cc_11eb_9505_0242ac1c0002row11_col2\" class=\"data row11 col2\" >0.024385</td>\n",
              "                        <td id=\"T_6d0b1584_75cc_11eb_9505_0242ac1c0002row11_col3\" class=\"data row11 col3\" >-0.003176</td>\n",
              "                        <td id=\"T_6d0b1584_75cc_11eb_9505_0242ac1c0002row11_col4\" class=\"data row11 col4\" >0.020532</td>\n",
              "                        <td id=\"T_6d0b1584_75cc_11eb_9505_0242ac1c0002row11_col5\" class=\"data row11 col5\" >0.028243</td>\n",
              "                        <td id=\"T_6d0b1584_75cc_11eb_9505_0242ac1c0002row11_col6\" class=\"data row11 col6\" >0.006748</td>\n",
              "                        <td id=\"T_6d0b1584_75cc_11eb_9505_0242ac1c0002row11_col7\" class=\"data row11 col7\" >0.070194</td>\n",
              "                        <td id=\"T_6d0b1584_75cc_11eb_9505_0242ac1c0002row11_col8\" class=\"data row11 col8\" >0.192774</td>\n",
              "                        <td id=\"T_6d0b1584_75cc_11eb_9505_0242ac1c0002row11_col9\" class=\"data row11 col9\" >0.012266</td>\n",
              "                        <td id=\"T_6d0b1584_75cc_11eb_9505_0242ac1c0002row11_col10\" class=\"data row11 col10\" >0.098843</td>\n",
              "                        <td id=\"T_6d0b1584_75cc_11eb_9505_0242ac1c0002row11_col11\" class=\"data row11 col11\" >1.000000</td>\n",
              "                        <td id=\"T_6d0b1584_75cc_11eb_9505_0242ac1c0002row11_col12\" class=\"data row11 col12\" >0.044312</td>\n",
              "                        <td id=\"T_6d0b1584_75cc_11eb_9505_0242ac1c0002row11_col13\" class=\"data row11 col13\" >0.002559</td>\n",
              "                        <td id=\"T_6d0b1584_75cc_11eb_9505_0242ac1c0002row11_col14\" class=\"data row11 col14\" >0.013404</td>\n",
              "                        <td id=\"T_6d0b1584_75cc_11eb_9505_0242ac1c0002row11_col15\" class=\"data row11 col15\" >-0.136260</td>\n",
              "                        <td id=\"T_6d0b1584_75cc_11eb_9505_0242ac1c0002row11_col16\" class=\"data row11 col16\" >-0.019468</td>\n",
              "                        <td id=\"T_6d0b1584_75cc_11eb_9505_0242ac1c0002row11_col17\" class=\"data row11 col17\" >0.008351</td>\n",
              "                        <td id=\"T_6d0b1584_75cc_11eb_9505_0242ac1c0002row11_col18\" class=\"data row11 col18\" >0.089513</td>\n",
              "                        <td id=\"T_6d0b1584_75cc_11eb_9505_0242ac1c0002row11_col19\" class=\"data row11 col19\" >0.005295</td>\n",
              "                        <td id=\"T_6d0b1584_75cc_11eb_9505_0242ac1c0002row11_col20\" class=\"data row11 col20\" >-0.028702</td>\n",
              "                        <td id=\"T_6d0b1584_75cc_11eb_9505_0242ac1c0002row11_col21\" class=\"data row11 col21\" >-0.004970</td>\n",
              "                        <td id=\"T_6d0b1584_75cc_11eb_9505_0242ac1c0002row11_col22\" class=\"data row11 col22\" >-0.018979</td>\n",
              "            </tr>\n",
              "            <tr>\n",
              "                        <th id=\"T_6d0b1584_75cc_11eb_9505_0242ac1c0002level0_row12\" class=\"row_heading level0 row12\" >Gender_Male</th>\n",
              "                        <td id=\"T_6d0b1584_75cc_11eb_9505_0242ac1c0002row12_col0\" class=\"data row12 col0\" >0.018579</td>\n",
              "                        <td id=\"T_6d0b1584_75cc_11eb_9505_0242ac1c0002row12_col1\" class=\"data row12 col1\" >0.043478</td>\n",
              "                        <td id=\"T_6d0b1584_75cc_11eb_9505_0242ac1c0002row12_col2\" class=\"data row12 col2\" >0.175478</td>\n",
              "                        <td id=\"T_6d0b1584_75cc_11eb_9505_0242ac1c0002row12_col3\" class=\"data row12 col3\" >-0.003561</td>\n",
              "                        <td id=\"T_6d0b1584_75cc_11eb_9505_0242ac1c0002row12_col4\" class=\"data row12 col4\" >0.009301</td>\n",
              "                        <td id=\"T_6d0b1584_75cc_11eb_9505_0242ac1c0002row12_col5\" class=\"data row12 col5\" >0.014516</td>\n",
              "                        <td id=\"T_6d0b1584_75cc_11eb_9505_0242ac1c0002row12_col6\" class=\"data row12 col6\" >0.143541</td>\n",
              "                        <td id=\"T_6d0b1584_75cc_11eb_9505_0242ac1c0002row12_col7\" class=\"data row12 col7\" >0.124798</td>\n",
              "                        <td id=\"T_6d0b1584_75cc_11eb_9505_0242ac1c0002row12_col8\" class=\"data row12 col8\" >-0.007090</td>\n",
              "                        <td id=\"T_6d0b1584_75cc_11eb_9505_0242ac1c0002row12_col9\" class=\"data row12 col9\" >0.006561</td>\n",
              "                        <td id=\"T_6d0b1584_75cc_11eb_9505_0242ac1c0002row12_col10\" class=\"data row12 col10\" >0.018139</td>\n",
              "                        <td id=\"T_6d0b1584_75cc_11eb_9505_0242ac1c0002row12_col11\" class=\"data row12 col11\" >0.044312</td>\n",
              "                        <td id=\"T_6d0b1584_75cc_11eb_9505_0242ac1c0002row12_col12\" class=\"data row12 col12\" >1.000000</td>\n",
              "                        <td id=\"T_6d0b1584_75cc_11eb_9505_0242ac1c0002row12_col13\" class=\"data row12 col13\" >0.010794</td>\n",
              "                        <td id=\"T_6d0b1584_75cc_11eb_9505_0242ac1c0002row12_col14\" class=\"data row12 col14\" >-0.033562</td>\n",
              "                        <td id=\"T_6d0b1584_75cc_11eb_9505_0242ac1c0002row12_col15\" class=\"data row12 col15\" >-0.033521</td>\n",
              "                        <td id=\"T_6d0b1584_75cc_11eb_9505_0242ac1c0002row12_col16\" class=\"data row12 col16\" >-0.021327</td>\n",
              "                        <td id=\"T_6d0b1584_75cc_11eb_9505_0242ac1c0002row12_col17\" class=\"data row12 col17\" >0.016592</td>\n",
              "                        <td id=\"T_6d0b1584_75cc_11eb_9505_0242ac1c0002row12_col18\" class=\"data row12 col18\" >0.002230</td>\n",
              "                        <td id=\"T_6d0b1584_75cc_11eb_9505_0242ac1c0002row12_col19\" class=\"data row12 col19\" >-0.013180</td>\n",
              "                        <td id=\"T_6d0b1584_75cc_11eb_9505_0242ac1c0002row12_col20\" class=\"data row12 col20\" >0.012074</td>\n",
              "                        <td id=\"T_6d0b1584_75cc_11eb_9505_0242ac1c0002row12_col21\" class=\"data row12 col21\" >0.024641</td>\n",
              "                        <td id=\"T_6d0b1584_75cc_11eb_9505_0242ac1c0002row12_col22\" class=\"data row12 col22\" >-0.014073</td>\n",
              "            </tr>\n",
              "            <tr>\n",
              "                        <th id=\"T_6d0b1584_75cc_11eb_9505_0242ac1c0002level0_row13\" class=\"row_heading level0 row13\" >Candidate Source_Direct</th>\n",
              "                        <td id=\"T_6d0b1584_75cc_11eb_9505_0242ac1c0002row13_col0\" class=\"data row13 col0\" >0.000034</td>\n",
              "                        <td id=\"T_6d0b1584_75cc_11eb_9505_0242ac1c0002row13_col1\" class=\"data row13 col1\" >-0.000467</td>\n",
              "                        <td id=\"T_6d0b1584_75cc_11eb_9505_0242ac1c0002row13_col2\" class=\"data row13 col2\" >-0.028043</td>\n",
              "                        <td id=\"T_6d0b1584_75cc_11eb_9505_0242ac1c0002row13_col3\" class=\"data row13 col3\" >-0.037178</td>\n",
              "                        <td id=\"T_6d0b1584_75cc_11eb_9505_0242ac1c0002row13_col4\" class=\"data row13 col4\" >-0.019668</td>\n",
              "                        <td id=\"T_6d0b1584_75cc_11eb_9505_0242ac1c0002row13_col5\" class=\"data row13 col5\" >0.011760</td>\n",
              "                        <td id=\"T_6d0b1584_75cc_11eb_9505_0242ac1c0002row13_col6\" class=\"data row13 col6\" >-0.016318</td>\n",
              "                        <td id=\"T_6d0b1584_75cc_11eb_9505_0242ac1c0002row13_col7\" class=\"data row13 col7\" >-0.014368</td>\n",
              "                        <td id=\"T_6d0b1584_75cc_11eb_9505_0242ac1c0002row13_col8\" class=\"data row13 col8\" >0.015318</td>\n",
              "                        <td id=\"T_6d0b1584_75cc_11eb_9505_0242ac1c0002row13_col9\" class=\"data row13 col9\" >0.007194</td>\n",
              "                        <td id=\"T_6d0b1584_75cc_11eb_9505_0242ac1c0002row13_col10\" class=\"data row13 col10\" >-0.001443</td>\n",
              "                        <td id=\"T_6d0b1584_75cc_11eb_9505_0242ac1c0002row13_col11\" class=\"data row13 col11\" >0.002559</td>\n",
              "                        <td id=\"T_6d0b1584_75cc_11eb_9505_0242ac1c0002row13_col12\" class=\"data row13 col12\" >0.010794</td>\n",
              "                        <td id=\"T_6d0b1584_75cc_11eb_9505_0242ac1c0002row13_col13\" class=\"data row13 col13\" >1.000000</td>\n",
              "                        <td id=\"T_6d0b1584_75cc_11eb_9505_0242ac1c0002row13_col14\" class=\"data row13 col14\" >-0.495418</td>\n",
              "                        <td id=\"T_6d0b1584_75cc_11eb_9505_0242ac1c0002row13_col15\" class=\"data row13 col15\" >-0.025688</td>\n",
              "                        <td id=\"T_6d0b1584_75cc_11eb_9505_0242ac1c0002row13_col16\" class=\"data row13 col16\" >0.034355</td>\n",
              "                        <td id=\"T_6d0b1584_75cc_11eb_9505_0242ac1c0002row13_col17\" class=\"data row13 col17\" >0.071014</td>\n",
              "                        <td id=\"T_6d0b1584_75cc_11eb_9505_0242ac1c0002row13_col18\" class=\"data row13 col18\" >-0.177771</td>\n",
              "                        <td id=\"T_6d0b1584_75cc_11eb_9505_0242ac1c0002row13_col19\" class=\"data row13 col19\" >0.074016</td>\n",
              "                        <td id=\"T_6d0b1584_75cc_11eb_9505_0242ac1c0002row13_col20\" class=\"data row13 col20\" >0.047280</td>\n",
              "                        <td id=\"T_6d0b1584_75cc_11eb_9505_0242ac1c0002row13_col21\" class=\"data row13 col21\" >0.032540</td>\n",
              "                        <td id=\"T_6d0b1584_75cc_11eb_9505_0242ac1c0002row13_col22\" class=\"data row13 col22\" >0.030639</td>\n",
              "            </tr>\n",
              "            <tr>\n",
              "                        <th id=\"T_6d0b1584_75cc_11eb_9505_0242ac1c0002level0_row14\" class=\"row_heading level0 row14\" >Candidate Source_Employee Referral</th>\n",
              "                        <td id=\"T_6d0b1584_75cc_11eb_9505_0242ac1c0002row14_col0\" class=\"data row14 col0\" >-0.044605</td>\n",
              "                        <td id=\"T_6d0b1584_75cc_11eb_9505_0242ac1c0002row14_col1\" class=\"data row14 col1\" >-0.031516</td>\n",
              "                        <td id=\"T_6d0b1584_75cc_11eb_9505_0242ac1c0002row14_col2\" class=\"data row14 col2\" >0.138561</td>\n",
              "                        <td id=\"T_6d0b1584_75cc_11eb_9505_0242ac1c0002row14_col3\" class=\"data row14 col3\" >-0.009734</td>\n",
              "                        <td id=\"T_6d0b1584_75cc_11eb_9505_0242ac1c0002row14_col4\" class=\"data row14 col4\" >0.001604</td>\n",
              "                        <td id=\"T_6d0b1584_75cc_11eb_9505_0242ac1c0002row14_col5\" class=\"data row14 col5\" >0.011123</td>\n",
              "                        <td id=\"T_6d0b1584_75cc_11eb_9505_0242ac1c0002row14_col6\" class=\"data row14 col6\" >0.077513</td>\n",
              "                        <td id=\"T_6d0b1584_75cc_11eb_9505_0242ac1c0002row14_col7\" class=\"data row14 col7\" >0.062139</td>\n",
              "                        <td id=\"T_6d0b1584_75cc_11eb_9505_0242ac1c0002row14_col8\" class=\"data row14 col8\" >0.072693</td>\n",
              "                        <td id=\"T_6d0b1584_75cc_11eb_9505_0242ac1c0002row14_col9\" class=\"data row14 col9\" >0.002536</td>\n",
              "                        <td id=\"T_6d0b1584_75cc_11eb_9505_0242ac1c0002row14_col10\" class=\"data row14 col10\" >0.007981</td>\n",
              "                        <td id=\"T_6d0b1584_75cc_11eb_9505_0242ac1c0002row14_col11\" class=\"data row14 col11\" >0.013404</td>\n",
              "                        <td id=\"T_6d0b1584_75cc_11eb_9505_0242ac1c0002row14_col12\" class=\"data row14 col12\" >-0.033562</td>\n",
              "                        <td id=\"T_6d0b1584_75cc_11eb_9505_0242ac1c0002row14_col13\" class=\"data row14 col13\" >-0.495418</td>\n",
              "                        <td id=\"T_6d0b1584_75cc_11eb_9505_0242ac1c0002row14_col14\" class=\"data row14 col14\" >1.000000</td>\n",
              "                        <td id=\"T_6d0b1584_75cc_11eb_9505_0242ac1c0002row14_col15\" class=\"data row14 col15\" >-0.066269</td>\n",
              "                        <td id=\"T_6d0b1584_75cc_11eb_9505_0242ac1c0002row14_col16\" class=\"data row14 col16\" >-0.003037</td>\n",
              "                        <td id=\"T_6d0b1584_75cc_11eb_9505_0242ac1c0002row14_col17\" class=\"data row14 col17\" >0.003596</td>\n",
              "                        <td id=\"T_6d0b1584_75cc_11eb_9505_0242ac1c0002row14_col18\" class=\"data row14 col18\" >-0.061560</td>\n",
              "                        <td id=\"T_6d0b1584_75cc_11eb_9505_0242ac1c0002row14_col19\" class=\"data row14 col19\" >-0.010416</td>\n",
              "                        <td id=\"T_6d0b1584_75cc_11eb_9505_0242ac1c0002row14_col20\" class=\"data row14 col20\" >-0.023748</td>\n",
              "                        <td id=\"T_6d0b1584_75cc_11eb_9505_0242ac1c0002row14_col21\" class=\"data row14 col21\" >0.143430</td>\n",
              "                        <td id=\"T_6d0b1584_75cc_11eb_9505_0242ac1c0002row14_col22\" class=\"data row14 col22\" >-0.013037</td>\n",
              "            </tr>\n",
              "            <tr>\n",
              "                        <th id=\"T_6d0b1584_75cc_11eb_9505_0242ac1c0002level0_row15\" class=\"row_heading level0 row15\" >LOB_BFSI</th>\n",
              "                        <td id=\"T_6d0b1584_75cc_11eb_9505_0242ac1c0002row15_col0\" class=\"data row15 col0\" >0.122515</td>\n",
              "                        <td id=\"T_6d0b1584_75cc_11eb_9505_0242ac1c0002row15_col1\" class=\"data row15 col1\" >0.081745</td>\n",
              "                        <td id=\"T_6d0b1584_75cc_11eb_9505_0242ac1c0002row15_col2\" class=\"data row15 col2\" >-0.112593</td>\n",
              "                        <td id=\"T_6d0b1584_75cc_11eb_9505_0242ac1c0002row15_col3\" class=\"data row15 col3\" >-0.056912</td>\n",
              "                        <td id=\"T_6d0b1584_75cc_11eb_9505_0242ac1c0002row15_col4\" class=\"data row15 col4\" >-0.072486</td>\n",
              "                        <td id=\"T_6d0b1584_75cc_11eb_9505_0242ac1c0002row15_col5\" class=\"data row15 col5\" >-0.036707</td>\n",
              "                        <td id=\"T_6d0b1584_75cc_11eb_9505_0242ac1c0002row15_col6\" class=\"data row15 col6\" >0.022679</td>\n",
              "                        <td id=\"T_6d0b1584_75cc_11eb_9505_0242ac1c0002row15_col7\" class=\"data row15 col7\" >0.010992</td>\n",
              "                        <td id=\"T_6d0b1584_75cc_11eb_9505_0242ac1c0002row15_col8\" class=\"data row15 col8\" >-0.057504</td>\n",
              "                        <td id=\"T_6d0b1584_75cc_11eb_9505_0242ac1c0002row15_col9\" class=\"data row15 col9\" >-0.096905</td>\n",
              "                        <td id=\"T_6d0b1584_75cc_11eb_9505_0242ac1c0002row15_col10\" class=\"data row15 col10\" >-0.078532</td>\n",
              "                        <td id=\"T_6d0b1584_75cc_11eb_9505_0242ac1c0002row15_col11\" class=\"data row15 col11\" >-0.136260</td>\n",
              "                        <td id=\"T_6d0b1584_75cc_11eb_9505_0242ac1c0002row15_col12\" class=\"data row15 col12\" >-0.033521</td>\n",
              "                        <td id=\"T_6d0b1584_75cc_11eb_9505_0242ac1c0002row15_col13\" class=\"data row15 col13\" >-0.025688</td>\n",
              "                        <td id=\"T_6d0b1584_75cc_11eb_9505_0242ac1c0002row15_col14\" class=\"data row15 col14\" >-0.066269</td>\n",
              "                        <td id=\"T_6d0b1584_75cc_11eb_9505_0242ac1c0002row15_col15\" class=\"data row15 col15\" >1.000000</td>\n",
              "                        <td id=\"T_6d0b1584_75cc_11eb_9505_0242ac1c0002row15_col16\" class=\"data row15 col16\" >-0.116313</td>\n",
              "                        <td id=\"T_6d0b1584_75cc_11eb_9505_0242ac1c0002row15_col17\" class=\"data row15 col17\" >-0.084510</td>\n",
              "                        <td id=\"T_6d0b1584_75cc_11eb_9505_0242ac1c0002row15_col18\" class=\"data row15 col18\" >-0.264238</td>\n",
              "                        <td id=\"T_6d0b1584_75cc_11eb_9505_0242ac1c0002row15_col19\" class=\"data row15 col19\" >-0.121750</td>\n",
              "                        <td id=\"T_6d0b1584_75cc_11eb_9505_0242ac1c0002row15_col20\" class=\"data row15 col20\" >-0.051506</td>\n",
              "                        <td id=\"T_6d0b1584_75cc_11eb_9505_0242ac1c0002row15_col21\" class=\"data row15 col21\" >-0.288659</td>\n",
              "                        <td id=\"T_6d0b1584_75cc_11eb_9505_0242ac1c0002row15_col22\" class=\"data row15 col22\" >-0.020306</td>\n",
              "            </tr>\n",
              "            <tr>\n",
              "                        <th id=\"T_6d0b1584_75cc_11eb_9505_0242ac1c0002level0_row16\" class=\"row_heading level0 row16\" >LOB_CSMP</th>\n",
              "                        <td id=\"T_6d0b1584_75cc_11eb_9505_0242ac1c0002row16_col0\" class=\"data row16 col0\" >0.003961</td>\n",
              "                        <td id=\"T_6d0b1584_75cc_11eb_9505_0242ac1c0002row16_col1\" class=\"data row16 col1\" >0.007739</td>\n",
              "                        <td id=\"T_6d0b1584_75cc_11eb_9505_0242ac1c0002row16_col2\" class=\"data row16 col2\" >-0.105589</td>\n",
              "                        <td id=\"T_6d0b1584_75cc_11eb_9505_0242ac1c0002row16_col3\" class=\"data row16 col3\" >0.026112</td>\n",
              "                        <td id=\"T_6d0b1584_75cc_11eb_9505_0242ac1c0002row16_col4\" class=\"data row16 col4\" >-0.001627</td>\n",
              "                        <td id=\"T_6d0b1584_75cc_11eb_9505_0242ac1c0002row16_col5\" class=\"data row16 col5\" >-0.027138</td>\n",
              "                        <td id=\"T_6d0b1584_75cc_11eb_9505_0242ac1c0002row16_col6\" class=\"data row16 col6\" >-0.038902</td>\n",
              "                        <td id=\"T_6d0b1584_75cc_11eb_9505_0242ac1c0002row16_col7\" class=\"data row16 col7\" >-0.013161</td>\n",
              "                        <td id=\"T_6d0b1584_75cc_11eb_9505_0242ac1c0002row16_col8\" class=\"data row16 col8\" >-0.002912</td>\n",
              "                        <td id=\"T_6d0b1584_75cc_11eb_9505_0242ac1c0002row16_col9\" class=\"data row16 col9\" >0.014348</td>\n",
              "                        <td id=\"T_6d0b1584_75cc_11eb_9505_0242ac1c0002row16_col10\" class=\"data row16 col10\" >-0.016073</td>\n",
              "                        <td id=\"T_6d0b1584_75cc_11eb_9505_0242ac1c0002row16_col11\" class=\"data row16 col11\" >-0.019468</td>\n",
              "                        <td id=\"T_6d0b1584_75cc_11eb_9505_0242ac1c0002row16_col12\" class=\"data row16 col12\" >-0.021327</td>\n",
              "                        <td id=\"T_6d0b1584_75cc_11eb_9505_0242ac1c0002row16_col13\" class=\"data row16 col13\" >0.034355</td>\n",
              "                        <td id=\"T_6d0b1584_75cc_11eb_9505_0242ac1c0002row16_col14\" class=\"data row16 col14\" >-0.003037</td>\n",
              "                        <td id=\"T_6d0b1584_75cc_11eb_9505_0242ac1c0002row16_col15\" class=\"data row16 col15\" >-0.116313</td>\n",
              "                        <td id=\"T_6d0b1584_75cc_11eb_9505_0242ac1c0002row16_col16\" class=\"data row16 col16\" >1.000000</td>\n",
              "                        <td id=\"T_6d0b1584_75cc_11eb_9505_0242ac1c0002row16_col17\" class=\"data row16 col17\" >-0.053128</td>\n",
              "                        <td id=\"T_6d0b1584_75cc_11eb_9505_0242ac1c0002row16_col18\" class=\"data row16 col18\" >-0.166115</td>\n",
              "                        <td id=\"T_6d0b1584_75cc_11eb_9505_0242ac1c0002row16_col19\" class=\"data row16 col19\" >-0.076539</td>\n",
              "                        <td id=\"T_6d0b1584_75cc_11eb_9505_0242ac1c0002row16_col20\" class=\"data row16 col20\" >-0.032380</td>\n",
              "                        <td id=\"T_6d0b1584_75cc_11eb_9505_0242ac1c0002row16_col21\" class=\"data row16 col21\" >-0.181468</td>\n",
              "                        <td id=\"T_6d0b1584_75cc_11eb_9505_0242ac1c0002row16_col22\" class=\"data row16 col22\" >-0.012765</td>\n",
              "            </tr>\n",
              "            <tr>\n",
              "                        <th id=\"T_6d0b1584_75cc_11eb_9505_0242ac1c0002level0_row17\" class=\"row_heading level0 row17\" >LOB_EAS</th>\n",
              "                        <td id=\"T_6d0b1584_75cc_11eb_9505_0242ac1c0002row17_col0\" class=\"data row17 col0\" >0.033757</td>\n",
              "                        <td id=\"T_6d0b1584_75cc_11eb_9505_0242ac1c0002row17_col1\" class=\"data row17 col1\" >0.031585</td>\n",
              "                        <td id=\"T_6d0b1584_75cc_11eb_9505_0242ac1c0002row17_col2\" class=\"data row17 col2\" >0.056905</td>\n",
              "                        <td id=\"T_6d0b1584_75cc_11eb_9505_0242ac1c0002row17_col3\" class=\"data row17 col3\" >-0.039486</td>\n",
              "                        <td id=\"T_6d0b1584_75cc_11eb_9505_0242ac1c0002row17_col4\" class=\"data row17 col4\" >-0.030704</td>\n",
              "                        <td id=\"T_6d0b1584_75cc_11eb_9505_0242ac1c0002row17_col5\" class=\"data row17 col5\" >-0.000740</td>\n",
              "                        <td id=\"T_6d0b1584_75cc_11eb_9505_0242ac1c0002row17_col6\" class=\"data row17 col6\" >0.120461</td>\n",
              "                        <td id=\"T_6d0b1584_75cc_11eb_9505_0242ac1c0002row17_col7\" class=\"data row17 col7\" >0.099280</td>\n",
              "                        <td id=\"T_6d0b1584_75cc_11eb_9505_0242ac1c0002row17_col8\" class=\"data row17 col8\" >-0.039314</td>\n",
              "                        <td id=\"T_6d0b1584_75cc_11eb_9505_0242ac1c0002row17_col9\" class=\"data row17 col9\" >0.158401</td>\n",
              "                        <td id=\"T_6d0b1584_75cc_11eb_9505_0242ac1c0002row17_col10\" class=\"data row17 col10\" >0.018162</td>\n",
              "                        <td id=\"T_6d0b1584_75cc_11eb_9505_0242ac1c0002row17_col11\" class=\"data row17 col11\" >0.008351</td>\n",
              "                        <td id=\"T_6d0b1584_75cc_11eb_9505_0242ac1c0002row17_col12\" class=\"data row17 col12\" >0.016592</td>\n",
              "                        <td id=\"T_6d0b1584_75cc_11eb_9505_0242ac1c0002row17_col13\" class=\"data row17 col13\" >0.071014</td>\n",
              "                        <td id=\"T_6d0b1584_75cc_11eb_9505_0242ac1c0002row17_col14\" class=\"data row17 col14\" >0.003596</td>\n",
              "                        <td id=\"T_6d0b1584_75cc_11eb_9505_0242ac1c0002row17_col15\" class=\"data row17 col15\" >-0.084510</td>\n",
              "                        <td id=\"T_6d0b1584_75cc_11eb_9505_0242ac1c0002row17_col16\" class=\"data row17 col16\" >-0.053128</td>\n",
              "                        <td id=\"T_6d0b1584_75cc_11eb_9505_0242ac1c0002row17_col17\" class=\"data row17 col17\" >1.000000</td>\n",
              "                        <td id=\"T_6d0b1584_75cc_11eb_9505_0242ac1c0002row17_col18\" class=\"data row17 col18\" >-0.120695</td>\n",
              "                        <td id=\"T_6d0b1584_75cc_11eb_9505_0242ac1c0002row17_col19\" class=\"data row17 col19\" >-0.055611</td>\n",
              "                        <td id=\"T_6d0b1584_75cc_11eb_9505_0242ac1c0002row17_col20\" class=\"data row17 col20\" >-0.023526</td>\n",
              "                        <td id=\"T_6d0b1584_75cc_11eb_9505_0242ac1c0002row17_col21\" class=\"data row17 col21\" >-0.131849</td>\n",
              "                        <td id=\"T_6d0b1584_75cc_11eb_9505_0242ac1c0002row17_col22\" class=\"data row17 col22\" >-0.009275</td>\n",
              "            </tr>\n",
              "            <tr>\n",
              "                        <th id=\"T_6d0b1584_75cc_11eb_9505_0242ac1c0002level0_row18\" class=\"row_heading level0 row18\" >LOB_ERS</th>\n",
              "                        <td id=\"T_6d0b1584_75cc_11eb_9505_0242ac1c0002row18_col0\" class=\"data row18 col0\" >0.029223</td>\n",
              "                        <td id=\"T_6d0b1584_75cc_11eb_9505_0242ac1c0002row18_col1\" class=\"data row18 col1\" >0.015139</td>\n",
              "                        <td id=\"T_6d0b1584_75cc_11eb_9505_0242ac1c0002row18_col2\" class=\"data row18 col2\" >-0.148801</td>\n",
              "                        <td id=\"T_6d0b1584_75cc_11eb_9505_0242ac1c0002row18_col3\" class=\"data row18 col3\" >0.163206</td>\n",
              "                        <td id=\"T_6d0b1584_75cc_11eb_9505_0242ac1c0002row18_col4\" class=\"data row18 col4\" >0.092712</td>\n",
              "                        <td id=\"T_6d0b1584_75cc_11eb_9505_0242ac1c0002row18_col5\" class=\"data row18 col5\" >-0.040912</td>\n",
              "                        <td id=\"T_6d0b1584_75cc_11eb_9505_0242ac1c0002row18_col6\" class=\"data row18 col6\" >-0.044577</td>\n",
              "                        <td id=\"T_6d0b1584_75cc_11eb_9505_0242ac1c0002row18_col7\" class=\"data row18 col7\" >-0.073842</td>\n",
              "                        <td id=\"T_6d0b1584_75cc_11eb_9505_0242ac1c0002row18_col8\" class=\"data row18 col8\" >-0.042495</td>\n",
              "                        <td id=\"T_6d0b1584_75cc_11eb_9505_0242ac1c0002row18_col9\" class=\"data row18 col9\" >0.073701</td>\n",
              "                        <td id=\"T_6d0b1584_75cc_11eb_9505_0242ac1c0002row18_col10\" class=\"data row18 col10\" >0.054078</td>\n",
              "                        <td id=\"T_6d0b1584_75cc_11eb_9505_0242ac1c0002row18_col11\" class=\"data row18 col11\" >0.089513</td>\n",
              "                        <td id=\"T_6d0b1584_75cc_11eb_9505_0242ac1c0002row18_col12\" class=\"data row18 col12\" >0.002230</td>\n",
              "                        <td id=\"T_6d0b1584_75cc_11eb_9505_0242ac1c0002row18_col13\" class=\"data row18 col13\" >-0.177771</td>\n",
              "                        <td id=\"T_6d0b1584_75cc_11eb_9505_0242ac1c0002row18_col14\" class=\"data row18 col14\" >-0.061560</td>\n",
              "                        <td id=\"T_6d0b1584_75cc_11eb_9505_0242ac1c0002row18_col15\" class=\"data row18 col15\" >-0.264238</td>\n",
              "                        <td id=\"T_6d0b1584_75cc_11eb_9505_0242ac1c0002row18_col16\" class=\"data row18 col16\" >-0.166115</td>\n",
              "                        <td id=\"T_6d0b1584_75cc_11eb_9505_0242ac1c0002row18_col17\" class=\"data row18 col17\" >-0.120695</td>\n",
              "                        <td id=\"T_6d0b1584_75cc_11eb_9505_0242ac1c0002row18_col18\" class=\"data row18 col18\" >1.000000</td>\n",
              "                        <td id=\"T_6d0b1584_75cc_11eb_9505_0242ac1c0002row18_col19\" class=\"data row18 col19\" >-0.173880</td>\n",
              "                        <td id=\"T_6d0b1584_75cc_11eb_9505_0242ac1c0002row18_col20\" class=\"data row18 col20\" >-0.073560</td>\n",
              "                        <td id=\"T_6d0b1584_75cc_11eb_9505_0242ac1c0002row18_col21\" class=\"data row18 col21\" >-0.412256</td>\n",
              "                        <td id=\"T_6d0b1584_75cc_11eb_9505_0242ac1c0002row18_col22\" class=\"data row18 col22\" >-0.029000</td>\n",
              "            </tr>\n",
              "            <tr>\n",
              "                        <th id=\"T_6d0b1584_75cc_11eb_9505_0242ac1c0002level0_row19\" class=\"row_heading level0 row19\" >LOB_ETS</th>\n",
              "                        <td id=\"T_6d0b1584_75cc_11eb_9505_0242ac1c0002row19_col0\" class=\"data row19 col0\" >0.026913</td>\n",
              "                        <td id=\"T_6d0b1584_75cc_11eb_9505_0242ac1c0002row19_col1\" class=\"data row19 col1\" >0.030576</td>\n",
              "                        <td id=\"T_6d0b1584_75cc_11eb_9505_0242ac1c0002row19_col2\" class=\"data row19 col2\" >-0.007958</td>\n",
              "                        <td id=\"T_6d0b1584_75cc_11eb_9505_0242ac1c0002row19_col3\" class=\"data row19 col3\" >-0.022021</td>\n",
              "                        <td id=\"T_6d0b1584_75cc_11eb_9505_0242ac1c0002row19_col4\" class=\"data row19 col4\" >0.004992</td>\n",
              "                        <td id=\"T_6d0b1584_75cc_11eb_9505_0242ac1c0002row19_col5\" class=\"data row19 col5\" >0.022447</td>\n",
              "                        <td id=\"T_6d0b1584_75cc_11eb_9505_0242ac1c0002row19_col6\" class=\"data row19 col6\" >0.075418</td>\n",
              "                        <td id=\"T_6d0b1584_75cc_11eb_9505_0242ac1c0002row19_col7\" class=\"data row19 col7\" >0.061918</td>\n",
              "                        <td id=\"T_6d0b1584_75cc_11eb_9505_0242ac1c0002row19_col8\" class=\"data row19 col8\" >0.011353</td>\n",
              "                        <td id=\"T_6d0b1584_75cc_11eb_9505_0242ac1c0002row19_col9\" class=\"data row19 col9\" >0.077366</td>\n",
              "                        <td id=\"T_6d0b1584_75cc_11eb_9505_0242ac1c0002row19_col10\" class=\"data row19 col10\" >0.061457</td>\n",
              "                        <td id=\"T_6d0b1584_75cc_11eb_9505_0242ac1c0002row19_col11\" class=\"data row19 col11\" >0.005295</td>\n",
              "                        <td id=\"T_6d0b1584_75cc_11eb_9505_0242ac1c0002row19_col12\" class=\"data row19 col12\" >-0.013180</td>\n",
              "                        <td id=\"T_6d0b1584_75cc_11eb_9505_0242ac1c0002row19_col13\" class=\"data row19 col13\" >0.074016</td>\n",
              "                        <td id=\"T_6d0b1584_75cc_11eb_9505_0242ac1c0002row19_col14\" class=\"data row19 col14\" >-0.010416</td>\n",
              "                        <td id=\"T_6d0b1584_75cc_11eb_9505_0242ac1c0002row19_col15\" class=\"data row19 col15\" >-0.121750</td>\n",
              "                        <td id=\"T_6d0b1584_75cc_11eb_9505_0242ac1c0002row19_col16\" class=\"data row19 col16\" >-0.076539</td>\n",
              "                        <td id=\"T_6d0b1584_75cc_11eb_9505_0242ac1c0002row19_col17\" class=\"data row19 col17\" >-0.055611</td>\n",
              "                        <td id=\"T_6d0b1584_75cc_11eb_9505_0242ac1c0002row19_col18\" class=\"data row19 col18\" >-0.173880</td>\n",
              "                        <td id=\"T_6d0b1584_75cc_11eb_9505_0242ac1c0002row19_col19\" class=\"data row19 col19\" >1.000000</td>\n",
              "                        <td id=\"T_6d0b1584_75cc_11eb_9505_0242ac1c0002row19_col20\" class=\"data row19 col20\" >-0.033893</td>\n",
              "                        <td id=\"T_6d0b1584_75cc_11eb_9505_0242ac1c0002row19_col21\" class=\"data row19 col21\" >-0.189950</td>\n",
              "                        <td id=\"T_6d0b1584_75cc_11eb_9505_0242ac1c0002row19_col22\" class=\"data row19 col22\" >-0.013362</td>\n",
              "            </tr>\n",
              "            <tr>\n",
              "                        <th id=\"T_6d0b1584_75cc_11eb_9505_0242ac1c0002level0_row20\" class=\"row_heading level0 row20\" >LOB_Healthcare</th>\n",
              "                        <td id=\"T_6d0b1584_75cc_11eb_9505_0242ac1c0002row20_col0\" class=\"data row20 col0\" >0.013310</td>\n",
              "                        <td id=\"T_6d0b1584_75cc_11eb_9505_0242ac1c0002row20_col1\" class=\"data row20 col1\" >0.004385</td>\n",
              "                        <td id=\"T_6d0b1584_75cc_11eb_9505_0242ac1c0002row20_col2\" class=\"data row20 col2\" >-0.028675</td>\n",
              "                        <td id=\"T_6d0b1584_75cc_11eb_9505_0242ac1c0002row20_col3\" class=\"data row20 col3\" >-0.021568</td>\n",
              "                        <td id=\"T_6d0b1584_75cc_11eb_9505_0242ac1c0002row20_col4\" class=\"data row20 col4\" >-0.012238</td>\n",
              "                        <td id=\"T_6d0b1584_75cc_11eb_9505_0242ac1c0002row20_col5\" class=\"data row20 col5\" >0.003078</td>\n",
              "                        <td id=\"T_6d0b1584_75cc_11eb_9505_0242ac1c0002row20_col6\" class=\"data row20 col6\" >0.005184</td>\n",
              "                        <td id=\"T_6d0b1584_75cc_11eb_9505_0242ac1c0002row20_col7\" class=\"data row20 col7\" >0.000081</td>\n",
              "                        <td id=\"T_6d0b1584_75cc_11eb_9505_0242ac1c0002row20_col8\" class=\"data row20 col8\" >-0.001249</td>\n",
              "                        <td id=\"T_6d0b1584_75cc_11eb_9505_0242ac1c0002row20_col9\" class=\"data row20 col9\" >0.006964</td>\n",
              "                        <td id=\"T_6d0b1584_75cc_11eb_9505_0242ac1c0002row20_col10\" class=\"data row20 col10\" >0.012984</td>\n",
              "                        <td id=\"T_6d0b1584_75cc_11eb_9505_0242ac1c0002row20_col11\" class=\"data row20 col11\" >-0.028702</td>\n",
              "                        <td id=\"T_6d0b1584_75cc_11eb_9505_0242ac1c0002row20_col12\" class=\"data row20 col12\" >0.012074</td>\n",
              "                        <td id=\"T_6d0b1584_75cc_11eb_9505_0242ac1c0002row20_col13\" class=\"data row20 col13\" >0.047280</td>\n",
              "                        <td id=\"T_6d0b1584_75cc_11eb_9505_0242ac1c0002row20_col14\" class=\"data row20 col14\" >-0.023748</td>\n",
              "                        <td id=\"T_6d0b1584_75cc_11eb_9505_0242ac1c0002row20_col15\" class=\"data row20 col15\" >-0.051506</td>\n",
              "                        <td id=\"T_6d0b1584_75cc_11eb_9505_0242ac1c0002row20_col16\" class=\"data row20 col16\" >-0.032380</td>\n",
              "                        <td id=\"T_6d0b1584_75cc_11eb_9505_0242ac1c0002row20_col17\" class=\"data row20 col17\" >-0.023526</td>\n",
              "                        <td id=\"T_6d0b1584_75cc_11eb_9505_0242ac1c0002row20_col18\" class=\"data row20 col18\" >-0.073560</td>\n",
              "                        <td id=\"T_6d0b1584_75cc_11eb_9505_0242ac1c0002row20_col19\" class=\"data row20 col19\" >-0.033893</td>\n",
              "                        <td id=\"T_6d0b1584_75cc_11eb_9505_0242ac1c0002row20_col20\" class=\"data row20 col20\" >1.000000</td>\n",
              "                        <td id=\"T_6d0b1584_75cc_11eb_9505_0242ac1c0002row20_col21\" class=\"data row20 col21\" >-0.080359</td>\n",
              "                        <td id=\"T_6d0b1584_75cc_11eb_9505_0242ac1c0002row20_col22\" class=\"data row20 col22\" >-0.005653</td>\n",
              "            </tr>\n",
              "            <tr>\n",
              "                        <th id=\"T_6d0b1584_75cc_11eb_9505_0242ac1c0002level0_row21\" class=\"row_heading level0 row21\" >LOB_INFRA</th>\n",
              "                        <td id=\"T_6d0b1584_75cc_11eb_9505_0242ac1c0002row21_col0\" class=\"data row21 col0\" >-0.194166</td>\n",
              "                        <td id=\"T_6d0b1584_75cc_11eb_9505_0242ac1c0002row21_col1\" class=\"data row21 col1\" >-0.139901</td>\n",
              "                        <td id=\"T_6d0b1584_75cc_11eb_9505_0242ac1c0002row21_col2\" class=\"data row21 col2\" >0.277155</td>\n",
              "                        <td id=\"T_6d0b1584_75cc_11eb_9505_0242ac1c0002row21_col3\" class=\"data row21 col3\" >-0.073313</td>\n",
              "                        <td id=\"T_6d0b1584_75cc_11eb_9505_0242ac1c0002row21_col4\" class=\"data row21 col4\" >0.009728</td>\n",
              "                        <td id=\"T_6d0b1584_75cc_11eb_9505_0242ac1c0002row21_col5\" class=\"data row21 col5\" >0.088434</td>\n",
              "                        <td id=\"T_6d0b1584_75cc_11eb_9505_0242ac1c0002row21_col6\" class=\"data row21 col6\" >-0.103740</td>\n",
              "                        <td id=\"T_6d0b1584_75cc_11eb_9505_0242ac1c0002row21_col7\" class=\"data row21 col7\" >-0.054380</td>\n",
              "                        <td id=\"T_6d0b1584_75cc_11eb_9505_0242ac1c0002row21_col8\" class=\"data row21 col8\" >0.112239</td>\n",
              "                        <td id=\"T_6d0b1584_75cc_11eb_9505_0242ac1c0002row21_col9\" class=\"data row21 col9\" >-0.141634</td>\n",
              "                        <td id=\"T_6d0b1584_75cc_11eb_9505_0242ac1c0002row21_col10\" class=\"data row21 col10\" >-0.119080</td>\n",
              "                        <td id=\"T_6d0b1584_75cc_11eb_9505_0242ac1c0002row21_col11\" class=\"data row21 col11\" >-0.004970</td>\n",
              "                        <td id=\"T_6d0b1584_75cc_11eb_9505_0242ac1c0002row21_col12\" class=\"data row21 col12\" >0.024641</td>\n",
              "                        <td id=\"T_6d0b1584_75cc_11eb_9505_0242ac1c0002row21_col13\" class=\"data row21 col13\" >0.032540</td>\n",
              "                        <td id=\"T_6d0b1584_75cc_11eb_9505_0242ac1c0002row21_col14\" class=\"data row21 col14\" >0.143430</td>\n",
              "                        <td id=\"T_6d0b1584_75cc_11eb_9505_0242ac1c0002row21_col15\" class=\"data row21 col15\" >-0.288659</td>\n",
              "                        <td id=\"T_6d0b1584_75cc_11eb_9505_0242ac1c0002row21_col16\" class=\"data row21 col16\" >-0.181468</td>\n",
              "                        <td id=\"T_6d0b1584_75cc_11eb_9505_0242ac1c0002row21_col17\" class=\"data row21 col17\" >-0.131849</td>\n",
              "                        <td id=\"T_6d0b1584_75cc_11eb_9505_0242ac1c0002row21_col18\" class=\"data row21 col18\" >-0.412256</td>\n",
              "                        <td id=\"T_6d0b1584_75cc_11eb_9505_0242ac1c0002row21_col19\" class=\"data row21 col19\" >-0.189950</td>\n",
              "                        <td id=\"T_6d0b1584_75cc_11eb_9505_0242ac1c0002row21_col20\" class=\"data row21 col20\" >-0.080359</td>\n",
              "                        <td id=\"T_6d0b1584_75cc_11eb_9505_0242ac1c0002row21_col21\" class=\"data row21 col21\" >1.000000</td>\n",
              "                        <td id=\"T_6d0b1584_75cc_11eb_9505_0242ac1c0002row21_col22\" class=\"data row21 col22\" >-0.031681</td>\n",
              "            </tr>\n",
              "            <tr>\n",
              "                        <th id=\"T_6d0b1584_75cc_11eb_9505_0242ac1c0002level0_row22\" class=\"row_heading level0 row22\" >LOB_MMS</th>\n",
              "                        <td id=\"T_6d0b1584_75cc_11eb_9505_0242ac1c0002row22_col0\" class=\"data row22 col0\" >0.010313</td>\n",
              "                        <td id=\"T_6d0b1584_75cc_11eb_9505_0242ac1c0002row22_col1\" class=\"data row22 col1\" >0.023345</td>\n",
              "                        <td id=\"T_6d0b1584_75cc_11eb_9505_0242ac1c0002row22_col2\" class=\"data row22 col2\" >-0.028809</td>\n",
              "                        <td id=\"T_6d0b1584_75cc_11eb_9505_0242ac1c0002row22_col3\" class=\"data row22 col3\" >0.011898</td>\n",
              "                        <td id=\"T_6d0b1584_75cc_11eb_9505_0242ac1c0002row22_col4\" class=\"data row22 col4\" >0.014318</td>\n",
              "                        <td id=\"T_6d0b1584_75cc_11eb_9505_0242ac1c0002row22_col5\" class=\"data row22 col5\" >0.004168</td>\n",
              "                        <td id=\"T_6d0b1584_75cc_11eb_9505_0242ac1c0002row22_col6\" class=\"data row22 col6\" >-0.013685</td>\n",
              "                        <td id=\"T_6d0b1584_75cc_11eb_9505_0242ac1c0002row22_col7\" class=\"data row22 col7\" >-0.035880</td>\n",
              "                        <td id=\"T_6d0b1584_75cc_11eb_9505_0242ac1c0002row22_col8\" class=\"data row22 col8\" >0.022637</td>\n",
              "                        <td id=\"T_6d0b1584_75cc_11eb_9505_0242ac1c0002row22_col9\" class=\"data row22 col9\" >0.003277</td>\n",
              "                        <td id=\"T_6d0b1584_75cc_11eb_9505_0242ac1c0002row22_col10\" class=\"data row22 col10\" >-0.010241</td>\n",
              "                        <td id=\"T_6d0b1584_75cc_11eb_9505_0242ac1c0002row22_col11\" class=\"data row22 col11\" >-0.018979</td>\n",
              "                        <td id=\"T_6d0b1584_75cc_11eb_9505_0242ac1c0002row22_col12\" class=\"data row22 col12\" >-0.014073</td>\n",
              "                        <td id=\"T_6d0b1584_75cc_11eb_9505_0242ac1c0002row22_col13\" class=\"data row22 col13\" >0.030639</td>\n",
              "                        <td id=\"T_6d0b1584_75cc_11eb_9505_0242ac1c0002row22_col14\" class=\"data row22 col14\" >-0.013037</td>\n",
              "                        <td id=\"T_6d0b1584_75cc_11eb_9505_0242ac1c0002row22_col15\" class=\"data row22 col15\" >-0.020306</td>\n",
              "                        <td id=\"T_6d0b1584_75cc_11eb_9505_0242ac1c0002row22_col16\" class=\"data row22 col16\" >-0.012765</td>\n",
              "                        <td id=\"T_6d0b1584_75cc_11eb_9505_0242ac1c0002row22_col17\" class=\"data row22 col17\" >-0.009275</td>\n",
              "                        <td id=\"T_6d0b1584_75cc_11eb_9505_0242ac1c0002row22_col18\" class=\"data row22 col18\" >-0.029000</td>\n",
              "                        <td id=\"T_6d0b1584_75cc_11eb_9505_0242ac1c0002row22_col19\" class=\"data row22 col19\" >-0.013362</td>\n",
              "                        <td id=\"T_6d0b1584_75cc_11eb_9505_0242ac1c0002row22_col20\" class=\"data row22 col20\" >-0.005653</td>\n",
              "                        <td id=\"T_6d0b1584_75cc_11eb_9505_0242ac1c0002row22_col21\" class=\"data row22 col21\" >-0.031681</td>\n",
              "                        <td id=\"T_6d0b1584_75cc_11eb_9505_0242ac1c0002row22_col22\" class=\"data row22 col22\" >1.000000</td>\n",
              "            </tr>\n",
              "    </tbody></table>"
            ],
            "text/plain": [
              "<pandas.io.formats.style.Styler at 0x7ff66c238ba8>"
            ]
          },
          "metadata": {
            "tags": []
          },
          "execution_count": 18
        }
      ]
    },
    {
      "cell_type": "code",
      "metadata": {
        "colab": {
          "base_uri": "https://localhost:8080/",
          "height": 118
        },
        "id": "NRgKb2oUIUuG",
        "outputId": "acceec95-7e65-4a04-d89c-f99d2c135568"
      },
      "source": [
        "df_train_encoded[['Duration to accept offer','Notice period','Offered band','Status']].corr().style.background_gradient(cmap='coolwarm')"
      ],
      "execution_count": 19,
      "outputs": [
        {
          "output_type": "execute_result",
          "data": {
            "text/html": [
              "<style  type=\"text/css\" >\n",
              "#T_6d17ab8c_75cc_11eb_9505_0242ac1c0002row0_col0,#T_6d17ab8c_75cc_11eb_9505_0242ac1c0002row1_col1,#T_6d17ab8c_75cc_11eb_9505_0242ac1c0002row2_col2,#T_6d17ab8c_75cc_11eb_9505_0242ac1c0002row3_col3{\n",
              "            background-color:  #b40426;\n",
              "            color:  #f1f1f1;\n",
              "        }#T_6d17ab8c_75cc_11eb_9505_0242ac1c0002row0_col1{\n",
              "            background-color:  #cfdaea;\n",
              "            color:  #000000;\n",
              "        }#T_6d17ab8c_75cc_11eb_9505_0242ac1c0002row0_col2,#T_6d17ab8c_75cc_11eb_9505_0242ac1c0002row1_col3,#T_6d17ab8c_75cc_11eb_9505_0242ac1c0002row3_col0,#T_6d17ab8c_75cc_11eb_9505_0242ac1c0002row3_col1,#T_6d17ab8c_75cc_11eb_9505_0242ac1c0002row3_col2{\n",
              "            background-color:  #3b4cc0;\n",
              "            color:  #f1f1f1;\n",
              "        }#T_6d17ab8c_75cc_11eb_9505_0242ac1c0002row0_col3{\n",
              "            background-color:  #5572df;\n",
              "            color:  #000000;\n",
              "        }#T_6d17ab8c_75cc_11eb_9505_0242ac1c0002row1_col0{\n",
              "            background-color:  #c0d4f5;\n",
              "            color:  #000000;\n",
              "        }#T_6d17ab8c_75cc_11eb_9505_0242ac1c0002row1_col2{\n",
              "            background-color:  #6384eb;\n",
              "            color:  #000000;\n",
              "        }#T_6d17ab8c_75cc_11eb_9505_0242ac1c0002row2_col0{\n",
              "            background-color:  #5875e1;\n",
              "            color:  #000000;\n",
              "        }#T_6d17ab8c_75cc_11eb_9505_0242ac1c0002row2_col1{\n",
              "            background-color:  #98b9ff;\n",
              "            color:  #000000;\n",
              "        }#T_6d17ab8c_75cc_11eb_9505_0242ac1c0002row2_col3{\n",
              "            background-color:  #7295f4;\n",
              "            color:  #000000;\n",
              "        }</style><table id=\"T_6d17ab8c_75cc_11eb_9505_0242ac1c0002\" ><thead>    <tr>        <th class=\"blank level0\" ></th>        <th class=\"col_heading level0 col0\" >Duration to accept offer</th>        <th class=\"col_heading level0 col1\" >Notice period</th>        <th class=\"col_heading level0 col2\" >Offered band</th>        <th class=\"col_heading level0 col3\" >Status</th>    </tr></thead><tbody>\n",
              "                <tr>\n",
              "                        <th id=\"T_6d17ab8c_75cc_11eb_9505_0242ac1c0002level0_row0\" class=\"row_heading level0 row0\" >Duration to accept offer</th>\n",
              "                        <td id=\"T_6d17ab8c_75cc_11eb_9505_0242ac1c0002row0_col0\" class=\"data row0 col0\" >1.000000</td>\n",
              "                        <td id=\"T_6d17ab8c_75cc_11eb_9505_0242ac1c0002row0_col1\" class=\"data row0 col1\" >0.354864</td>\n",
              "                        <td id=\"T_6d17ab8c_75cc_11eb_9505_0242ac1c0002row0_col2\" class=\"data row0 col2\" >0.029516</td>\n",
              "                        <td id=\"T_6d17ab8c_75cc_11eb_9505_0242ac1c0002row0_col3\" class=\"data row0 col3\" >-0.072932</td>\n",
              "            </tr>\n",
              "            <tr>\n",
              "                        <th id=\"T_6d17ab8c_75cc_11eb_9505_0242ac1c0002level0_row1\" class=\"row_heading level0 row1\" >Notice period</th>\n",
              "                        <td id=\"T_6d17ab8c_75cc_11eb_9505_0242ac1c0002row1_col0\" class=\"data row1 col0\" >0.354864</td>\n",
              "                        <td id=\"T_6d17ab8c_75cc_11eb_9505_0242ac1c0002row1_col1\" class=\"data row1 col1\" >1.000000</td>\n",
              "                        <td id=\"T_6d17ab8c_75cc_11eb_9505_0242ac1c0002row1_col2\" class=\"data row1 col2\" >0.155257</td>\n",
              "                        <td id=\"T_6d17ab8c_75cc_11eb_9505_0242ac1c0002row1_col3\" class=\"data row1 col3\" >-0.175371</td>\n",
              "            </tr>\n",
              "            <tr>\n",
              "                        <th id=\"T_6d17ab8c_75cc_11eb_9505_0242ac1c0002level0_row2\" class=\"row_heading level0 row2\" >Offered band</th>\n",
              "                        <td id=\"T_6d17ab8c_75cc_11eb_9505_0242ac1c0002row2_col0\" class=\"data row2 col0\" >0.029516</td>\n",
              "                        <td id=\"T_6d17ab8c_75cc_11eb_9505_0242ac1c0002row2_col1\" class=\"data row2 col1\" >0.155257</td>\n",
              "                        <td id=\"T_6d17ab8c_75cc_11eb_9505_0242ac1c0002row2_col2\" class=\"data row2 col2\" >1.000000</td>\n",
              "                        <td id=\"T_6d17ab8c_75cc_11eb_9505_0242ac1c0002row2_col3\" class=\"data row2 col3\" >0.029500</td>\n",
              "            </tr>\n",
              "            <tr>\n",
              "                        <th id=\"T_6d17ab8c_75cc_11eb_9505_0242ac1c0002level0_row3\" class=\"row_heading level0 row3\" >Status</th>\n",
              "                        <td id=\"T_6d17ab8c_75cc_11eb_9505_0242ac1c0002row3_col0\" class=\"data row3 col0\" >-0.072932</td>\n",
              "                        <td id=\"T_6d17ab8c_75cc_11eb_9505_0242ac1c0002row3_col1\" class=\"data row3 col1\" >-0.175371</td>\n",
              "                        <td id=\"T_6d17ab8c_75cc_11eb_9505_0242ac1c0002row3_col2\" class=\"data row3 col2\" >0.029500</td>\n",
              "                        <td id=\"T_6d17ab8c_75cc_11eb_9505_0242ac1c0002row3_col3\" class=\"data row3 col3\" >1.000000</td>\n",
              "            </tr>\n",
              "    </tbody></table>"
            ],
            "text/plain": [
              "<pandas.io.formats.style.Styler at 0x7ff64f3cfc50>"
            ]
          },
          "metadata": {
            "tags": []
          },
          "execution_count": 19
        }
      ]
    },
    {
      "cell_type": "markdown",
      "metadata": {
        "id": "KlnG3MrCoBJ_"
      },
      "source": [
        "**Observation:**\r\n",
        "* Dropping Pecent hike expected in CTC and Percent hike offered in CTC column to avoid multicollinearity issues"
      ]
    },
    {
      "cell_type": "code",
      "metadata": {
        "id": "NXitUfck7wep"
      },
      "source": [
        "df_train_encoded1 = df_train_encoded.drop(['Pecent hike expected in CTC','Percent hike offered in CTC'],axis=1)\r\n",
        "df_test_encoded1=df_test_encoded.drop(['Pecent hike expected in CTC','Percent hike offered in CTC'],axis=1)"
      ],
      "execution_count": 20,
      "outputs": []
    },
    {
      "cell_type": "code",
      "metadata": {
        "colab": {
          "base_uri": "https://localhost:8080/"
        },
        "id": "wHVPFeDq7dCw",
        "outputId": "13960f03-ae1c-401a-d96b-141c5e8d7fd4"
      },
      "source": [
        "\r\n",
        "from statsmodels.stats.outliers_influence import variance_inflation_factor \r\n",
        "X = df_train_encoded.drop(['Status'],axis=1)\r\n",
        "vif_data = pd.DataFrame() \r\n",
        "vif_data[\"feature\"] = X.columns \r\n",
        "vif_data[\"VIF\"] = [variance_inflation_factor(X.values, i) \r\n",
        "                          for i in range(len(X.columns))] \r\n",
        "print(vif_data)                          "
      ],
      "execution_count": 21,
      "outputs": [
        {
          "output_type": "stream",
          "text": [
            "/usr/local/lib/python3.6/dist-packages/statsmodels/tools/_testing.py:19: FutureWarning: pandas.util.testing is deprecated. Use the functions in the public API at pandas.testing instead.\n",
            "  import pandas.util.testing as tm\n"
          ],
          "name": "stderr"
        },
        {
          "output_type": "stream",
          "text": [
            "                               feature        VIF\n",
            "0             Duration to accept offer   2.198435\n",
            "1                        Notice period   4.971470\n",
            "2                         Offered band  40.627238\n",
            "3          Pecent hike expected in CTC  65.049557\n",
            "4          Percent hike offered in CTC  71.556346\n",
            "5               Percent difference CTC  17.939770\n",
            "6                           Rex in Yrs   9.699736\n",
            "7                                  Age  35.666232\n",
            "8                     DOJ Extended_Yes   2.241783\n",
            "9                    Joining Bonus_Yes   1.123396\n",
            "10       Candidate relocate actual_Yes   1.219103\n",
            "11                         Gender_Male   5.954099\n",
            "12             Candidate Source_Direct   2.962489\n",
            "13  Candidate Source_Employee Referral   1.712277\n",
            "14                            LOB_BFSI   3.164050\n",
            "15                            LOB_CSMP   1.921391\n",
            "16                             LOB_EAS   1.550225\n",
            "17                             LOB_ERS   4.686214\n",
            "18                             LOB_ETS   2.002107\n",
            "19                      LOB_Healthcare   1.188340\n",
            "20                           LOB_INFRA   6.260645\n",
            "21                             LOB_MMS   1.029600\n"
          ],
          "name": "stdout"
        }
      ]
    },
    {
      "cell_type": "code",
      "metadata": {
        "id": "9z7-pWfv4bBh"
      },
      "source": [
        "df_train_encoded1.drop(['LOB_MMS'],axis=1,inplace=True)"
      ],
      "execution_count": 22,
      "outputs": []
    },
    {
      "cell_type": "code",
      "metadata": {
        "colab": {
          "base_uri": "https://localhost:8080/"
        },
        "id": "D_t1b94GBvNr",
        "outputId": "83f882eb-db4b-4683-c5ab-8aff350ca7b6"
      },
      "source": [
        "df_train_encoded1.shape"
      ],
      "execution_count": 23,
      "outputs": [
        {
          "output_type": "execute_result",
          "data": {
            "text/plain": [
              "(6296, 20)"
            ]
          },
          "metadata": {
            "tags": []
          },
          "execution_count": 23
        }
      ]
    },
    {
      "cell_type": "code",
      "metadata": {
        "id": "uxahGwJf3jBc"
      },
      "source": [
        "X_train = df_train_encoded1.drop(['Status'],axis=1)\r\n",
        "y_train = df_train_encoded1['Status']\r\n",
        "X_test = df_test_encoded1.drop(['Status'],axis=1)\r\n",
        "y_test = df_test_encoded1['Status']"
      ],
      "execution_count": 24,
      "outputs": []
    },
    {
      "cell_type": "code",
      "metadata": {
        "colab": {
          "base_uri": "https://localhost:8080/"
        },
        "id": "7zS3hEethLEe",
        "outputId": "71e9b158-8fcc-4b3b-a221-b8f2aabcc1cb"
      },
      "source": [
        "X_train.shape"
      ],
      "execution_count": 25,
      "outputs": [
        {
          "output_type": "execute_result",
          "data": {
            "text/plain": [
              "(6296, 19)"
            ]
          },
          "metadata": {
            "tags": []
          },
          "execution_count": 25
        }
      ]
    },
    {
      "cell_type": "markdown",
      "metadata": {
        "id": "-gA6S6x7NkOd"
      },
      "source": [
        "# Model Selection and Building"
      ]
    },
    {
      "cell_type": "code",
      "metadata": {
        "id": "pFCTedC2w8IS"
      },
      "source": [
        "#Function to perform hyper parameters tuning using gridsearchcv\r\n",
        "def hyper_parameters_tuning(model,X,y):\r\n",
        "  scores = []\r\n",
        "  for model_name, mp in model.items():\r\n",
        "      clf =  GridSearchCV(mp['model'],mp['params'] ,cv= 2, return_train_score=False)\r\n",
        "      clf.fit(X, y)\r\n",
        "      scores.append({\r\n",
        "          'model': model_name,\r\n",
        "          'best_score': clf.best_score_,\r\n",
        "          'best_params':clf.best_params_\r\n",
        "      })\r\n",
        "      \r\n",
        "  df_model = pd.DataFrame(scores,columns=['model','best_score','best_params'])\r\n",
        "  return df_model"
      ],
      "execution_count": 26,
      "outputs": []
    },
    {
      "cell_type": "markdown",
      "metadata": {
        "id": "ghkUI2r0U7ZT"
      },
      "source": [
        "**Logistic Regression**"
      ]
    },
    {
      "cell_type": "code",
      "metadata": {
        "id": "lUOrjJsFOfuH"
      },
      "source": [
        "model = {\r\n",
        "    'Logistic Regression':{'model':LogisticRegression(),'params':{'solver':['newton-cg', 'lbfgs', 'liblinear', 'sag', 'saga'],\r\n",
        "                                                                           'max_iter':[80,100,150]}}\r\n",
        "}"
      ],
      "execution_count": 27,
      "outputs": []
    },
    {
      "cell_type": "code",
      "metadata": {
        "colab": {
          "base_uri": "https://localhost:8080/",
          "height": 1000
        },
        "id": "AVf4tThQP8Bc",
        "outputId": "972b5e6d-93a1-4746-e862-6ce17bc8bf97"
      },
      "source": [
        "result=hyper_parameters_tuning(model,X_train,y_train)\r\n",
        "result"
      ],
      "execution_count": 28,
      "outputs": [
        {
          "output_type": "stream",
          "text": [
            "/usr/local/lib/python3.6/dist-packages/sklearn/linear_model/_logistic.py:940: ConvergenceWarning: lbfgs failed to converge (status=1):\n",
            "STOP: TOTAL NO. of ITERATIONS REACHED LIMIT.\n",
            "\n",
            "Increase the number of iterations (max_iter) or scale the data as shown in:\n",
            "    https://scikit-learn.org/stable/modules/preprocessing.html\n",
            "Please also refer to the documentation for alternative solver options:\n",
            "    https://scikit-learn.org/stable/modules/linear_model.html#logistic-regression\n",
            "  extra_warning_msg=_LOGISTIC_SOLVER_CONVERGENCE_MSG)\n",
            "/usr/local/lib/python3.6/dist-packages/sklearn/linear_model/_logistic.py:940: ConvergenceWarning: lbfgs failed to converge (status=1):\n",
            "STOP: TOTAL NO. of ITERATIONS REACHED LIMIT.\n",
            "\n",
            "Increase the number of iterations (max_iter) or scale the data as shown in:\n",
            "    https://scikit-learn.org/stable/modules/preprocessing.html\n",
            "Please also refer to the documentation for alternative solver options:\n",
            "    https://scikit-learn.org/stable/modules/linear_model.html#logistic-regression\n",
            "  extra_warning_msg=_LOGISTIC_SOLVER_CONVERGENCE_MSG)\n",
            "/usr/local/lib/python3.6/dist-packages/sklearn/linear_model/_sag.py:330: ConvergenceWarning: The max_iter was reached which means the coef_ did not converge\n",
            "  \"the coef_ did not converge\", ConvergenceWarning)\n",
            "/usr/local/lib/python3.6/dist-packages/sklearn/linear_model/_sag.py:330: ConvergenceWarning: The max_iter was reached which means the coef_ did not converge\n",
            "  \"the coef_ did not converge\", ConvergenceWarning)\n",
            "/usr/local/lib/python3.6/dist-packages/sklearn/linear_model/_sag.py:330: ConvergenceWarning: The max_iter was reached which means the coef_ did not converge\n",
            "  \"the coef_ did not converge\", ConvergenceWarning)\n",
            "/usr/local/lib/python3.6/dist-packages/sklearn/linear_model/_sag.py:330: ConvergenceWarning: The max_iter was reached which means the coef_ did not converge\n",
            "  \"the coef_ did not converge\", ConvergenceWarning)\n",
            "/usr/local/lib/python3.6/dist-packages/sklearn/linear_model/_logistic.py:940: ConvergenceWarning: lbfgs failed to converge (status=1):\n",
            "STOP: TOTAL NO. of ITERATIONS REACHED LIMIT.\n",
            "\n",
            "Increase the number of iterations (max_iter) or scale the data as shown in:\n",
            "    https://scikit-learn.org/stable/modules/preprocessing.html\n",
            "Please also refer to the documentation for alternative solver options:\n",
            "    https://scikit-learn.org/stable/modules/linear_model.html#logistic-regression\n",
            "  extra_warning_msg=_LOGISTIC_SOLVER_CONVERGENCE_MSG)\n",
            "/usr/local/lib/python3.6/dist-packages/sklearn/linear_model/_logistic.py:940: ConvergenceWarning: lbfgs failed to converge (status=1):\n",
            "STOP: TOTAL NO. of ITERATIONS REACHED LIMIT.\n",
            "\n",
            "Increase the number of iterations (max_iter) or scale the data as shown in:\n",
            "    https://scikit-learn.org/stable/modules/preprocessing.html\n",
            "Please also refer to the documentation for alternative solver options:\n",
            "    https://scikit-learn.org/stable/modules/linear_model.html#logistic-regression\n",
            "  extra_warning_msg=_LOGISTIC_SOLVER_CONVERGENCE_MSG)\n",
            "/usr/local/lib/python3.6/dist-packages/sklearn/linear_model/_sag.py:330: ConvergenceWarning: The max_iter was reached which means the coef_ did not converge\n",
            "  \"the coef_ did not converge\", ConvergenceWarning)\n",
            "/usr/local/lib/python3.6/dist-packages/sklearn/linear_model/_sag.py:330: ConvergenceWarning: The max_iter was reached which means the coef_ did not converge\n",
            "  \"the coef_ did not converge\", ConvergenceWarning)\n",
            "/usr/local/lib/python3.6/dist-packages/sklearn/linear_model/_sag.py:330: ConvergenceWarning: The max_iter was reached which means the coef_ did not converge\n",
            "  \"the coef_ did not converge\", ConvergenceWarning)\n",
            "/usr/local/lib/python3.6/dist-packages/sklearn/linear_model/_sag.py:330: ConvergenceWarning: The max_iter was reached which means the coef_ did not converge\n",
            "  \"the coef_ did not converge\", ConvergenceWarning)\n",
            "/usr/local/lib/python3.6/dist-packages/sklearn/linear_model/_logistic.py:940: ConvergenceWarning: lbfgs failed to converge (status=1):\n",
            "STOP: TOTAL NO. of ITERATIONS REACHED LIMIT.\n",
            "\n",
            "Increase the number of iterations (max_iter) or scale the data as shown in:\n",
            "    https://scikit-learn.org/stable/modules/preprocessing.html\n",
            "Please also refer to the documentation for alternative solver options:\n",
            "    https://scikit-learn.org/stable/modules/linear_model.html#logistic-regression\n",
            "  extra_warning_msg=_LOGISTIC_SOLVER_CONVERGENCE_MSG)\n",
            "/usr/local/lib/python3.6/dist-packages/sklearn/linear_model/_logistic.py:940: ConvergenceWarning: lbfgs failed to converge (status=1):\n",
            "STOP: TOTAL NO. of ITERATIONS REACHED LIMIT.\n",
            "\n",
            "Increase the number of iterations (max_iter) or scale the data as shown in:\n",
            "    https://scikit-learn.org/stable/modules/preprocessing.html\n",
            "Please also refer to the documentation for alternative solver options:\n",
            "    https://scikit-learn.org/stable/modules/linear_model.html#logistic-regression\n",
            "  extra_warning_msg=_LOGISTIC_SOLVER_CONVERGENCE_MSG)\n",
            "/usr/local/lib/python3.6/dist-packages/sklearn/linear_model/_sag.py:330: ConvergenceWarning: The max_iter was reached which means the coef_ did not converge\n",
            "  \"the coef_ did not converge\", ConvergenceWarning)\n",
            "/usr/local/lib/python3.6/dist-packages/sklearn/linear_model/_sag.py:330: ConvergenceWarning: The max_iter was reached which means the coef_ did not converge\n",
            "  \"the coef_ did not converge\", ConvergenceWarning)\n",
            "/usr/local/lib/python3.6/dist-packages/sklearn/linear_model/_sag.py:330: ConvergenceWarning: The max_iter was reached which means the coef_ did not converge\n",
            "  \"the coef_ did not converge\", ConvergenceWarning)\n",
            "/usr/local/lib/python3.6/dist-packages/sklearn/linear_model/_sag.py:330: ConvergenceWarning: The max_iter was reached which means the coef_ did not converge\n",
            "  \"the coef_ did not converge\", ConvergenceWarning)\n",
            "/usr/local/lib/python3.6/dist-packages/sklearn/linear_model/_sag.py:330: ConvergenceWarning: The max_iter was reached which means the coef_ did not converge\n",
            "  \"the coef_ did not converge\", ConvergenceWarning)\n"
          ],
          "name": "stderr"
        },
        {
          "output_type": "execute_result",
          "data": {
            "text/html": [
              "<div>\n",
              "<style scoped>\n",
              "    .dataframe tbody tr th:only-of-type {\n",
              "        vertical-align: middle;\n",
              "    }\n",
              "\n",
              "    .dataframe tbody tr th {\n",
              "        vertical-align: top;\n",
              "    }\n",
              "\n",
              "    .dataframe thead th {\n",
              "        text-align: right;\n",
              "    }\n",
              "</style>\n",
              "<table border=\"1\" class=\"dataframe\">\n",
              "  <thead>\n",
              "    <tr style=\"text-align: right;\">\n",
              "      <th></th>\n",
              "      <th>model</th>\n",
              "      <th>best_score</th>\n",
              "      <th>best_params</th>\n",
              "    </tr>\n",
              "  </thead>\n",
              "  <tbody>\n",
              "    <tr>\n",
              "      <th>0</th>\n",
              "      <td>Logistic Regression</td>\n",
              "      <td>0.814803</td>\n",
              "      <td>{'max_iter': 100, 'solver': 'saga'}</td>\n",
              "    </tr>\n",
              "  </tbody>\n",
              "</table>\n",
              "</div>"
            ],
            "text/plain": [
              "                 model  best_score                          best_params\n",
              "0  Logistic Regression    0.814803  {'max_iter': 100, 'solver': 'saga'}"
            ]
          },
          "metadata": {
            "tags": []
          },
          "execution_count": 28
        }
      ]
    },
    {
      "cell_type": "code",
      "metadata": {
        "colab": {
          "base_uri": "https://localhost:8080/"
        },
        "id": "BMzocuMTvBeC",
        "outputId": "55707ebf-80e8-4c02-9c21-0310d3882caa"
      },
      "source": [
        "\r\n",
        "model = LogisticRegression(max_iter=100,solver='saga')\r\n",
        "model.fit(X_train,y_train)\r\n",
        "ypred = model.predict(X_test)\r\n",
        "print(classification_report(y_test,ypred))"
      ],
      "execution_count": 29,
      "outputs": [
        {
          "output_type": "stream",
          "text": [
            "              precision    recall  f1-score   support\n",
            "\n",
            "           0       1.00      0.01      0.02       202\n",
            "           1       0.81      1.00      0.90       878\n",
            "\n",
            "    accuracy                           0.81      1080\n",
            "   macro avg       0.91      0.50      0.46      1080\n",
            "weighted avg       0.85      0.81      0.73      1080\n",
            "\n"
          ],
          "name": "stdout"
        },
        {
          "output_type": "stream",
          "text": [
            "/usr/local/lib/python3.6/dist-packages/sklearn/linear_model/_sag.py:330: ConvergenceWarning: The max_iter was reached which means the coef_ did not converge\n",
            "  \"the coef_ did not converge\", ConvergenceWarning)\n"
          ],
          "name": "stderr"
        }
      ]
    },
    {
      "cell_type": "code",
      "metadata": {
        "colab": {
          "base_uri": "https://localhost:8080/",
          "height": 404
        },
        "id": "mLcer222-Usj",
        "outputId": "62012c74-bccd-449c-9461-84cddbaeb0ea"
      },
      "source": [
        "y_score_lg = model.predict_proba(X_test)[:,1]\r\n",
        "false_positive_rate1, true_positive_rate1, threshold1 = roc_curve(y_test, y_score_lg)\r\n",
        "plt.subplots(1, figsize=(6,6))\r\n",
        "plt.title('Receiver Operating Characteristic - Logistic Regression')\r\n",
        "plt.plot(false_positive_rate1, true_positive_rate1)\r\n",
        "plt.plot([0, 1], ls=\"--\")\r\n",
        "plt.plot([0, 0], [1, 0] , c=\".7\"), plt.plot([1, 1] , c=\".7\")\r\n",
        "plt.ylabel('True Positive Rate')\r\n",
        "plt.xlabel('False Positive Rate')\r\n",
        "plt.show()"
      ],
      "execution_count": 30,
      "outputs": [
        {
          "output_type": "display_data",
          "data": {
            "image/png": "[encoded data removed]",
            "text/plain": [
              "<Figure size 432x432 with 1 Axes>"
            ]
          },
          "metadata": {
            "tags": [],
            "needs_background": "light"
          }
        }
      ]
    },
    {
      "cell_type": "code",
      "metadata": {
        "id": "g7Q61toIUo1f"
      },
      "source": [
        "#Function to calculate evaluation metrics\r\n",
        "def calculate_evaluation_metrics(tn,fp,fn,tp):\r\n",
        "  accuracy = (tp+tn)/(tp+tn+fp+fn)\r\n",
        "  sensitivity = tp/(tp+fn)\r\n",
        "  specificity = tn/(tn+fp)\r\n",
        "  print(\"Accuracy - \",accuracy)\r\n",
        "  print(\"Sensitivity - \",sensitivity)\r\n",
        "  print(\"Specificity - \",specificity)"
      ],
      "execution_count": 31,
      "outputs": []
    },
    {
      "cell_type": "code",
      "metadata": {
        "colab": {
          "base_uri": "https://localhost:8080/"
        },
        "id": "3yZBfvdrSGtc",
        "outputId": "024f144a-8469-436a-f6cb-4b7a305b77e4"
      },
      "source": [
        "tn, fp, fn, tp = confusion_matrix(y_test, ypred).ravel()\r\n",
        "print(\"True Negative - \", tn)\r\n",
        "print(\"False Positive - \",fp)\r\n",
        "print(\"False Negative - \",fn)\r\n",
        "print(\"True Positive - \",tp)"
      ],
      "execution_count": 32,
      "outputs": [
        {
          "output_type": "stream",
          "text": [
            "True Negative -  2\n",
            "False Positive -  200\n",
            "False Negative -  0\n",
            "True Positive -  878\n"
          ],
          "name": "stdout"
        }
      ]
    },
    {
      "cell_type": "code",
      "metadata": {
        "colab": {
          "base_uri": "https://localhost:8080/"
        },
        "id": "L2VIJmyRUrtK",
        "outputId": "2814303f-3394-457d-c675-ecf310fd1797"
      },
      "source": [
        "calculate_evaluation_metrics(tn,fp,fn,tp)"
      ],
      "execution_count": 33,
      "outputs": [
        {
          "output_type": "stream",
          "text": [
            "Accuracy -  0.8148148148148148\n",
            "Sensitivity -  1.0\n",
            "Specificity -  0.009900990099009901\n"
          ],
          "name": "stdout"
        }
      ]
    },
    {
      "cell_type": "markdown",
      "metadata": {
        "id": "unTUSe9MgP_J"
      },
      "source": [
        "**Observation:**\r\n",
        "* Accuracy for logistic regression is 81.4%"
      ]
    },
    {
      "cell_type": "markdown",
      "metadata": {
        "id": "4N7yUozyWM8W"
      },
      "source": [
        "**Decision Tree Classifier**"
      ]
    },
    {
      "cell_type": "code",
      "metadata": {
        "id": "wA1_FRBhWKyG"
      },
      "source": [
        "model1 = {\r\n",
        "    'Decision Tree':{'model':DecisionTreeClassifier(),'params':{'criterion':['gini', 'entropy'],\r\n",
        "                                                                           'max_features':['auto','sqrt','log2',None]}}\r\n",
        "}"
      ],
      "execution_count": 34,
      "outputs": []
    },
    {
      "cell_type": "code",
      "metadata": {
        "colab": {
          "base_uri": "https://localhost:8080/",
          "height": 77
        },
        "id": "_6sdqKHIXAJg",
        "outputId": "f438cb44-57b0-48c1-e842-3bcbf4e95b78"
      },
      "source": [
        "result = hyper_parameters_tuning(model1,X_train,y_train)\r\n",
        "result"
      ],
      "execution_count": 35,
      "outputs": [
        {
          "output_type": "execute_result",
          "data": {
            "text/html": [
              "<div>\n",
              "<style scoped>\n",
              "    .dataframe tbody tr th:only-of-type {\n",
              "        vertical-align: middle;\n",
              "    }\n",
              "\n",
              "    .dataframe tbody tr th {\n",
              "        vertical-align: top;\n",
              "    }\n",
              "\n",
              "    .dataframe thead th {\n",
              "        text-align: right;\n",
              "    }\n",
              "</style>\n",
              "<table border=\"1\" class=\"dataframe\">\n",
              "  <thead>\n",
              "    <tr style=\"text-align: right;\">\n",
              "      <th></th>\n",
              "      <th>model</th>\n",
              "      <th>best_score</th>\n",
              "      <th>best_params</th>\n",
              "    </tr>\n",
              "  </thead>\n",
              "  <tbody>\n",
              "    <tr>\n",
              "      <th>0</th>\n",
              "      <td>Decision Tree</td>\n",
              "      <td>0.735229</td>\n",
              "      <td>{'criterion': 'entropy', 'max_features': None}</td>\n",
              "    </tr>\n",
              "  </tbody>\n",
              "</table>\n",
              "</div>"
            ],
            "text/plain": [
              "           model  best_score                                     best_params\n",
              "0  Decision Tree    0.735229  {'criterion': 'entropy', 'max_features': None}"
            ]
          },
          "metadata": {
            "tags": []
          },
          "execution_count": 35
        }
      ]
    },
    {
      "cell_type": "code",
      "metadata": {
        "colab": {
          "base_uri": "https://localhost:8080/"
        },
        "id": "Mt-BG59lXJ8B",
        "outputId": "ff8a7e87-ed82-4943-e9ab-e0f32ba6f73d"
      },
      "source": [
        "model1 = DecisionTreeClassifier(criterion='entropy',max_features='sqrt')\r\n",
        "model1.fit(X_train,y_train)\r\n",
        "ypred_dt = model1.predict(X_test)\r\n",
        "print(classification_report(y_test,ypred_dt))"
      ],
      "execution_count": 36,
      "outputs": [
        {
          "output_type": "stream",
          "text": [
            "              precision    recall  f1-score   support\n",
            "\n",
            "           0       0.34      0.36      0.35       202\n",
            "           1       0.85      0.84      0.85       878\n",
            "\n",
            "    accuracy                           0.75      1080\n",
            "   macro avg       0.60      0.60      0.60      1080\n",
            "weighted avg       0.76      0.75      0.75      1080\n",
            "\n"
          ],
          "name": "stdout"
        }
      ]
    },
    {
      "cell_type": "code",
      "metadata": {
        "colab": {
          "base_uri": "https://localhost:8080/"
        },
        "id": "Z-S_QpqIXbIL",
        "outputId": "ddea440a-283f-4783-9167-0c019a1249c8"
      },
      "source": [
        "tn, fp, fn, tp = confusion_matrix(y_test, ypred_dt).ravel()\r\n",
        "print(\"True Negative - \", tn)\r\n",
        "print(\"False Positive - \",fp)\r\n",
        "print(\"False Negative - \",fn)\r\n",
        "print(\"True Positive - \",tp)"
      ],
      "execution_count": 37,
      "outputs": [
        {
          "output_type": "stream",
          "text": [
            "True Negative -  73\n",
            "False Positive -  129\n",
            "False Negative -  141\n",
            "True Positive -  737\n"
          ],
          "name": "stdout"
        }
      ]
    },
    {
      "cell_type": "code",
      "metadata": {
        "colab": {
          "base_uri": "https://localhost:8080/",
          "height": 404
        },
        "id": "qabz8lzs_RoQ",
        "outputId": "4627265e-627f-4413-94f5-506d591ec974"
      },
      "source": [
        "y_score_dt = model1.predict_proba(X_test)[:,1]\r\n",
        "false_positive_rate1, true_positive_rate1, threshold1 = roc_curve(y_test, y_score_dt)\r\n",
        "plt.subplots(1, figsize=(6,6))\r\n",
        "plt.title('Receiver Operating Characteristic - Decision Tree')\r\n",
        "plt.plot(false_positive_rate1, true_positive_rate1)\r\n",
        "plt.plot([0, 1], ls=\"--\")\r\n",
        "plt.plot([0, 0], [1, 0] , c=\".7\"), plt.plot([1, 1] , c=\".7\")\r\n",
        "plt.ylabel('True Positive Rate')\r\n",
        "plt.xlabel('False Positive Rate')\r\n",
        "plt.show()"
      ],
      "execution_count": 38,
      "outputs": [
        {
          "output_type": "display_data",
          "data": {
            "image/png": "[encoded data removed]",
            "text/plain": [
              "<Figure size 432x432 with 1 Axes>"
            ]
          },
          "metadata": {
            "tags": [],
            "needs_background": "light"
          }
        }
      ]
    },
    {
      "cell_type": "code",
      "metadata": {
        "colab": {
          "base_uri": "https://localhost:8080/"
        },
        "id": "0jo233SPXgRp",
        "outputId": "58d620f9-b044-4053-a33f-6596eb3da67a"
      },
      "source": [
        "calculate_evaluation_metrics(tn,fp,fn,tp)"
      ],
      "execution_count": 39,
      "outputs": [
        {
          "output_type": "stream",
          "text": [
            "Accuracy -  0.75\n",
            "Sensitivity -  0.8394077448747153\n",
            "Specificity -  0.3613861386138614\n"
          ],
          "name": "stdout"
        }
      ]
    },
    {
      "cell_type": "markdown",
      "metadata": {
        "id": "BLFikSvugqoi"
      },
      "source": [
        "**Observation**\r\n",
        "* Accuracy of Decision tree classifier is 77.03%"
      ]
    },
    {
      "cell_type": "markdown",
      "metadata": {
        "id": "jWTbNeZGhE5I"
      },
      "source": [
        "**Random Forest**"
      ]
    },
    {
      "cell_type": "code",
      "metadata": {
        "id": "CR54z0ejg_vx"
      },
      "source": [
        "model2 = {\r\n",
        "    'Random forest':{'model':RandomForestClassifier(),'params':{'criterion':['gini', 'entropy'],\r\n",
        "                                                                           'max_features':['auto','sqrt','log2',None]}}\r\n",
        "}"
      ],
      "execution_count": 40,
      "outputs": []
    },
    {
      "cell_type": "code",
      "metadata": {
        "colab": {
          "base_uri": "https://localhost:8080/",
          "height": 77
        },
        "id": "smYkW5HIlpND",
        "outputId": "973e32cc-f0d4-43c3-a903-1687ac3ed0b2"
      },
      "source": [
        "result = hyper_parameters_tuning(model2,X_train,y_train)\r\n",
        "result"
      ],
      "execution_count": 41,
      "outputs": [
        {
          "output_type": "execute_result",
          "data": {
            "text/html": [
              "<div>\n",
              "<style scoped>\n",
              "    .dataframe tbody tr th:only-of-type {\n",
              "        vertical-align: middle;\n",
              "    }\n",
              "\n",
              "    .dataframe tbody tr th {\n",
              "        vertical-align: top;\n",
              "    }\n",
              "\n",
              "    .dataframe thead th {\n",
              "        text-align: right;\n",
              "    }\n",
              "</style>\n",
              "<table border=\"1\" class=\"dataframe\">\n",
              "  <thead>\n",
              "    <tr style=\"text-align: right;\">\n",
              "      <th></th>\n",
              "      <th>model</th>\n",
              "      <th>best_score</th>\n",
              "      <th>best_params</th>\n",
              "    </tr>\n",
              "  </thead>\n",
              "  <tbody>\n",
              "    <tr>\n",
              "      <th>0</th>\n",
              "      <td>Random forest</td>\n",
              "      <td>0.811785</td>\n",
              "      <td>{'criterion': 'gini', 'max_features': 'auto'}</td>\n",
              "    </tr>\n",
              "  </tbody>\n",
              "</table>\n",
              "</div>"
            ],
            "text/plain": [
              "           model  best_score                                    best_params\n",
              "0  Random forest    0.811785  {'criterion': 'gini', 'max_features': 'auto'}"
            ]
          },
          "metadata": {
            "tags": []
          },
          "execution_count": 41
        }
      ]
    },
    {
      "cell_type": "code",
      "metadata": {
        "colab": {
          "base_uri": "https://localhost:8080/"
        },
        "id": "aZsS-Jh6mpgX",
        "outputId": "a4c86523-01ae-4c96-aabc-c41ef152da79"
      },
      "source": [
        "model2 = RandomForestClassifier(criterion='entropy',max_features='auto',class_weight='balanced')\r\n",
        "model2.fit(X_train,y_train)\r\n",
        "ypred_rf = model2.predict(X_test)\r\n",
        "print(classification_report(y_test,ypred_rf))"
      ],
      "execution_count": 42,
      "outputs": [
        {
          "output_type": "stream",
          "text": [
            "              precision    recall  f1-score   support\n",
            "\n",
            "           0       0.55      0.20      0.30       202\n",
            "           1       0.84      0.96      0.90       878\n",
            "\n",
            "    accuracy                           0.82      1080\n",
            "   macro avg       0.70      0.58      0.60      1080\n",
            "weighted avg       0.79      0.82      0.78      1080\n",
            "\n"
          ],
          "name": "stdout"
        }
      ]
    },
    {
      "cell_type": "code",
      "metadata": {
        "colab": {
          "base_uri": "https://localhost:8080/"
        },
        "id": "eunm7QAzmvda",
        "outputId": "77439b4d-2e33-445b-d4e2-bd535d8f7879"
      },
      "source": [
        "tn, fp, fn, tp = confusion_matrix(y_test, ypred_rf).ravel()\r\n",
        "print(\"True Negative - \", tn)\r\n",
        "print(\"False Positive - \",fp)\r\n",
        "print(\"False Negative - \",fn)\r\n",
        "print(\"True Positive - \",tp)"
      ],
      "execution_count": 43,
      "outputs": [
        {
          "output_type": "stream",
          "text": [
            "True Negative -  41\n",
            "False Positive -  161\n",
            "False Negative -  33\n",
            "True Positive -  845\n"
          ],
          "name": "stdout"
        }
      ]
    },
    {
      "cell_type": "code",
      "metadata": {
        "colab": {
          "base_uri": "https://localhost:8080/"
        },
        "id": "QFYsPG3Dm0PW",
        "outputId": "ff832069-567d-471b-9015-93e571075fd4"
      },
      "source": [
        "calculate_evaluation_metrics(tn,fp,fn,tp)"
      ],
      "execution_count": 44,
      "outputs": [
        {
          "output_type": "stream",
          "text": [
            "Accuracy -  0.8203703703703704\n",
            "Sensitivity -  0.9624145785876993\n",
            "Specificity -  0.20297029702970298\n"
          ],
          "name": "stdout"
        }
      ]
    },
    {
      "cell_type": "code",
      "metadata": {
        "colab": {
          "base_uri": "https://localhost:8080/",
          "height": 404
        },
        "id": "IgCQA77J_nji",
        "outputId": "54468a76-31de-4ddd-e7cb-266d24511666"
      },
      "source": [
        "y_score_rf = model2.predict_proba(X_test)[:,1]\r\n",
        "false_positive_rate1, true_positive_rate1, threshold1 = roc_curve(y_test, y_score_rf)\r\n",
        "plt.subplots(1, figsize=(6,6))\r\n",
        "plt.title('Receiver Operating Characteristic - Random forest')\r\n",
        "plt.plot(false_positive_rate1, true_positive_rate1)\r\n",
        "plt.plot([0, 1], ls=\"--\")\r\n",
        "plt.plot([0, 0], [1, 0] , c=\".7\"), plt.plot([1, 1] , c=\".7\")\r\n",
        "plt.ylabel('True Positive Rate')\r\n",
        "plt.xlabel('False Positive Rate')\r\n",
        "plt.show()"
      ],
      "execution_count": 45,
      "outputs": [
        {
          "output_type": "display_data",
          "data": {
            "image/png": "[encoded data removed]",
            "text/plain": [
              "<Figure size 432x432 with 1 Axes>"
            ]
          },
          "metadata": {
            "tags": [],
            "needs_background": "light"
          }
        }
      ]
    },
    {
      "cell_type": "code",
      "metadata": {
        "id": "BRKiQgO9_nfM"
      },
      "source": [
        ""
      ],
      "execution_count": 45,
      "outputs": []
    },
    {
      "cell_type": "markdown",
      "metadata": {
        "id": "5BNgvMj6m6yz"
      },
      "source": [
        "**Observation**\r\n",
        "* Accuracy of Random forest model is 81.66%"
      ]
    },
    {
      "cell_type": "markdown",
      "metadata": {
        "id": "AD9Drs0znHy0"
      },
      "source": [
        "**Support Vector Machine**"
      ]
    },
    {
      "cell_type": "code",
      "metadata": {
        "id": "FBTXSb1VnFVz"
      },
      "source": [
        "model3 = {\r\n",
        "    'SVC':{'model':svm.SVC(kernel='rbf',gamma='auto'),'params':{'C': [1,10,20]}}\r\n",
        "}"
      ],
      "execution_count": 46,
      "outputs": []
    },
    {
      "cell_type": "code",
      "metadata": {
        "colab": {
          "base_uri": "https://localhost:8080/",
          "height": 77
        },
        "id": "SK1BcFFYqd6h",
        "outputId": "25f6985b-fcf4-4819-985f-08f5ad3af598"
      },
      "source": [
        "result = hyper_parameters_tuning(model3,X_train,y_train)\r\n",
        "result"
      ],
      "execution_count": 47,
      "outputs": [
        {
          "output_type": "execute_result",
          "data": {
            "text/html": [
              "<div>\n",
              "<style scoped>\n",
              "    .dataframe tbody tr th:only-of-type {\n",
              "        vertical-align: middle;\n",
              "    }\n",
              "\n",
              "    .dataframe tbody tr th {\n",
              "        vertical-align: top;\n",
              "    }\n",
              "\n",
              "    .dataframe thead th {\n",
              "        text-align: right;\n",
              "    }\n",
              "</style>\n",
              "<table border=\"1\" class=\"dataframe\">\n",
              "  <thead>\n",
              "    <tr style=\"text-align: right;\">\n",
              "      <th></th>\n",
              "      <th>model</th>\n",
              "      <th>best_score</th>\n",
              "      <th>best_params</th>\n",
              "    </tr>\n",
              "  </thead>\n",
              "  <tbody>\n",
              "    <tr>\n",
              "      <th>0</th>\n",
              "      <td>SVC</td>\n",
              "      <td>0.809244</td>\n",
              "      <td>{'C': 1}</td>\n",
              "    </tr>\n",
              "  </tbody>\n",
              "</table>\n",
              "</div>"
            ],
            "text/plain": [
              "  model  best_score best_params\n",
              "0   SVC    0.809244    {'C': 1}"
            ]
          },
          "metadata": {
            "tags": []
          },
          "execution_count": 47
        }
      ]
    },
    {
      "cell_type": "code",
      "metadata": {
        "colab": {
          "base_uri": "https://localhost:8080/"
        },
        "id": "Od8RLoberWd1",
        "outputId": "b33e2019-551d-44b4-a156-113b0c00e097"
      },
      "source": [
        "model3 = svm.SVC(kernel='rbf',gamma='scale',C=1)\r\n",
        "model3.fit(X_train,y_train)\r\n",
        "ypred_svc = model3.predict(X_test)\r\n",
        "print(classification_report(y_test,ypred_svc))"
      ],
      "execution_count": 48,
      "outputs": [
        {
          "output_type": "stream",
          "text": [
            "              precision    recall  f1-score   support\n",
            "\n",
            "           0       0.50      0.00      0.01       202\n",
            "           1       0.81      1.00      0.90       878\n",
            "\n",
            "    accuracy                           0.81      1080\n",
            "   macro avg       0.66      0.50      0.45      1080\n",
            "weighted avg       0.75      0.81      0.73      1080\n",
            "\n"
          ],
          "name": "stdout"
        }
      ]
    },
    {
      "cell_type": "code",
      "metadata": {
        "colab": {
          "base_uri": "https://localhost:8080/"
        },
        "id": "Tj1X63Dvr6xu",
        "outputId": "99ad95c2-a807-4db5-c9e9-7a4299e4d378"
      },
      "source": [
        "tn, fp, fn, tp = confusion_matrix(y_test, ypred_svc).ravel()\r\n",
        "print(\"True Negative - \", tn)\r\n",
        "print(\"False Positive - \",fp)\r\n",
        "print(\"False Negative - \",fn)\r\n",
        "print(\"True Positive - \",tp)"
      ],
      "execution_count": 49,
      "outputs": [
        {
          "output_type": "stream",
          "text": [
            "True Negative -  1\n",
            "False Positive -  201\n",
            "False Negative -  1\n",
            "True Positive -  877\n"
          ],
          "name": "stdout"
        }
      ]
    },
    {
      "cell_type": "code",
      "metadata": {
        "colab": {
          "base_uri": "https://localhost:8080/"
        },
        "id": "Ze29TonGr-ZE",
        "outputId": "940c30ca-6eb7-4993-e4a0-8f4c374cdd62"
      },
      "source": [
        "calculate_evaluation_metrics(tn,fp,fn,tp)"
      ],
      "execution_count": 50,
      "outputs": [
        {
          "output_type": "stream",
          "text": [
            "Accuracy -  0.812962962962963\n",
            "Sensitivity -  0.9988610478359908\n",
            "Specificity -  0.0049504950495049506\n"
          ],
          "name": "stdout"
        }
      ]
    },
    {
      "cell_type": "markdown",
      "metadata": {
        "id": "0F9hq9_psIBG"
      },
      "source": [
        "**XGBoost Classifier**"
      ]
    },
    {
      "cell_type": "code",
      "metadata": {
        "colab": {
          "base_uri": "https://localhost:8080/"
        },
        "id": "xltEMEJLiQNB",
        "outputId": "2aee135b-bcdf-4d02-8acb-9ef2048856ac"
      },
      "source": [
        "params = {\r\n",
        "   \"colsample_bytree\": uniform(0.3, 0.7),\r\n",
        "   \"min_child_weight\": [1,2,3,4],\r\n",
        "   \"learning_rate\": uniform(0.1, 0.5), # default 0.1 \r\n",
        "   \"max_depth\": randint(6, 9), # default 3\r\n",
        "   \"n_estimators\": randint(100, 300), # default 100\r\n",
        "   \"subsample\": uniform(0.6, 0.4)\r\n",
        "}\r\n",
        "xgbnew = xgb.XGBClassifier()\r\n",
        "\r\n",
        "search = RandomizedSearchCV(xgbnew, param_distributions=params, random_state=123, n_iter=100, cv=5, verbose=2, n_jobs=-1)\r\n",
        "\r\n",
        "search.fit(X_train, y_train)"
      ],
      "execution_count": 51,
      "outputs": [
        {
          "output_type": "stream",
          "text": [
            "Fitting 5 folds for each of 100 candidates, totalling 500 fits\n"
          ],
          "name": "stdout"
        },
        {
          "output_type": "stream",
          "text": [
            "[Parallel(n_jobs=-1)]: Using backend LokyBackend with 2 concurrent workers.\n",
            "[Parallel(n_jobs=-1)]: Done  37 tasks      | elapsed:   35.1s\n",
            "[Parallel(n_jobs=-1)]: Done 158 tasks      | elapsed:  2.4min\n",
            "[Parallel(n_jobs=-1)]: Done 361 tasks      | elapsed:  5.5min\n",
            "[Parallel(n_jobs=-1)]: Done 500 out of 500 | elapsed:  7.7min finished\n"
          ],
          "name": "stderr"
        },
        {
          "output_type": "execute_result",
          "data": {
            "text/plain": [
              "RandomizedSearchCV(cv=5, error_score=nan,\n",
              "                   estimator=XGBClassifier(base_score=0.5, booster='gbtree',\n",
              "                                           colsample_bylevel=1,\n",
              "                                           colsample_bynode=1,\n",
              "                                           colsample_bytree=1, gamma=0,\n",
              "                                           learning_rate=0.1, max_delta_step=0,\n",
              "                                           max_depth=3, min_child_weight=1,\n",
              "                                           missing=None, n_estimators=100,\n",
              "                                           n_jobs=1, nthread=None,\n",
              "                                           objective='binary:logistic',\n",
              "                                           random_state=0, reg_alpha=0,\n",
              "                                           reg_lambda=1, sc...\n",
              "                                        'max_depth': <scipy.stats._distn_infrastructure.rv_frozen object at 0x7ff644c17630>,\n",
              "                                        'min_child_weight': [1, 2, 3, 4],\n",
              "                                        'n_estimators': <scipy.stats._distn_infrastructure.rv_frozen object at 0x7ff644c17cc0>,\n",
              "                                        'subsample': <scipy.stats._distn_infrastructure.rv_frozen object at 0x7ff644c17710>},\n",
              "                   pre_dispatch='2*n_jobs', random_state=123, refit=True,\n",
              "                   return_train_score=False, scoring=None, verbose=2)"
            ]
          },
          "metadata": {
            "tags": []
          },
          "execution_count": 51
        }
      ]
    },
    {
      "cell_type": "code",
      "metadata": {
        "id": "5CXCFbawpM99"
      },
      "source": [
        "xgboost_model=search.best_estimator_"
      ],
      "execution_count": 52,
      "outputs": []
    },
    {
      "cell_type": "code",
      "metadata": {
        "colab": {
          "base_uri": "https://localhost:8080/"
        },
        "id": "jOHapdh1k2L7",
        "outputId": "b51882f9-b5de-420c-dd6b-42b23f16260f"
      },
      "source": [
        "ypred_xgb = xgboost_model.predict(X_test)\r\n",
        "print(classification_report(y_test,ypred_xgb))"
      ],
      "execution_count": 53,
      "outputs": [
        {
          "output_type": "stream",
          "text": [
            "              precision    recall  f1-score   support\n",
            "\n",
            "           0       0.67      0.21      0.32       202\n",
            "           1       0.84      0.98      0.90       878\n",
            "\n",
            "    accuracy                           0.83      1080\n",
            "   macro avg       0.75      0.59      0.61      1080\n",
            "weighted avg       0.81      0.83      0.79      1080\n",
            "\n"
          ],
          "name": "stdout"
        }
      ]
    },
    {
      "cell_type": "code",
      "metadata": {
        "colab": {
          "base_uri": "https://localhost:8080/"
        },
        "id": "99QVildq7lKX",
        "outputId": "a5de477f-48f0-41d3-ace2-34a5de811c56"
      },
      "source": [
        "tn, fp, fn, tp = confusion_matrix(y_test, ypred_xgb).ravel()\r\n",
        "print(\"True Negative - \", tn)\r\n",
        "print(\"False Positive - \",fp)\r\n",
        "print(\"False Negative - \",fn)\r\n",
        "print(\"True Positive - \",tp)"
      ],
      "execution_count": 54,
      "outputs": [
        {
          "output_type": "stream",
          "text": [
            "True Negative -  42\n",
            "False Positive -  160\n",
            "False Negative -  21\n",
            "True Positive -  857\n"
          ],
          "name": "stdout"
        }
      ]
    },
    {
      "cell_type": "code",
      "metadata": {
        "colab": {
          "base_uri": "https://localhost:8080/"
        },
        "id": "p5nlY7D87m2B",
        "outputId": "6c7226e3-6f19-4f2c-d0f6-0115a5de27b4"
      },
      "source": [
        "calculate_evaluation_metrics(tn,fp,fn,tp)"
      ],
      "execution_count": 55,
      "outputs": [
        {
          "output_type": "stream",
          "text": [
            "Accuracy -  0.8324074074074074\n",
            "Sensitivity -  0.9760820045558086\n",
            "Specificity -  0.2079207920792079\n"
          ],
          "name": "stdout"
        }
      ]
    },
    {
      "cell_type": "code",
      "metadata": {
        "colab": {
          "base_uri": "https://localhost:8080/",
          "height": 312
        },
        "id": "qA-zaNKTBK4S",
        "outputId": "b371e8d4-7fab-4ff7-9ed4-f6502c145ef3"
      },
      "source": [
        "plot_importance(xgboost_model)"
      ],
      "execution_count": 57,
      "outputs": [
        {
          "output_type": "execute_result",
          "data": {
            "text/plain": [
              "<matplotlib.axes._subplots.AxesSubplot at 0x7ff644b8d320>"
            ]
          },
          "metadata": {
            "tags": []
          },
          "execution_count": 57
        },
        {
          "output_type": "display_data",
          "data": {
            "image/png": "[encoded data removed]",
            "text/plain": [
              "<Figure size 432x288 with 1 Axes>"
            ]
          },
          "metadata": {
            "tags": [],
            "needs_background": "light"
          }
        }
      ]
    },
    {
      "cell_type": "code",
      "metadata": {
        "colab": {
          "base_uri": "https://localhost:8080/",
          "height": 404
        },
        "id": "kBtQbrliAEP4",
        "outputId": "fc23e056-f5a1-49bd-c47a-0c4276199851"
      },
      "source": [
        "y_score_xg = xgboost_model.predict_proba(X_test)[:,1]\r\n",
        "false_positive_rate1, true_positive_rate1, threshold1 = roc_curve(y_test, y_score_xg)\r\n",
        "plt.subplots(1, figsize=(6,6))\r\n",
        "plt.title('Receiver Operating Characteristic - XGboost classifier')\r\n",
        "plt.plot(false_positive_rate1, true_positive_rate1)\r\n",
        "plt.plot([0, 1], ls=\"--\")\r\n",
        "plt.plot([0, 0], [1, 0] , c=\".7\"), plt.plot([1, 1] , c=\".7\")\r\n",
        "plt.ylabel('True Positive Rate')\r\n",
        "plt.xlabel('False Positive Rate')\r\n",
        "plt.show()"
      ],
      "execution_count": 58,
      "outputs": [
        {
          "output_type": "display_data",
          "data": {
            "image/png": "[encoded data removed]",
            "text/plain": [
              "<Figure size 432x432 with 1 Axes>"
            ]
          },
          "metadata": {
            "tags": [],
            "needs_background": "light"
          }
        }
      ]
    },
    {
      "cell_type": "markdown",
      "metadata": {
        "id": "Z_5lJGgar57U"
      },
      "source": [
        "# Predicting test submission file"
      ]
    },
    {
      "cell_type": "code",
      "metadata": {
        "id": "DAALflMBRf2X"
      },
      "source": [
        "test_data = pd.read_csv(\"Test Data_submission.csv\")\r\n",
        "test_data.drop(['SLNO','Candidate Ref','Location'],axis=1,inplace=True)\r\n",
        "offered_bands = {\"Offered band\":{\"E0\":1,\"E1\":2,\"E2\":3,\"E3\":4}}\r\n",
        "test_data.replace(offered_bands,inplace=True)\r\n",
        "test_data_encoded = pd.get_dummies(test_data,drop_first=True)\r\n",
        "test_data_encoded1 = test_data_encoded.drop(['Pecent hike expected in CTC','Percent hike offered in CTC','LOB_MMS','Status'],axis=1)"
      ],
      "execution_count": 59,
      "outputs": []
    },
    {
      "cell_type": "code",
      "metadata": {
        "colab": {
          "base_uri": "https://localhost:8080/"
        },
        "id": "RAiPnGkJDPvg",
        "outputId": "21f6a1c6-de61-4552-f1f9-13ab9b0537c5"
      },
      "source": [
        "test_data_encoded1.shape"
      ],
      "execution_count": 60,
      "outputs": [
        {
          "output_type": "execute_result",
          "data": {
            "text/plain": [
              "(2699, 19)"
            ]
          },
          "metadata": {
            "tags": []
          },
          "execution_count": 60
        }
      ]
    },
    {
      "cell_type": "code",
      "metadata": {
        "id": "FZkgaFFu-MwA"
      },
      "source": [
        "pred_submission = xgboost_model.predict(test_data_encoded1)"
      ],
      "execution_count": 61,
      "outputs": []
    },
    {
      "cell_type": "code",
      "metadata": {
        "colab": {
          "base_uri": "https://localhost:8080/",
          "height": 195
        },
        "id": "0685LHIcEHTx",
        "outputId": "e721ff9b-66c7-4b02-f76b-48b404af72c2"
      },
      "source": [
        "result_submission = pd.DataFrame(pred_submission,columns=['Status'])\r\n",
        "result_submission.head()"
      ],
      "execution_count": 62,
      "outputs": [
        {
          "output_type": "execute_result",
          "data": {
            "text/html": [
              "<div>\n",
              "<style scoped>\n",
              "    .dataframe tbody tr th:only-of-type {\n",
              "        vertical-align: middle;\n",
              "    }\n",
              "\n",
              "    .dataframe tbody tr th {\n",
              "        vertical-align: top;\n",
              "    }\n",
              "\n",
              "    .dataframe thead th {\n",
              "        text-align: right;\n",
              "    }\n",
              "</style>\n",
              "<table border=\"1\" class=\"dataframe\">\n",
              "  <thead>\n",
              "    <tr style=\"text-align: right;\">\n",
              "      <th></th>\n",
              "      <th>Status</th>\n",
              "    </tr>\n",
              "  </thead>\n",
              "  <tbody>\n",
              "    <tr>\n",
              "      <th>0</th>\n",
              "      <td>1</td>\n",
              "    </tr>\n",
              "    <tr>\n",
              "      <th>1</th>\n",
              "      <td>1</td>\n",
              "    </tr>\n",
              "    <tr>\n",
              "      <th>2</th>\n",
              "      <td>1</td>\n",
              "    </tr>\n",
              "    <tr>\n",
              "      <th>3</th>\n",
              "      <td>0</td>\n",
              "    </tr>\n",
              "    <tr>\n",
              "      <th>4</th>\n",
              "      <td>1</td>\n",
              "    </tr>\n",
              "  </tbody>\n",
              "</table>\n",
              "</div>"
            ],
            "text/plain": [
              "   Status\n",
              "0       1\n",
              "1       1\n",
              "2       1\n",
              "3       0\n",
              "4       1"
            ]
          },
          "metadata": {
            "tags": []
          },
          "execution_count": 62
        }
      ]
    },
    {
      "cell_type": "code",
      "metadata": {
        "id": "tcKpagYL-nKR"
      },
      "source": [
        "#Decoding the target variable\r\n",
        "result_submission['Status'] = np.where(result_submission['Status'] == 1, 'Joined', 'Not Joined')"
      ],
      "execution_count": 63,
      "outputs": []
    },
    {
      "cell_type": "code",
      "metadata": {
        "colab": {
          "base_uri": "https://localhost:8080/",
          "height": 195
        },
        "id": "i3Npcx_TDUPo",
        "outputId": "60c2ccd6-3d06-4fc5-d76d-b8ff51cef9f3"
      },
      "source": [
        "result_submission.head()"
      ],
      "execution_count": 64,
      "outputs": [
        {
          "output_type": "execute_result",
          "data": {
            "text/html": [
              "<div>\n",
              "<style scoped>\n",
              "    .dataframe tbody tr th:only-of-type {\n",
              "        vertical-align: middle;\n",
              "    }\n",
              "\n",
              "    .dataframe tbody tr th {\n",
              "        vertical-align: top;\n",
              "    }\n",
              "\n",
              "    .dataframe thead th {\n",
              "        text-align: right;\n",
              "    }\n",
              "</style>\n",
              "<table border=\"1\" class=\"dataframe\">\n",
              "  <thead>\n",
              "    <tr style=\"text-align: right;\">\n",
              "      <th></th>\n",
              "      <th>Status</th>\n",
              "    </tr>\n",
              "  </thead>\n",
              "  <tbody>\n",
              "    <tr>\n",
              "      <th>0</th>\n",
              "      <td>Joined</td>\n",
              "    </tr>\n",
              "    <tr>\n",
              "      <th>1</th>\n",
              "      <td>Joined</td>\n",
              "    </tr>\n",
              "    <tr>\n",
              "      <th>2</th>\n",
              "      <td>Joined</td>\n",
              "    </tr>\n",
              "    <tr>\n",
              "      <th>3</th>\n",
              "      <td>Not Joined</td>\n",
              "    </tr>\n",
              "    <tr>\n",
              "      <th>4</th>\n",
              "      <td>Joined</td>\n",
              "    </tr>\n",
              "  </tbody>\n",
              "</table>\n",
              "</div>"
            ],
            "text/plain": [
              "       Status\n",
              "0      Joined\n",
              "1      Joined\n",
              "2      Joined\n",
              "3  Not Joined\n",
              "4      Joined"
            ]
          },
          "metadata": {
            "tags": []
          },
          "execution_count": 64
        }
      ]
    },
    {
      "cell_type": "code",
      "metadata": {
        "id": "dIEJgcmaAjKE"
      },
      "source": [
        "final_submission = pd.read_csv(\"Test Data_submission.csv\")\r\n",
        "final_submission.drop(['Status'],axis=1,inplace=True)"
      ],
      "execution_count": 65,
      "outputs": []
    },
    {
      "cell_type": "code",
      "metadata": {
        "colab": {
          "base_uri": "https://localhost:8080/"
        },
        "id": "zWeWbSI_BMKG",
        "outputId": "9071b23b-fabc-48f4-efac-29f2af503c4e"
      },
      "source": [
        "final_submission.shape"
      ],
      "execution_count": 66,
      "outputs": [
        {
          "output_type": "execute_result",
          "data": {
            "text/plain": [
              "(2699, 17)"
            ]
          },
          "metadata": {
            "tags": []
          },
          "execution_count": 66
        }
      ]
    },
    {
      "cell_type": "code",
      "metadata": {
        "colab": {
          "base_uri": "https://localhost:8080/"
        },
        "id": "GSGHLC1OBRoI",
        "outputId": "ec1a05cb-3957-4efc-d4c9-140be27f64b4"
      },
      "source": [
        "result_submission.shape"
      ],
      "execution_count": 67,
      "outputs": [
        {
          "output_type": "execute_result",
          "data": {
            "text/plain": [
              "(2699, 1)"
            ]
          },
          "metadata": {
            "tags": []
          },
          "execution_count": 67
        }
      ]
    },
    {
      "cell_type": "code",
      "metadata": {
        "colab": {
          "base_uri": "https://localhost:8080/",
          "height": 333
        },
        "id": "5EVoV63_BFhr",
        "outputId": "52d578ed-3768-4f7e-feb3-91c0e384600b"
      },
      "source": [
        "final_submission_1 = pd.concat([final_submission, result_submission], axis=1)\r\n",
        "final_submission_1.head()"
      ],
      "execution_count": 68,
      "outputs": [
        {
          "output_type": "execute_result",
          "data": {
            "text/html": [
              "<div>\n",
              "<style scoped>\n",
              "    .dataframe tbody tr th:only-of-type {\n",
              "        vertical-align: middle;\n",
              "    }\n",
              "\n",
              "    .dataframe tbody tr th {\n",
              "        vertical-align: top;\n",
              "    }\n",
              "\n",
              "    .dataframe thead th {\n",
              "        text-align: right;\n",
              "    }\n",
              "</style>\n",
              "<table border=\"1\" class=\"dataframe\">\n",
              "  <thead>\n",
              "    <tr style=\"text-align: right;\">\n",
              "      <th></th>\n",
              "      <th>SLNO</th>\n",
              "      <th>Candidate Ref</th>\n",
              "      <th>DOJ Extended</th>\n",
              "      <th>Duration to accept offer</th>\n",
              "      <th>Notice period</th>\n",
              "      <th>Offered band</th>\n",
              "      <th>Pecent hike expected in CTC</th>\n",
              "      <th>Percent hike offered in CTC</th>\n",
              "      <th>Percent difference CTC</th>\n",
              "      <th>Joining Bonus</th>\n",
              "      <th>Candidate relocate actual</th>\n",
              "      <th>Gender</th>\n",
              "      <th>Candidate Source</th>\n",
              "      <th>Rex in Yrs</th>\n",
              "      <th>LOB</th>\n",
              "      <th>Location</th>\n",
              "      <th>Age</th>\n",
              "      <th>Status</th>\n",
              "    </tr>\n",
              "  </thead>\n",
              "  <tbody>\n",
              "    <tr>\n",
              "      <th>0</th>\n",
              "      <td>2</td>\n",
              "      <td>2112635</td>\n",
              "      <td>No</td>\n",
              "      <td>18</td>\n",
              "      <td>30</td>\n",
              "      <td>E2</td>\n",
              "      <td>50.00</td>\n",
              "      <td>320.00</td>\n",
              "      <td>180.0</td>\n",
              "      <td>No</td>\n",
              "      <td>No</td>\n",
              "      <td>Male</td>\n",
              "      <td>Employee Referral</td>\n",
              "      <td>8</td>\n",
              "      <td>INFRA</td>\n",
              "      <td>Chennai</td>\n",
              "      <td>34</td>\n",
              "      <td>Joined</td>\n",
              "    </tr>\n",
              "    <tr>\n",
              "      <th>1</th>\n",
              "      <td>7</td>\n",
              "      <td>2119124</td>\n",
              "      <td>Yes</td>\n",
              "      <td>37</td>\n",
              "      <td>30</td>\n",
              "      <td>E2</td>\n",
              "      <td>31.58</td>\n",
              "      <td>31.58</td>\n",
              "      <td>0.0</td>\n",
              "      <td>No</td>\n",
              "      <td>No</td>\n",
              "      <td>Male</td>\n",
              "      <td>Employee Referral</td>\n",
              "      <td>7</td>\n",
              "      <td>INFRA</td>\n",
              "      <td>Noida</td>\n",
              "      <td>32</td>\n",
              "      <td>Joined</td>\n",
              "    </tr>\n",
              "    <tr>\n",
              "      <th>2</th>\n",
              "      <td>14</td>\n",
              "      <td>2154264</td>\n",
              "      <td>No</td>\n",
              "      <td>3</td>\n",
              "      <td>0</td>\n",
              "      <td>E2</td>\n",
              "      <td>28.21</td>\n",
              "      <td>37.18</td>\n",
              "      <td>7.0</td>\n",
              "      <td>No</td>\n",
              "      <td>No</td>\n",
              "      <td>Male</td>\n",
              "      <td>Employee Referral</td>\n",
              "      <td>7</td>\n",
              "      <td>INFRA</td>\n",
              "      <td>Chennai</td>\n",
              "      <td>34</td>\n",
              "      <td>Joined</td>\n",
              "    </tr>\n",
              "    <tr>\n",
              "      <th>3</th>\n",
              "      <td>16</td>\n",
              "      <td>2158703</td>\n",
              "      <td>No</td>\n",
              "      <td>44</td>\n",
              "      <td>75</td>\n",
              "      <td>E2</td>\n",
              "      <td>45.45</td>\n",
              "      <td>60.00</td>\n",
              "      <td>10.0</td>\n",
              "      <td>No</td>\n",
              "      <td>No</td>\n",
              "      <td>Male</td>\n",
              "      <td>Direct</td>\n",
              "      <td>8</td>\n",
              "      <td>INFRA</td>\n",
              "      <td>Noida</td>\n",
              "      <td>34</td>\n",
              "      <td>Not Joined</td>\n",
              "    </tr>\n",
              "    <tr>\n",
              "      <th>4</th>\n",
              "      <td>20</td>\n",
              "      <td>2172982</td>\n",
              "      <td>No</td>\n",
              "      <td>1</td>\n",
              "      <td>0</td>\n",
              "      <td>E2</td>\n",
              "      <td>30.00</td>\n",
              "      <td>30.00</td>\n",
              "      <td>0.0</td>\n",
              "      <td>No</td>\n",
              "      <td>No</td>\n",
              "      <td>Male</td>\n",
              "      <td>Direct</td>\n",
              "      <td>6</td>\n",
              "      <td>INFRA</td>\n",
              "      <td>Noida</td>\n",
              "      <td>34</td>\n",
              "      <td>Joined</td>\n",
              "    </tr>\n",
              "  </tbody>\n",
              "</table>\n",
              "</div>"
            ],
            "text/plain": [
              "   SLNO  Candidate Ref DOJ Extended  ...  Location  Age      Status\n",
              "0     2        2112635           No  ...   Chennai   34      Joined\n",
              "1     7        2119124          Yes  ...     Noida   32      Joined\n",
              "2    14        2154264           No  ...   Chennai   34      Joined\n",
              "3    16        2158703           No  ...     Noida   34  Not Joined\n",
              "4    20        2172982           No  ...     Noida   34      Joined\n",
              "\n",
              "[5 rows x 18 columns]"
            ]
          },
          "metadata": {
            "tags": []
          },
          "execution_count": 68
        }
      ]
    },
    {
      "cell_type": "code",
      "metadata": {
        "colab": {
          "base_uri": "https://localhost:8080/",
          "height": 195
        },
        "id": "2mNUGrXGBpro",
        "outputId": "eb05f257-a863-4a2b-8e00-9521a28508ab"
      },
      "source": [
        "final_submission_2 = final_submission_1[['Candidate Ref','Status']]\r\n",
        "final_submission_2.head()"
      ],
      "execution_count": 69,
      "outputs": [
        {
          "output_type": "execute_result",
          "data": {
            "text/html": [
              "<div>\n",
              "<style scoped>\n",
              "    .dataframe tbody tr th:only-of-type {\n",
              "        vertical-align: middle;\n",
              "    }\n",
              "\n",
              "    .dataframe tbody tr th {\n",
              "        vertical-align: top;\n",
              "    }\n",
              "\n",
              "    .dataframe thead th {\n",
              "        text-align: right;\n",
              "    }\n",
              "</style>\n",
              "<table border=\"1\" class=\"dataframe\">\n",
              "  <thead>\n",
              "    <tr style=\"text-align: right;\">\n",
              "      <th></th>\n",
              "      <th>Candidate Ref</th>\n",
              "      <th>Status</th>\n",
              "    </tr>\n",
              "  </thead>\n",
              "  <tbody>\n",
              "    <tr>\n",
              "      <th>0</th>\n",
              "      <td>2112635</td>\n",
              "      <td>Joined</td>\n",
              "    </tr>\n",
              "    <tr>\n",
              "      <th>1</th>\n",
              "      <td>2119124</td>\n",
              "      <td>Joined</td>\n",
              "    </tr>\n",
              "    <tr>\n",
              "      <th>2</th>\n",
              "      <td>2154264</td>\n",
              "      <td>Joined</td>\n",
              "    </tr>\n",
              "    <tr>\n",
              "      <th>3</th>\n",
              "      <td>2158703</td>\n",
              "      <td>Not Joined</td>\n",
              "    </tr>\n",
              "    <tr>\n",
              "      <th>4</th>\n",
              "      <td>2172982</td>\n",
              "      <td>Joined</td>\n",
              "    </tr>\n",
              "  </tbody>\n",
              "</table>\n",
              "</div>"
            ],
            "text/plain": [
              "   Candidate Ref      Status\n",
              "0        2112635      Joined\n",
              "1        2119124      Joined\n",
              "2        2154264      Joined\n",
              "3        2158703  Not Joined\n",
              "4        2172982      Joined"
            ]
          },
          "metadata": {
            "tags": []
          },
          "execution_count": 69
        }
      ]
    },
    {
      "cell_type": "code",
      "metadata": {
        "id": "IasgQdNeB3of"
      },
      "source": [
        "final_submission_2.to_csv(\"Test Data (Submission).csv\")"
      ],
      "execution_count": 70,
      "outputs": []
    }
  ]
}